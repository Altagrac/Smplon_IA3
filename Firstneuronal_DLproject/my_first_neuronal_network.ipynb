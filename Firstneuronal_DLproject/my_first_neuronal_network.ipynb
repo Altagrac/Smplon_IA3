{
 "cells": [
  {
   "attachments": {},
   "cell_type": "markdown",
   "id": "clean-blogger",
   "metadata": {},
   "source": [
    "# Mon 1er Réseau Neuronal"
   ]
  },
  {
   "attachments": {},
   "cell_type": "markdown",
   "id": "sonic-screen",
   "metadata": {},
   "source": [
    "<img src=\"https://www.tibco.com/sites/tibco/files/media_entity/2021-05/neutral-network-diagram.svg\">"
   ]
  },
  {
   "attachments": {},
   "cell_type": "markdown",
   "id": "ambient-dispatch",
   "metadata": {},
   "source": [
    "## Description: \n",
    "- Choisir un Dataset simple et clean. \n",
    "- Choisir de faire une régression ou classification. \n",
    "- Construire le réseau neuronal avec l'exemple suivant. \n",
    "- Les hidden layers pourrons avoir des fonctions d'activation \"relu\"."
   ]
  },
  {
   "attachments": {},
   "cell_type": "markdown",
   "id": "involved-latin",
   "metadata": {},
   "source": [
    "## Rendu: \n",
    "- Présentation schematique du réseau neuronal\n",
    "- Présentation du notebook\n",
    "    - La construction du réseau\n",
    "    - Les résultats obtenus\n",
    "    - Le scoring"
   ]
  },
  {
   "attachments": {},
   "cell_type": "markdown",
   "id": "3ba1d487",
   "metadata": {},
   "source": [
    "### **Environnement: installation des packages**"
   ]
  },
  {
   "cell_type": "code",
   "execution_count": 1,
   "id": "bored-wagon",
   "metadata": {},
   "outputs": [],
   "source": [
    "# !pip install tensorflow\n",
    "import numpy as np\n",
    "import pandas as pd\n",
    "import seaborn as sns\n",
    "import pickle\n",
    "import warnings\n",
    "import matplotlib.pyplot as plt\n",
    "from codes_pkges.opersfunctions import*\n",
    "from codes_pkges.functions import *\n",
    "from sklearn.metrics import classification_report, accuracy_score,confusion_matrix\n",
    "from sklearn.linear_model import LinearRegression\n",
    "from sklearn.neighbors import KNeighborsClassifier\n",
    "from sklearn.preprocessing import OneHotEncoder, MinMaxScaler, StandardScaler\n",
    "from sklearn.metrics import accuracy_score, mean_squared_error\n",
    "from sklearn.compose import ColumnTransformer, make_column_selector,make_column_transformer\n",
    "from sklearn.impute import SimpleImputer\n",
    "from sklearn.model_selection import cross_validate, cross_val_score, train_test_split\n",
    "from sklearn.pipeline import Pipeline, make_pipeline\n",
    "from sklearn import set_config\n",
    "set_config(display='diagram')\n",
    "warnings.filterwarnings('ignore')"
   ]
  },
  {
   "attachments": {},
   "cell_type": "markdown",
   "id": "9a6c5fbe",
   "metadata": {},
   "source": [
    "- **Choix du dataset simple & clean**"
   ]
  },
  {
   "cell_type": "code",
   "execution_count": 18,
   "id": "d51f75b5",
   "metadata": {},
   "outputs": [
    {
     "data": {
      "text/plain": [
       "\"Il n'y a pas de valeurs manquantes dans le dataset.\""
      ]
     },
     "execution_count": 18,
     "metadata": {},
     "output_type": "execute_result"
    }
   ],
   "source": [
    "data = sns.load_dataset(\"diamonds\")\n",
    "check_missing_values(data)"
   ]
  },
  {
   "cell_type": "code",
   "execution_count": 45,
   "id": "f9b6b61d",
   "metadata": {},
   "outputs": [
    {
     "name": "stdout",
     "output_type": "stream",
     "text": [
      "This dataset contains:\n",
      "--> 53940 lignes\n",
      "--> 10 colones\n",
      "--> RangeIndex(start=0, stop=53940, step=1)\n"
     ]
    }
   ],
   "source": [
    "shape(data)"
   ]
  },
  {
   "cell_type": "code",
   "execution_count": 46,
   "id": "69bc6827",
   "metadata": {},
   "outputs": [
    {
     "data": {
      "text/html": [
       "<div>\n",
       "<style scoped>\n",
       "    .dataframe tbody tr th:only-of-type {\n",
       "        vertical-align: middle;\n",
       "    }\n",
       "\n",
       "    .dataframe tbody tr th {\n",
       "        vertical-align: top;\n",
       "    }\n",
       "\n",
       "    .dataframe thead th {\n",
       "        text-align: right;\n",
       "    }\n",
       "</style>\n",
       "<table border=\"1\" class=\"dataframe\">\n",
       "  <thead>\n",
       "    <tr style=\"text-align: right;\">\n",
       "      <th></th>\n",
       "      <th>mean</th>\n",
       "      <th>25%</th>\n",
       "      <th>50%</th>\n",
       "      <th>75%</th>\n",
       "      <th>count</th>\n",
       "    </tr>\n",
       "  </thead>\n",
       "  <tbody>\n",
       "    <tr>\n",
       "      <th>carat</th>\n",
       "      <td>0.797940</td>\n",
       "      <td>0.40</td>\n",
       "      <td>0.70</td>\n",
       "      <td>1.04</td>\n",
       "      <td>53940.0</td>\n",
       "    </tr>\n",
       "    <tr>\n",
       "      <th>depth</th>\n",
       "      <td>61.749405</td>\n",
       "      <td>61.00</td>\n",
       "      <td>61.80</td>\n",
       "      <td>62.50</td>\n",
       "      <td>53940.0</td>\n",
       "    </tr>\n",
       "    <tr>\n",
       "      <th>table</th>\n",
       "      <td>57.457184</td>\n",
       "      <td>56.00</td>\n",
       "      <td>57.00</td>\n",
       "      <td>59.00</td>\n",
       "      <td>53940.0</td>\n",
       "    </tr>\n",
       "    <tr>\n",
       "      <th>price</th>\n",
       "      <td>3932.799722</td>\n",
       "      <td>950.00</td>\n",
       "      <td>2401.00</td>\n",
       "      <td>5324.25</td>\n",
       "      <td>53940.0</td>\n",
       "    </tr>\n",
       "    <tr>\n",
       "      <th>x</th>\n",
       "      <td>5.731157</td>\n",
       "      <td>4.71</td>\n",
       "      <td>5.70</td>\n",
       "      <td>6.54</td>\n",
       "      <td>53940.0</td>\n",
       "    </tr>\n",
       "    <tr>\n",
       "      <th>y</th>\n",
       "      <td>5.734526</td>\n",
       "      <td>4.72</td>\n",
       "      <td>5.71</td>\n",
       "      <td>6.54</td>\n",
       "      <td>53940.0</td>\n",
       "    </tr>\n",
       "    <tr>\n",
       "      <th>z</th>\n",
       "      <td>3.538734</td>\n",
       "      <td>2.91</td>\n",
       "      <td>3.53</td>\n",
       "      <td>4.04</td>\n",
       "      <td>53940.0</td>\n",
       "    </tr>\n",
       "  </tbody>\n",
       "</table>\n",
       "</div>"
      ],
      "text/plain": [
       "              mean     25%      50%      75%    count\n",
       "carat     0.797940    0.40     0.70     1.04  53940.0\n",
       "depth    61.749405   61.00    61.80    62.50  53940.0\n",
       "table    57.457184   56.00    57.00    59.00  53940.0\n",
       "price  3932.799722  950.00  2401.00  5324.25  53940.0\n",
       "x         5.731157    4.71     5.70     6.54  53940.0\n",
       "y         5.734526    4.72     5.71     6.54  53940.0\n",
       "z         3.538734    2.91     3.53     4.04  53940.0"
      ]
     },
     "execution_count": 46,
     "metadata": {},
     "output_type": "execute_result"
    }
   ],
   "source": [
    "stats(data)"
   ]
  },
  {
   "cell_type": "code",
   "execution_count": 19,
   "id": "53503839",
   "metadata": {},
   "outputs": [
    {
     "data": {
      "text/html": [
       "<div>\n",
       "<style scoped>\n",
       "    .dataframe tbody tr th:only-of-type {\n",
       "        vertical-align: middle;\n",
       "    }\n",
       "\n",
       "    .dataframe tbody tr th {\n",
       "        vertical-align: top;\n",
       "    }\n",
       "\n",
       "    .dataframe thead th {\n",
       "        text-align: right;\n",
       "    }\n",
       "</style>\n",
       "<table border=\"1\" class=\"dataframe\">\n",
       "  <thead>\n",
       "    <tr style=\"text-align: right;\">\n",
       "      <th></th>\n",
       "      <th>carat</th>\n",
       "      <th>cut</th>\n",
       "      <th>color</th>\n",
       "      <th>clarity</th>\n",
       "      <th>depth</th>\n",
       "      <th>table</th>\n",
       "      <th>price</th>\n",
       "      <th>x</th>\n",
       "      <th>y</th>\n",
       "      <th>z</th>\n",
       "    </tr>\n",
       "  </thead>\n",
       "  <tbody>\n",
       "    <tr>\n",
       "      <th>0</th>\n",
       "      <td>0.23</td>\n",
       "      <td>Ideal</td>\n",
       "      <td>E</td>\n",
       "      <td>SI2</td>\n",
       "      <td>61.5</td>\n",
       "      <td>55.0</td>\n",
       "      <td>326</td>\n",
       "      <td>3.95</td>\n",
       "      <td>3.98</td>\n",
       "      <td>2.43</td>\n",
       "    </tr>\n",
       "    <tr>\n",
       "      <th>1</th>\n",
       "      <td>0.21</td>\n",
       "      <td>Premium</td>\n",
       "      <td>E</td>\n",
       "      <td>SI1</td>\n",
       "      <td>59.8</td>\n",
       "      <td>61.0</td>\n",
       "      <td>326</td>\n",
       "      <td>3.89</td>\n",
       "      <td>3.84</td>\n",
       "      <td>2.31</td>\n",
       "    </tr>\n",
       "    <tr>\n",
       "      <th>2</th>\n",
       "      <td>0.23</td>\n",
       "      <td>Good</td>\n",
       "      <td>E</td>\n",
       "      <td>VS1</td>\n",
       "      <td>56.9</td>\n",
       "      <td>65.0</td>\n",
       "      <td>327</td>\n",
       "      <td>4.05</td>\n",
       "      <td>4.07</td>\n",
       "      <td>2.31</td>\n",
       "    </tr>\n",
       "    <tr>\n",
       "      <th>3</th>\n",
       "      <td>0.29</td>\n",
       "      <td>Premium</td>\n",
       "      <td>I</td>\n",
       "      <td>VS2</td>\n",
       "      <td>62.4</td>\n",
       "      <td>58.0</td>\n",
       "      <td>334</td>\n",
       "      <td>4.20</td>\n",
       "      <td>4.23</td>\n",
       "      <td>2.63</td>\n",
       "    </tr>\n",
       "    <tr>\n",
       "      <th>4</th>\n",
       "      <td>0.31</td>\n",
       "      <td>Good</td>\n",
       "      <td>J</td>\n",
       "      <td>SI2</td>\n",
       "      <td>63.3</td>\n",
       "      <td>58.0</td>\n",
       "      <td>335</td>\n",
       "      <td>4.34</td>\n",
       "      <td>4.35</td>\n",
       "      <td>2.75</td>\n",
       "    </tr>\n",
       "  </tbody>\n",
       "</table>\n",
       "</div>"
      ],
      "text/plain": [
       "   carat      cut color clarity  depth  table  price     x     y     z\n",
       "0   0.23    Ideal     E     SI2   61.5   55.0    326  3.95  3.98  2.43\n",
       "1   0.21  Premium     E     SI1   59.8   61.0    326  3.89  3.84  2.31\n",
       "2   0.23     Good     E     VS1   56.9   65.0    327  4.05  4.07  2.31\n",
       "3   0.29  Premium     I     VS2   62.4   58.0    334  4.20  4.23  2.63\n",
       "4   0.31     Good     J     SI2   63.3   58.0    335  4.34  4.35  2.75"
      ]
     },
     "execution_count": 19,
     "metadata": {},
     "output_type": "execute_result"
    }
   ],
   "source": [
    "data.head()"
   ]
  },
  {
   "attachments": {},
   "cell_type": "markdown",
   "id": "871c0aef",
   "metadata": {},
   "source": [
    "- **Choisir de faire une régression ou classification.**"
   ]
  },
  {
   "cell_type": "code",
   "execution_count": 20,
   "id": "f8a4018d",
   "metadata": {},
   "outputs": [
    {
     "data": {
      "image/png": "[encoded data removed]",
      "text/plain": [
       "<Figure size 1080x720 with 10 Axes>"
      ]
     },
     "metadata": {
      "needs_background": "light"
     },
     "output_type": "display_data"
    }
   ],
   "source": [
    "ditrib_df(data)"
   ]
  },
  {
   "attachments": {},
   "cell_type": "markdown",
   "id": "3d05f931",
   "metadata": {},
   "source": [
    "  - *Cette dataset est souvent utilisée pour faire des analyses et des prédictions de prix en fonction des différentes variables disponibles.*\n",
    "  - Choix: regression lineaire"
   ]
  },
  {
   "attachments": {},
   "cell_type": "markdown",
   "id": "663b719b",
   "metadata": {},
   "source": [
    "- **Construire le réseau neuronal avec l'exemple suivant:**"
   ]
  },
  {
   "cell_type": "code",
   "execution_count": 21,
   "id": "clear-iceland",
   "metadata": {},
   "outputs": [
    {
     "name": "stderr",
     "output_type": "stream",
     "text": [
      "2023-05-04 14:53:45.513885: W tensorflow/stream_executor/platform/default/dso_loader.cc:64] Could not load dynamic library 'libcudart.so.11.0'; dlerror: libcudart.so.11.0: cannot open shared object file: No such file or directory\n",
      "2023-05-04 14:53:45.523117: I tensorflow/stream_executor/cuda/cudart_stub.cc:29] Ignore above cudart dlerror if you do not have a GPU set up on your machine.\n"
     ]
    }
   ],
   "source": [
    "from tensorflow.keras import *"
   ]
  },
  {
   "cell_type": "code",
   "execution_count": 22,
   "id": "convinced-briefing",
   "metadata": {},
   "outputs": [],
   "source": [
    "from tensorflow.keras import Sequential, layers"
   ]
  },
  {
   "cell_type": "code",
   "execution_count": 23,
   "id": "f0d3072e",
   "metadata": {},
   "outputs": [],
   "source": [
    "# Prétraiter les données\n",
    "# Encodage des variables catégorielles\n",
    "data_dummies= pd.get_dummies(data, columns=['cut', 'color', 'clarity'])\n"
   ]
  },
  {
   "cell_type": "code",
   "execution_count": 24,
   "id": "d358c9ee",
   "metadata": {},
   "outputs": [
    {
     "data": {
      "text/html": [
       "<div>\n",
       "<style scoped>\n",
       "    .dataframe tbody tr th:only-of-type {\n",
       "        vertical-align: middle;\n",
       "    }\n",
       "\n",
       "    .dataframe tbody tr th {\n",
       "        vertical-align: top;\n",
       "    }\n",
       "\n",
       "    .dataframe thead th {\n",
       "        text-align: right;\n",
       "    }\n",
       "</style>\n",
       "<table border=\"1\" class=\"dataframe\">\n",
       "  <thead>\n",
       "    <tr style=\"text-align: right;\">\n",
       "      <th></th>\n",
       "      <th>carat</th>\n",
       "      <th>depth</th>\n",
       "      <th>table</th>\n",
       "      <th>price</th>\n",
       "      <th>x</th>\n",
       "      <th>y</th>\n",
       "      <th>z</th>\n",
       "      <th>cut_Ideal</th>\n",
       "      <th>cut_Premium</th>\n",
       "      <th>cut_Very Good</th>\n",
       "      <th>...</th>\n",
       "      <th>color_I</th>\n",
       "      <th>color_J</th>\n",
       "      <th>clarity_IF</th>\n",
       "      <th>clarity_VVS1</th>\n",
       "      <th>clarity_VVS2</th>\n",
       "      <th>clarity_VS1</th>\n",
       "      <th>clarity_VS2</th>\n",
       "      <th>clarity_SI1</th>\n",
       "      <th>clarity_SI2</th>\n",
       "      <th>clarity_I1</th>\n",
       "    </tr>\n",
       "  </thead>\n",
       "  <tbody>\n",
       "    <tr>\n",
       "      <th>0</th>\n",
       "      <td>0.23</td>\n",
       "      <td>61.5</td>\n",
       "      <td>55.0</td>\n",
       "      <td>326</td>\n",
       "      <td>3.95</td>\n",
       "      <td>3.98</td>\n",
       "      <td>2.43</td>\n",
       "      <td>1</td>\n",
       "      <td>0</td>\n",
       "      <td>0</td>\n",
       "      <td>...</td>\n",
       "      <td>0</td>\n",
       "      <td>0</td>\n",
       "      <td>0</td>\n",
       "      <td>0</td>\n",
       "      <td>0</td>\n",
       "      <td>0</td>\n",
       "      <td>0</td>\n",
       "      <td>0</td>\n",
       "      <td>1</td>\n",
       "      <td>0</td>\n",
       "    </tr>\n",
       "    <tr>\n",
       "      <th>1</th>\n",
       "      <td>0.21</td>\n",
       "      <td>59.8</td>\n",
       "      <td>61.0</td>\n",
       "      <td>326</td>\n",
       "      <td>3.89</td>\n",
       "      <td>3.84</td>\n",
       "      <td>2.31</td>\n",
       "      <td>0</td>\n",
       "      <td>1</td>\n",
       "      <td>0</td>\n",
       "      <td>...</td>\n",
       "      <td>0</td>\n",
       "      <td>0</td>\n",
       "      <td>0</td>\n",
       "      <td>0</td>\n",
       "      <td>0</td>\n",
       "      <td>0</td>\n",
       "      <td>0</td>\n",
       "      <td>1</td>\n",
       "      <td>0</td>\n",
       "      <td>0</td>\n",
       "    </tr>\n",
       "    <tr>\n",
       "      <th>2</th>\n",
       "      <td>0.23</td>\n",
       "      <td>56.9</td>\n",
       "      <td>65.0</td>\n",
       "      <td>327</td>\n",
       "      <td>4.05</td>\n",
       "      <td>4.07</td>\n",
       "      <td>2.31</td>\n",
       "      <td>0</td>\n",
       "      <td>0</td>\n",
       "      <td>0</td>\n",
       "      <td>...</td>\n",
       "      <td>0</td>\n",
       "      <td>0</td>\n",
       "      <td>0</td>\n",
       "      <td>0</td>\n",
       "      <td>0</td>\n",
       "      <td>1</td>\n",
       "      <td>0</td>\n",
       "      <td>0</td>\n",
       "      <td>0</td>\n",
       "      <td>0</td>\n",
       "    </tr>\n",
       "  </tbody>\n",
       "</table>\n",
       "<p>3 rows × 27 columns</p>\n",
       "</div>"
      ],
      "text/plain": [
       "   carat  depth  table  price     x     y     z  cut_Ideal  cut_Premium  \\\n",
       "0   0.23   61.5   55.0    326  3.95  3.98  2.43          1            0   \n",
       "1   0.21   59.8   61.0    326  3.89  3.84  2.31          0            1   \n",
       "2   0.23   56.9   65.0    327  4.05  4.07  2.31          0            0   \n",
       "\n",
       "   cut_Very Good  ...  color_I  color_J  clarity_IF  clarity_VVS1  \\\n",
       "0              0  ...        0        0           0             0   \n",
       "1              0  ...        0        0           0             0   \n",
       "2              0  ...        0        0           0             0   \n",
       "\n",
       "   clarity_VVS2  clarity_VS1  clarity_VS2  clarity_SI1  clarity_SI2  \\\n",
       "0             0            0            0            0            1   \n",
       "1             0            0            0            1            0   \n",
       "2             0            1            0            0            0   \n",
       "\n",
       "   clarity_I1  \n",
       "0           0  \n",
       "1           0  \n",
       "2           0  \n",
       "\n",
       "[3 rows x 27 columns]"
      ]
     },
     "execution_count": 24,
     "metadata": {},
     "output_type": "execute_result"
    }
   ],
   "source": [
    "data_dummies.head(3)"
   ]
  },
  {
   "cell_type": "code",
   "execution_count": 25,
   "id": "5b6b7151",
   "metadata": {},
   "outputs": [],
   "source": [
    "# Normalisation des variables continues\n",
    "scaler = StandardScaler()\n",
    "data_dummies[['carat', 'depth', 'table', 'x', 'y', 'z']] = scaler.fit_transform(data_dummies[['carat', 'depth', 'table', 'x', 'y', 'z']])\n"
   ]
  },
  {
   "cell_type": "code",
   "execution_count": 26,
   "id": "28d45925",
   "metadata": {},
   "outputs": [
    {
     "data": {
      "text/html": [
       "<div>\n",
       "<style scoped>\n",
       "    .dataframe tbody tr th:only-of-type {\n",
       "        vertical-align: middle;\n",
       "    }\n",
       "\n",
       "    .dataframe tbody tr th {\n",
       "        vertical-align: top;\n",
       "    }\n",
       "\n",
       "    .dataframe thead th {\n",
       "        text-align: right;\n",
       "    }\n",
       "</style>\n",
       "<table border=\"1\" class=\"dataframe\">\n",
       "  <thead>\n",
       "    <tr style=\"text-align: right;\">\n",
       "      <th></th>\n",
       "      <th>carat</th>\n",
       "      <th>depth</th>\n",
       "      <th>table</th>\n",
       "      <th>price</th>\n",
       "      <th>x</th>\n",
       "      <th>y</th>\n",
       "      <th>z</th>\n",
       "      <th>cut_Ideal</th>\n",
       "      <th>cut_Premium</th>\n",
       "      <th>cut_Very Good</th>\n",
       "      <th>...</th>\n",
       "      <th>color_I</th>\n",
       "      <th>color_J</th>\n",
       "      <th>clarity_IF</th>\n",
       "      <th>clarity_VVS1</th>\n",
       "      <th>clarity_VVS2</th>\n",
       "      <th>clarity_VS1</th>\n",
       "      <th>clarity_VS2</th>\n",
       "      <th>clarity_SI1</th>\n",
       "      <th>clarity_SI2</th>\n",
       "      <th>clarity_I1</th>\n",
       "    </tr>\n",
       "  </thead>\n",
       "  <tbody>\n",
       "    <tr>\n",
       "      <th>0</th>\n",
       "      <td>-1.198168</td>\n",
       "      <td>-0.174092</td>\n",
       "      <td>-1.099672</td>\n",
       "      <td>326</td>\n",
       "      <td>-1.587837</td>\n",
       "      <td>-1.536196</td>\n",
       "      <td>-1.571129</td>\n",
       "      <td>1</td>\n",
       "      <td>0</td>\n",
       "      <td>0</td>\n",
       "      <td>...</td>\n",
       "      <td>0</td>\n",
       "      <td>0</td>\n",
       "      <td>0</td>\n",
       "      <td>0</td>\n",
       "      <td>0</td>\n",
       "      <td>0</td>\n",
       "      <td>0</td>\n",
       "      <td>0</td>\n",
       "      <td>1</td>\n",
       "      <td>0</td>\n",
       "    </tr>\n",
       "    <tr>\n",
       "      <th>1</th>\n",
       "      <td>-1.240361</td>\n",
       "      <td>-1.360738</td>\n",
       "      <td>1.585529</td>\n",
       "      <td>326</td>\n",
       "      <td>-1.641325</td>\n",
       "      <td>-1.658774</td>\n",
       "      <td>-1.741175</td>\n",
       "      <td>0</td>\n",
       "      <td>1</td>\n",
       "      <td>0</td>\n",
       "      <td>...</td>\n",
       "      <td>0</td>\n",
       "      <td>0</td>\n",
       "      <td>0</td>\n",
       "      <td>0</td>\n",
       "      <td>0</td>\n",
       "      <td>0</td>\n",
       "      <td>0</td>\n",
       "      <td>1</td>\n",
       "      <td>0</td>\n",
       "      <td>0</td>\n",
       "    </tr>\n",
       "    <tr>\n",
       "      <th>2</th>\n",
       "      <td>-1.198168</td>\n",
       "      <td>-3.385019</td>\n",
       "      <td>3.375663</td>\n",
       "      <td>327</td>\n",
       "      <td>-1.498691</td>\n",
       "      <td>-1.457395</td>\n",
       "      <td>-1.741175</td>\n",
       "      <td>0</td>\n",
       "      <td>0</td>\n",
       "      <td>0</td>\n",
       "      <td>...</td>\n",
       "      <td>0</td>\n",
       "      <td>0</td>\n",
       "      <td>0</td>\n",
       "      <td>0</td>\n",
       "      <td>0</td>\n",
       "      <td>1</td>\n",
       "      <td>0</td>\n",
       "      <td>0</td>\n",
       "      <td>0</td>\n",
       "      <td>0</td>\n",
       "    </tr>\n",
       "  </tbody>\n",
       "</table>\n",
       "<p>3 rows × 27 columns</p>\n",
       "</div>"
      ],
      "text/plain": [
       "      carat     depth     table  price         x         y         z  \\\n",
       "0 -1.198168 -0.174092 -1.099672    326 -1.587837 -1.536196 -1.571129   \n",
       "1 -1.240361 -1.360738  1.585529    326 -1.641325 -1.658774 -1.741175   \n",
       "2 -1.198168 -3.385019  3.375663    327 -1.498691 -1.457395 -1.741175   \n",
       "\n",
       "   cut_Ideal  cut_Premium  cut_Very Good  ...  color_I  color_J  clarity_IF  \\\n",
       "0          1            0              0  ...        0        0           0   \n",
       "1          0            1              0  ...        0        0           0   \n",
       "2          0            0              0  ...        0        0           0   \n",
       "\n",
       "   clarity_VVS1  clarity_VVS2  clarity_VS1  clarity_VS2  clarity_SI1  \\\n",
       "0             0             0            0            0            0   \n",
       "1             0             0            0            0            1   \n",
       "2             0             0            1            0            0   \n",
       "\n",
       "   clarity_SI2  clarity_I1  \n",
       "0            1           0  \n",
       "1            0           0  \n",
       "2            0           0  \n",
       "\n",
       "[3 rows x 27 columns]"
      ]
     },
     "execution_count": 26,
     "metadata": {},
     "output_type": "execute_result"
    }
   ],
   "source": [
    "data_dummies.head(3)"
   ]
  },
  {
   "cell_type": "code",
   "execution_count": 27,
   "id": "0e674fe1",
   "metadata": {},
   "outputs": [],
   "source": [
    "# Séparation des données en ensemble d'entraînement et ensemble de test\n",
    "X = data_dummies.drop('price', axis=1).values\n",
    "y = data_dummies['price'].values\n",
    "X_train, X_test, y_train, y_test = train_test_split(X, y, test_size=0.2, random_state=42)\n"
   ]
  },
  {
   "cell_type": "code",
   "execution_count": 41,
   "id": "448f740d",
   "metadata": {},
   "outputs": [],
   "source": [
    "# Définition de l'architecture du modèle neuronal\n",
    "model_test = Sequential()\n",
    "model_test.add(layers.Dense(64, input_dim=X_train.shape[1], activation='relu'))\n",
    "model_test.add(layers.Dense(32, activation='relu'))\n",
    "model_test.add(layers.Dense(1, activation='linear'))"
   ]
  },
  {
   "cell_type": "code",
   "execution_count": 42,
   "id": "732bdc44",
   "metadata": {},
   "outputs": [
    {
     "name": "stdout",
     "output_type": "stream",
     "text": [
      "Epoch 1/50\n",
      "1349/1349 [==============================] - 6s 4ms/step - loss: 10341314.0000\n",
      "Epoch 2/50\n",
      "1349/1349 [==============================] - 5s 4ms/step - loss: 1627138.6250\n",
      "Epoch 3/50\n",
      "1349/1349 [==============================] - 6s 4ms/step - loss: 1197563.5000\n",
      "Epoch 4/50\n",
      "1349/1349 [==============================] - 5s 3ms/step - loss: 1036468.8125\n",
      "Epoch 5/50\n",
      "1349/1349 [==============================] - 5s 3ms/step - loss: 956452.5625\n",
      "Epoch 6/50\n",
      "1349/1349 [==============================] - 5s 3ms/step - loss: 894742.3125\n",
      "Epoch 7/50\n",
      "1349/1349 [==============================] - 5s 4ms/step - loss: 836014.5625\n",
      "Epoch 8/50\n",
      "1349/1349 [==============================] - 5s 4ms/step - loss: 788878.2500\n",
      "Epoch 9/50\n",
      "1349/1349 [==============================] - 5s 3ms/step - loss: 744838.4375\n",
      "Epoch 10/50\n",
      "1349/1349 [==============================] - 5s 4ms/step - loss: 709107.5000\n",
      "Epoch 11/50\n",
      "1349/1349 [==============================] - 5s 3ms/step - loss: 680875.0625\n",
      "Epoch 12/50\n",
      "1349/1349 [==============================] - 5s 4ms/step - loss: 653229.8750\n",
      "Epoch 13/50\n",
      "1349/1349 [==============================] - 5s 4ms/step - loss: 631595.0625\n",
      "Epoch 14/50\n",
      "1349/1349 [==============================] - 6s 4ms/step - loss: 615058.0000\n",
      "Epoch 15/50\n",
      "1349/1349 [==============================] - 5s 4ms/step - loss: 598434.3750\n",
      "Epoch 16/50\n",
      "1349/1349 [==============================] - 5s 4ms/step - loss: 582494.5625\n",
      "Epoch 17/50\n",
      "1349/1349 [==============================] - 5s 4ms/step - loss: 570019.8125\n",
      "Epoch 18/50\n",
      "1349/1349 [==============================] - 5s 4ms/step - loss: 557394.3750\n",
      "Epoch 19/50\n",
      "1349/1349 [==============================] - 5s 4ms/step - loss: 546528.8750\n",
      "Epoch 20/50\n",
      "1349/1349 [==============================] - 5s 4ms/step - loss: 533430.0625\n",
      "Epoch 21/50\n",
      "1349/1349 [==============================] - 5s 4ms/step - loss: 524181.0312\n",
      "Epoch 22/50\n",
      "1349/1349 [==============================] - 6s 4ms/step - loss: 515192.7812\n",
      "Epoch 23/50\n",
      "1349/1349 [==============================] - 6s 4ms/step - loss: 502713.1562\n",
      "Epoch 24/50\n",
      "1349/1349 [==============================] - 7s 5ms/step - loss: 493670.2188\n",
      "Epoch 25/50\n",
      "1349/1349 [==============================] - 6s 5ms/step - loss: 485747.3750\n",
      "Epoch 26/50\n",
      "1349/1349 [==============================] - 6s 4ms/step - loss: 477397.7188\n",
      "Epoch 27/50\n",
      "1349/1349 [==============================] - 6s 4ms/step - loss: 468968.9375\n",
      "Epoch 28/50\n",
      "1349/1349 [==============================] - 6s 4ms/step - loss: 461377.2500\n",
      "Epoch 29/50\n",
      "1349/1349 [==============================] - 6s 4ms/step - loss: 455138.2812\n",
      "Epoch 30/50\n",
      "1349/1349 [==============================] - 6s 4ms/step - loss: 449455.7812\n",
      "Epoch 31/50\n",
      "1349/1349 [==============================] - 6s 4ms/step - loss: 444482.6875\n",
      "Epoch 32/50\n",
      "1349/1349 [==============================] - 6s 4ms/step - loss: 439876.3750\n",
      "Epoch 33/50\n",
      "1349/1349 [==============================] - 6s 4ms/step - loss: 435364.4375\n",
      "Epoch 34/50\n",
      "1349/1349 [==============================] - 6s 4ms/step - loss: 431631.4375\n",
      "Epoch 35/50\n",
      "1349/1349 [==============================] - 6s 4ms/step - loss: 428658.4375\n",
      "Epoch 36/50\n",
      "1349/1349 [==============================] - 6s 4ms/step - loss: 425367.7812\n",
      "Epoch 37/50\n",
      "1349/1349 [==============================] - 6s 5ms/step - loss: 421920.1250\n",
      "Epoch 38/50\n",
      "1349/1349 [==============================] - 6s 4ms/step - loss: 419742.6250\n",
      "Epoch 39/50\n",
      "1349/1349 [==============================] - 6s 4ms/step - loss: 417104.9688\n",
      "Epoch 40/50\n",
      "1349/1349 [==============================] - 6s 4ms/step - loss: 415776.8750\n",
      "Epoch 41/50\n",
      "1349/1349 [==============================] - 6s 4ms/step - loss: 411862.8438\n",
      "Epoch 42/50\n",
      "1349/1349 [==============================] - 6s 4ms/step - loss: 411120.9688\n",
      "Epoch 43/50\n",
      "1349/1349 [==============================] - 6s 4ms/step - loss: 409073.7188\n",
      "Epoch 44/50\n",
      "1349/1349 [==============================] - 6s 4ms/step - loss: 407499.1250\n",
      "Epoch 45/50\n",
      "1349/1349 [==============================] - 6s 4ms/step - loss: 404579.1562\n",
      "Epoch 46/50\n",
      "1349/1349 [==============================] - 6s 4ms/step - loss: 403232.4688\n",
      "Epoch 47/50\n",
      "1349/1349 [==============================] - 6s 4ms/step - loss: 401937.5938\n",
      "Epoch 48/50\n",
      "1349/1349 [==============================] - 6s 4ms/step - loss: 401356.9375\n",
      "Epoch 49/50\n",
      "1349/1349 [==============================] - 6s 4ms/step - loss: 399399.0000\n",
      "Epoch 50/50\n",
      "1349/1349 [==============================] - 6s 4ms/step - loss: 397037.9062\n"
     ]
    },
    {
     "data": {
      "text/plain": [
       "<keras.callbacks.History at 0x7f48847bbdc0>"
      ]
     },
     "execution_count": 42,
     "metadata": {},
     "output_type": "execute_result"
    }
   ],
   "source": [
    "# Compilation et entraînement du modèle\n",
    "model_test.compile(loss='mean_squared_error', optimizer='adam')\n",
    "model_test.fit(X_train, y_train, epochs=50, batch_size=32, verbose=1)"
   ]
  },
  {
   "cell_type": "code",
   "execution_count": 43,
   "id": "e960feae",
   "metadata": {},
   "outputs": [
    {
     "name": "stdout",
     "output_type": "stream",
     "text": [
      "MSE: 380162.625\n"
     ]
    }
   ],
   "source": [
    "# Évaluation des performances du modèle sur l'ensemble de test\n",
    "loss = model_test.evaluate(X_test, y_test, verbose=0)\n",
    "print('MSE: %.3f' % loss)"
   ]
  },
  {
   "cell_type": "code",
   "execution_count": 47,
   "id": "fe448389",
   "metadata": {},
   "outputs": [
    {
     "name": "stdout",
     "output_type": "stream",
     "text": [
      "Epoch 1/25\n",
      "5394/5394 [==============================] - 22s 4ms/step - loss: 399955.2500\n",
      "Epoch 2/25\n",
      "5394/5394 [==============================] - 22s 4ms/step - loss: 398005.4688\n",
      "Epoch 3/25\n",
      "5394/5394 [==============================] - 21s 4ms/step - loss: 395769.2188\n",
      "Epoch 4/25\n",
      "5394/5394 [==============================] - 21s 4ms/step - loss: 394536.5312\n",
      "Epoch 5/25\n",
      "5394/5394 [==============================] - 21s 4ms/step - loss: 391998.5312\n",
      "Epoch 6/25\n",
      "5394/5394 [==============================] - 22s 4ms/step - loss: 391464.4688\n",
      "Epoch 7/25\n",
      "5394/5394 [==============================] - 20s 4ms/step - loss: 389062.0000\n",
      "Epoch 8/25\n",
      "5394/5394 [==============================] - 20s 4ms/step - loss: 388961.7500\n",
      "Epoch 9/25\n",
      "5394/5394 [==============================] - 20s 4ms/step - loss: 387295.4062\n",
      "Epoch 10/25\n",
      "5394/5394 [==============================] - 19s 4ms/step - loss: 386228.5000\n",
      "Epoch 11/25\n",
      "5394/5394 [==============================] - 19s 4ms/step - loss: 384118.1562\n",
      "Epoch 12/25\n",
      "5394/5394 [==============================] - 19s 4ms/step - loss: 383549.8438\n",
      "Epoch 13/25\n",
      "5394/5394 [==============================] - 20s 4ms/step - loss: 383548.7812\n",
      "Epoch 14/25\n",
      "5394/5394 [==============================] - 20s 4ms/step - loss: 381842.3125\n",
      "Epoch 15/25\n",
      "5394/5394 [==============================] - 20s 4ms/step - loss: 380152.2812\n",
      "Epoch 16/25\n",
      "5394/5394 [==============================] - 20s 4ms/step - loss: 378406.1250\n",
      "Epoch 17/25\n",
      "5394/5394 [==============================] - 20s 4ms/step - loss: 377093.0312\n",
      "Epoch 18/25\n",
      "5394/5394 [==============================] - 21s 4ms/step - loss: 376878.5938\n",
      "Epoch 19/25\n",
      "5394/5394 [==============================] - 25s 5ms/step - loss: 374241.0312\n",
      "Epoch 20/25\n",
      "5394/5394 [==============================] - 30s 5ms/step - loss: 374005.3438\n",
      "Epoch 21/25\n",
      "5394/5394 [==============================] - 27s 5ms/step - loss: 372765.5312\n",
      "Epoch 22/25\n",
      "5394/5394 [==============================] - 21s 4ms/step - loss: 371545.3750\n",
      "Epoch 23/25\n",
      "5394/5394 [==============================] - 23s 4ms/step - loss: 370497.0625\n",
      "Epoch 24/25\n",
      "5394/5394 [==============================] - 24s 4ms/step - loss: 368722.6875\n",
      "Epoch 25/25\n",
      "5394/5394 [==============================] - 26s 5ms/step - loss: 367328.3750\n"
     ]
    },
    {
     "data": {
      "text/plain": [
       "<keras.callbacks.History at 0x7f48940f4ac0>"
      ]
     },
     "execution_count": 47,
     "metadata": {},
     "output_type": "execute_result"
    }
   ],
   "source": [
    "model_test.fit(X_train, y_train, epochs=25, batch_size=8, verbose=1)"
   ]
  },
  {
   "cell_type": "code",
   "execution_count": 44,
   "id": "eaacb715",
   "metadata": {},
   "outputs": [
    {
     "name": "stdout",
     "output_type": "stream",
     "text": [
      "Model: \"sequential_7\"\n",
      "_________________________________________________________________\n",
      " Layer (type)                Output Shape              Param #   \n",
      "=================================================================\n",
      " dense_12 (Dense)            (None, 64)                1728      \n",
      "                                                                 \n",
      " dense_13 (Dense)            (None, 32)                2080      \n",
      "                                                                 \n",
      " dense_14 (Dense)            (None, 1)                 33        \n",
      "                                                                 \n",
      "=================================================================\n",
      "Total params: 3,841\n",
      "Trainable params: 3,841\n",
      "Non-trainable params: 0\n",
      "_________________________________________________________________\n"
     ]
    }
   ],
   "source": [
    "model_test.summary()"
   ]
  },
  {
   "attachments": {},
   "cell_type": "markdown",
   "id": "308aafa0",
   "metadata": {},
   "source": [
    "### *Optimisation en changeant les paramètres du model*"
   ]
  },
  {
   "cell_type": "code",
   "execution_count": 48,
   "id": "16214d06",
   "metadata": {},
   "outputs": [],
   "source": [
    "# Définition de l'architecture du modèle neuronal\n",
    "model_opt = Sequential()\n",
    "model_opt.add(layers.Dense(10, input_dim=15, activation='relu'))\n",
    "model_opt.add(layers.Dense(3, activation='relu'))\n",
    "model_opt.add(layers.Dense(3, activation='linear'))"
   ]
  },
  {
   "cell_type": "code",
   "execution_count": 49,
   "id": "018f8862",
   "metadata": {},
   "outputs": [
    {
     "name": "stdout",
     "output_type": "stream",
     "text": [
      "Epoch 1/25\n"
     ]
    },
    {
     "ename": "ValueError",
     "evalue": "in user code:\n\n    File \"/home/hope/.pyenv/versions/3.8.12/envs/simplon/lib/python3.8/site-packages/keras/engine/training.py\", line 878, in train_function  *\n        return step_function(self, iterator)\n    File \"/home/hope/.pyenv/versions/3.8.12/envs/simplon/lib/python3.8/site-packages/keras/engine/training.py\", line 867, in step_function  **\n        outputs = model.distribute_strategy.run(run_step, args=(data,))\n    File \"/home/hope/.pyenv/versions/3.8.12/envs/simplon/lib/python3.8/site-packages/keras/engine/training.py\", line 860, in run_step  **\n        outputs = model.train_step(data)\n    File \"/home/hope/.pyenv/versions/3.8.12/envs/simplon/lib/python3.8/site-packages/keras/engine/training.py\", line 808, in train_step\n        y_pred = self(x, training=True)\n    File \"/home/hope/.pyenv/versions/3.8.12/envs/simplon/lib/python3.8/site-packages/keras/utils/traceback_utils.py\", line 67, in error_handler\n        raise e.with_traceback(filtered_tb) from None\n    File \"/home/hope/.pyenv/versions/3.8.12/envs/simplon/lib/python3.8/site-packages/keras/engine/input_spec.py\", line 263, in assert_input_compatibility\n        raise ValueError(f'Input {input_index} of layer \"{layer_name}\" is '\n\n    ValueError: Input 0 of layer \"sequential_8\" is incompatible with the layer: expected shape=(None, 15), found shape=(8, 26)\n",
     "output_type": "error",
     "traceback": [
      "\u001b[0;31m---------------------------------------------------------------------------\u001b[0m",
      "\u001b[0;31mValueError\u001b[0m                                Traceback (most recent call last)",
      "\u001b[0;32m/tmp/ipykernel_16813/3830949595.py\u001b[0m in \u001b[0;36m<module>\u001b[0;34m\u001b[0m\n\u001b[1;32m      1\u001b[0m \u001b[0;31m# Compilation et entraînement du modèle\u001b[0m\u001b[0;34m\u001b[0m\u001b[0;34m\u001b[0m\u001b[0;34m\u001b[0m\u001b[0m\n\u001b[1;32m      2\u001b[0m \u001b[0mmodel_opt\u001b[0m\u001b[0;34m.\u001b[0m\u001b[0mcompile\u001b[0m\u001b[0;34m(\u001b[0m\u001b[0mloss\u001b[0m\u001b[0;34m=\u001b[0m\u001b[0;34m'mean_squared_error'\u001b[0m\u001b[0;34m,\u001b[0m \u001b[0moptimizer\u001b[0m\u001b[0;34m=\u001b[0m\u001b[0;34m'adam'\u001b[0m\u001b[0;34m)\u001b[0m\u001b[0;34m\u001b[0m\u001b[0;34m\u001b[0m\u001b[0m\n\u001b[0;32m----> 3\u001b[0;31m \u001b[0mmodel_opt\u001b[0m\u001b[0;34m.\u001b[0m\u001b[0mfit\u001b[0m\u001b[0;34m(\u001b[0m\u001b[0mX_train\u001b[0m\u001b[0;34m,\u001b[0m \u001b[0my_train\u001b[0m\u001b[0;34m,\u001b[0m \u001b[0mepochs\u001b[0m\u001b[0;34m=\u001b[0m\u001b[0;36m25\u001b[0m\u001b[0;34m,\u001b[0m \u001b[0mbatch_size\u001b[0m\u001b[0;34m=\u001b[0m\u001b[0;36m8\u001b[0m\u001b[0;34m,\u001b[0m \u001b[0mverbose\u001b[0m\u001b[0;34m=\u001b[0m\u001b[0;36m1\u001b[0m\u001b[0;34m)\u001b[0m\u001b[0;34m\u001b[0m\u001b[0;34m\u001b[0m\u001b[0m\n\u001b[0m",
      "\u001b[0;32m~/.pyenv/versions/3.8.12/envs/simplon/lib/python3.8/site-packages/keras/utils/traceback_utils.py\u001b[0m in \u001b[0;36merror_handler\u001b[0;34m(*args, **kwargs)\u001b[0m\n\u001b[1;32m     65\u001b[0m     \u001b[0;32mexcept\u001b[0m \u001b[0mException\u001b[0m \u001b[0;32mas\u001b[0m \u001b[0me\u001b[0m\u001b[0;34m:\u001b[0m  \u001b[0;31m# pylint: disable=broad-except\u001b[0m\u001b[0;34m\u001b[0m\u001b[0;34m\u001b[0m\u001b[0m\n\u001b[1;32m     66\u001b[0m       \u001b[0mfiltered_tb\u001b[0m \u001b[0;34m=\u001b[0m \u001b[0m_process_traceback_frames\u001b[0m\u001b[0;34m(\u001b[0m\u001b[0me\u001b[0m\u001b[0;34m.\u001b[0m\u001b[0m__traceback__\u001b[0m\u001b[0;34m)\u001b[0m\u001b[0;34m\u001b[0m\u001b[0;34m\u001b[0m\u001b[0m\n\u001b[0;32m---> 67\u001b[0;31m       \u001b[0;32mraise\u001b[0m \u001b[0me\u001b[0m\u001b[0;34m.\u001b[0m\u001b[0mwith_traceback\u001b[0m\u001b[0;34m(\u001b[0m\u001b[0mfiltered_tb\u001b[0m\u001b[0;34m)\u001b[0m \u001b[0;32mfrom\u001b[0m \u001b[0;32mNone\u001b[0m\u001b[0;34m\u001b[0m\u001b[0;34m\u001b[0m\u001b[0m\n\u001b[0m\u001b[1;32m     68\u001b[0m     \u001b[0;32mfinally\u001b[0m\u001b[0;34m:\u001b[0m\u001b[0;34m\u001b[0m\u001b[0;34m\u001b[0m\u001b[0m\n\u001b[1;32m     69\u001b[0m       \u001b[0;32mdel\u001b[0m \u001b[0mfiltered_tb\u001b[0m\u001b[0;34m\u001b[0m\u001b[0;34m\u001b[0m\u001b[0m\n",
      "\u001b[0;32m~/.pyenv/versions/3.8.12/envs/simplon/lib/python3.8/site-packages/tensorflow/python/framework/func_graph.py\u001b[0m in \u001b[0;36mautograph_handler\u001b[0;34m(*args, **kwargs)\u001b[0m\n\u001b[1;32m   1127\u001b[0m           \u001b[0;32mexcept\u001b[0m \u001b[0mException\u001b[0m \u001b[0;32mas\u001b[0m \u001b[0me\u001b[0m\u001b[0;34m:\u001b[0m  \u001b[0;31m# pylint:disable=broad-except\u001b[0m\u001b[0;34m\u001b[0m\u001b[0;34m\u001b[0m\u001b[0m\n\u001b[1;32m   1128\u001b[0m             \u001b[0;32mif\u001b[0m \u001b[0mhasattr\u001b[0m\u001b[0;34m(\u001b[0m\u001b[0me\u001b[0m\u001b[0;34m,\u001b[0m \u001b[0;34m\"ag_error_metadata\"\u001b[0m\u001b[0;34m)\u001b[0m\u001b[0;34m:\u001b[0m\u001b[0;34m\u001b[0m\u001b[0;34m\u001b[0m\u001b[0m\n\u001b[0;32m-> 1129\u001b[0;31m               \u001b[0;32mraise\u001b[0m \u001b[0me\u001b[0m\u001b[0;34m.\u001b[0m\u001b[0mag_error_metadata\u001b[0m\u001b[0;34m.\u001b[0m\u001b[0mto_exception\u001b[0m\u001b[0;34m(\u001b[0m\u001b[0me\u001b[0m\u001b[0;34m)\u001b[0m\u001b[0;34m\u001b[0m\u001b[0;34m\u001b[0m\u001b[0m\n\u001b[0m\u001b[1;32m   1130\u001b[0m             \u001b[0;32melse\u001b[0m\u001b[0;34m:\u001b[0m\u001b[0;34m\u001b[0m\u001b[0;34m\u001b[0m\u001b[0m\n\u001b[1;32m   1131\u001b[0m               \u001b[0;32mraise\u001b[0m\u001b[0;34m\u001b[0m\u001b[0;34m\u001b[0m\u001b[0m\n",
      "\u001b[0;31mValueError\u001b[0m: in user code:\n\n    File \"/home/hope/.pyenv/versions/3.8.12/envs/simplon/lib/python3.8/site-packages/keras/engine/training.py\", line 878, in train_function  *\n        return step_function(self, iterator)\n    File \"/home/hope/.pyenv/versions/3.8.12/envs/simplon/lib/python3.8/site-packages/keras/engine/training.py\", line 867, in step_function  **\n        outputs = model.distribute_strategy.run(run_step, args=(data,))\n    File \"/home/hope/.pyenv/versions/3.8.12/envs/simplon/lib/python3.8/site-packages/keras/engine/training.py\", line 860, in run_step  **\n        outputs = model.train_step(data)\n    File \"/home/hope/.pyenv/versions/3.8.12/envs/simplon/lib/python3.8/site-packages/keras/engine/training.py\", line 808, in train_step\n        y_pred = self(x, training=True)\n    File \"/home/hope/.pyenv/versions/3.8.12/envs/simplon/lib/python3.8/site-packages/keras/utils/traceback_utils.py\", line 67, in error_handler\n        raise e.with_traceback(filtered_tb) from None\n    File \"/home/hope/.pyenv/versions/3.8.12/envs/simplon/lib/python3.8/site-packages/keras/engine/input_spec.py\", line 263, in assert_input_compatibility\n        raise ValueError(f'Input {input_index} of layer \"{layer_name}\" is '\n\n    ValueError: Input 0 of layer \"sequential_8\" is incompatible with the layer: expected shape=(None, 15), found shape=(8, 26)\n"
     ]
    }
   ],
   "source": [
    "# Compilation et entraînement du modèle\n",
    "model_opt.compile(loss='mean_squared_error', optimizer='adam')\n",
    "model_opt.fit(X_train, y_train, epochs=25, batch_size=8, verbose=1)"
   ]
  },
  {
   "cell_type": "code",
   "execution_count": null,
   "id": "49d70f97",
   "metadata": {},
   "outputs": [],
   "source": [
    "# Évaluation des performances du modèle sur l'ensemble de test\n",
    "loss = model_opt.evaluate(X_test, y_test, verbose=0)\n",
    "print('MSE: %.3f' % loss)"
   ]
  },
  {
   "cell_type": "code",
   "execution_count": 4,
   "id": "popular-appearance",
   "metadata": {},
   "outputs": [],
   "source": [
    "# Ex:\n",
    "# X de 15 features\n",
    "# y target de 3 dim"
   ]
  },
  {
   "cell_type": "code",
   "execution_count": 30,
   "id": "fuzzy-exemption",
   "metadata": {
    "scrolled": true
   },
   "outputs": [],
   "source": [
    "# ### Regression of size 4\n",
    "# model = Sequential()\n",
    "# model.add(layers.Dense(10, activation='relu', input_dim=15))\n",
    "# #model.add(...)\n",
    "# model.add(layers.Dense(3, activation='linear'))"
   ]
  },
  {
   "cell_type": "code",
   "execution_count": 32,
   "id": "9221caa2",
   "metadata": {},
   "outputs": [],
   "source": [
    "### Classification with 8 classes\n",
    "model = Sequential()\n",
    "model.add(layers.Dense(10, activation='relu', input_dim=15))\n",
    "#model.add(...)\n",
    "model.add(layers.Dense(3, activation='softmax'))"
   ]
  },
  {
   "cell_type": "code",
   "execution_count": 6,
   "id": "medieval-train",
   "metadata": {},
   "outputs": [],
   "source": [
    "# Ex:\n",
    "# X de 9 features\n",
    "# y target de 1 dim"
   ]
  },
  {
   "cell_type": "code",
   "execution_count": 36,
   "id": "stable-toilet",
   "metadata": {},
   "outputs": [],
   "source": [
    "### Regression of size 4\n",
    "model = Sequential()\n",
    "model.add(layers.Dense(10, activation='relu', input_dim=9))\n",
    "#model.add(...)\n",
    "model.add(layers.Dense(1, activation='linear'))\n",
    "\n",
    "\n",
    "### Classification with 8 classes\n",
    "model = Sequential()\n",
    "model.add(layers.Dense(10, activation='relu', input_dim=9))\n",
    "#model.add(...)\n",
    "model.add(layers.Dense(1, activation='softmax'))"
   ]
  },
  {
   "cell_type": "code",
   "execution_count": 37,
   "id": "proved-negative",
   "metadata": {},
   "outputs": [
    {
     "name": "stdout",
     "output_type": "stream",
     "text": [
      "Model: \"sequential_5\"\n",
      "_________________________________________________________________\n",
      " Layer (type)                Output Shape              Param #   \n",
      "=================================================================\n",
      " dense_10 (Dense)            (None, 10)                100       \n",
      "                                                                 \n",
      " dense_11 (Dense)            (None, 1)                 11        \n",
      "                                                                 \n",
      "=================================================================\n",
      "Total params: 111\n",
      "Trainable params: 111\n",
      "Non-trainable params: 0\n",
      "_________________________________________________________________\n"
     ]
    }
   ],
   "source": [
    "model.summary()"
   ]
  },
  {
   "cell_type": "code",
   "execution_count": 38,
   "id": "patent-cause",
   "metadata": {},
   "outputs": [],
   "source": [
    "model.compile(\n",
    "    optimizer='adam',\n",
    "    loss='binary_crossentropy', \n",
    "    metrics = 'accuracy')"
   ]
  },
  {
   "cell_type": "code",
   "execution_count": 39,
   "id": "connected-jamaica",
   "metadata": {},
   "outputs": [
    {
     "name": "stdout",
     "output_type": "stream",
     "text": [
      "Epoch 1/10\n"
     ]
    },
    {
     "ename": "ValueError",
     "evalue": "in user code:\n\n    File \"/home/hope/.pyenv/versions/3.8.12/envs/simplon/lib/python3.8/site-packages/keras/engine/training.py\", line 878, in train_function  *\n        return step_function(self, iterator)\n    File \"/home/hope/.pyenv/versions/3.8.12/envs/simplon/lib/python3.8/site-packages/keras/engine/training.py\", line 867, in step_function  **\n        outputs = model.distribute_strategy.run(run_step, args=(data,))\n    File \"/home/hope/.pyenv/versions/3.8.12/envs/simplon/lib/python3.8/site-packages/keras/engine/training.py\", line 860, in run_step  **\n        outputs = model.train_step(data)\n    File \"/home/hope/.pyenv/versions/3.8.12/envs/simplon/lib/python3.8/site-packages/keras/engine/training.py\", line 808, in train_step\n        y_pred = self(x, training=True)\n    File \"/home/hope/.pyenv/versions/3.8.12/envs/simplon/lib/python3.8/site-packages/keras/utils/traceback_utils.py\", line 67, in error_handler\n        raise e.with_traceback(filtered_tb) from None\n    File \"/home/hope/.pyenv/versions/3.8.12/envs/simplon/lib/python3.8/site-packages/keras/engine/input_spec.py\", line 263, in assert_input_compatibility\n        raise ValueError(f'Input {input_index} of layer \"{layer_name}\" is '\n\n    ValueError: Input 0 of layer \"sequential_5\" is incompatible with the layer: expected shape=(None, 9), found shape=(None, 26)\n",
     "output_type": "error",
     "traceback": [
      "\u001b[0;31m---------------------------------------------------------------------------\u001b[0m",
      "\u001b[0;31mValueError\u001b[0m                                Traceback (most recent call last)",
      "\u001b[0;32m/tmp/ipykernel_16813/3517469067.py\u001b[0m in \u001b[0;36m<module>\u001b[0;34m\u001b[0m\n\u001b[0;32m----> 1\u001b[0;31m \u001b[0mmodel\u001b[0m\u001b[0;34m.\u001b[0m\u001b[0mfit\u001b[0m\u001b[0;34m(\u001b[0m\u001b[0mX\u001b[0m\u001b[0;34m,\u001b[0m \u001b[0my\u001b[0m\u001b[0;34m,\u001b[0m \u001b[0mbatch_size\u001b[0m\u001b[0;34m=\u001b[0m\u001b[0;36m16\u001b[0m\u001b[0;34m,\u001b[0m \u001b[0mepochs\u001b[0m\u001b[0;34m=\u001b[0m\u001b[0;36m10\u001b[0m\u001b[0;34m)\u001b[0m\u001b[0;34m\u001b[0m\u001b[0;34m\u001b[0m\u001b[0m\n\u001b[0m",
      "\u001b[0;32m~/.pyenv/versions/3.8.12/envs/simplon/lib/python3.8/site-packages/keras/utils/traceback_utils.py\u001b[0m in \u001b[0;36merror_handler\u001b[0;34m(*args, **kwargs)\u001b[0m\n\u001b[1;32m     65\u001b[0m     \u001b[0;32mexcept\u001b[0m \u001b[0mException\u001b[0m \u001b[0;32mas\u001b[0m \u001b[0me\u001b[0m\u001b[0;34m:\u001b[0m  \u001b[0;31m# pylint: disable=broad-except\u001b[0m\u001b[0;34m\u001b[0m\u001b[0;34m\u001b[0m\u001b[0m\n\u001b[1;32m     66\u001b[0m       \u001b[0mfiltered_tb\u001b[0m \u001b[0;34m=\u001b[0m \u001b[0m_process_traceback_frames\u001b[0m\u001b[0;34m(\u001b[0m\u001b[0me\u001b[0m\u001b[0;34m.\u001b[0m\u001b[0m__traceback__\u001b[0m\u001b[0;34m)\u001b[0m\u001b[0;34m\u001b[0m\u001b[0;34m\u001b[0m\u001b[0m\n\u001b[0;32m---> 67\u001b[0;31m       \u001b[0;32mraise\u001b[0m \u001b[0me\u001b[0m\u001b[0;34m.\u001b[0m\u001b[0mwith_traceback\u001b[0m\u001b[0;34m(\u001b[0m\u001b[0mfiltered_tb\u001b[0m\u001b[0;34m)\u001b[0m \u001b[0;32mfrom\u001b[0m \u001b[0;32mNone\u001b[0m\u001b[0;34m\u001b[0m\u001b[0;34m\u001b[0m\u001b[0m\n\u001b[0m\u001b[1;32m     68\u001b[0m     \u001b[0;32mfinally\u001b[0m\u001b[0;34m:\u001b[0m\u001b[0;34m\u001b[0m\u001b[0;34m\u001b[0m\u001b[0m\n\u001b[1;32m     69\u001b[0m       \u001b[0;32mdel\u001b[0m \u001b[0mfiltered_tb\u001b[0m\u001b[0;34m\u001b[0m\u001b[0;34m\u001b[0m\u001b[0m\n",
      "\u001b[0;32m~/.pyenv/versions/3.8.12/envs/simplon/lib/python3.8/site-packages/tensorflow/python/framework/func_graph.py\u001b[0m in \u001b[0;36mautograph_handler\u001b[0;34m(*args, **kwargs)\u001b[0m\n\u001b[1;32m   1127\u001b[0m           \u001b[0;32mexcept\u001b[0m \u001b[0mException\u001b[0m \u001b[0;32mas\u001b[0m \u001b[0me\u001b[0m\u001b[0;34m:\u001b[0m  \u001b[0;31m# pylint:disable=broad-except\u001b[0m\u001b[0;34m\u001b[0m\u001b[0;34m\u001b[0m\u001b[0m\n\u001b[1;32m   1128\u001b[0m             \u001b[0;32mif\u001b[0m \u001b[0mhasattr\u001b[0m\u001b[0;34m(\u001b[0m\u001b[0me\u001b[0m\u001b[0;34m,\u001b[0m \u001b[0;34m\"ag_error_metadata\"\u001b[0m\u001b[0;34m)\u001b[0m\u001b[0;34m:\u001b[0m\u001b[0;34m\u001b[0m\u001b[0;34m\u001b[0m\u001b[0m\n\u001b[0;32m-> 1129\u001b[0;31m               \u001b[0;32mraise\u001b[0m \u001b[0me\u001b[0m\u001b[0;34m.\u001b[0m\u001b[0mag_error_metadata\u001b[0m\u001b[0;34m.\u001b[0m\u001b[0mto_exception\u001b[0m\u001b[0;34m(\u001b[0m\u001b[0me\u001b[0m\u001b[0;34m)\u001b[0m\u001b[0;34m\u001b[0m\u001b[0;34m\u001b[0m\u001b[0m\n\u001b[0m\u001b[1;32m   1130\u001b[0m             \u001b[0;32melse\u001b[0m\u001b[0;34m:\u001b[0m\u001b[0;34m\u001b[0m\u001b[0;34m\u001b[0m\u001b[0m\n\u001b[1;32m   1131\u001b[0m               \u001b[0;32mraise\u001b[0m\u001b[0;34m\u001b[0m\u001b[0;34m\u001b[0m\u001b[0m\n",
      "\u001b[0;31mValueError\u001b[0m: in user code:\n\n    File \"/home/hope/.pyenv/versions/3.8.12/envs/simplon/lib/python3.8/site-packages/keras/engine/training.py\", line 878, in train_function  *\n        return step_function(self, iterator)\n    File \"/home/hope/.pyenv/versions/3.8.12/envs/simplon/lib/python3.8/site-packages/keras/engine/training.py\", line 867, in step_function  **\n        outputs = model.distribute_strategy.run(run_step, args=(data,))\n    File \"/home/hope/.pyenv/versions/3.8.12/envs/simplon/lib/python3.8/site-packages/keras/engine/training.py\", line 860, in run_step  **\n        outputs = model.train_step(data)\n    File \"/home/hope/.pyenv/versions/3.8.12/envs/simplon/lib/python3.8/site-packages/keras/engine/training.py\", line 808, in train_step\n        y_pred = self(x, training=True)\n    File \"/home/hope/.pyenv/versions/3.8.12/envs/simplon/lib/python3.8/site-packages/keras/utils/traceback_utils.py\", line 67, in error_handler\n        raise e.with_traceback(filtered_tb) from None\n    File \"/home/hope/.pyenv/versions/3.8.12/envs/simplon/lib/python3.8/site-packages/keras/engine/input_spec.py\", line 263, in assert_input_compatibility\n        raise ValueError(f'Input {input_index} of layer \"{layer_name}\" is '\n\n    ValueError: Input 0 of layer \"sequential_5\" is incompatible with the layer: expected shape=(None, 9), found shape=(None, 26)\n"
     ]
    }
   ],
   "source": [
    "model.fit(X, y, batch_size=16, epochs=10)"
   ]
  },
  {
   "attachments": {},
   "cell_type": "markdown",
   "id": "ab55f650",
   "metadata": {},
   "source": []
  },
  {
   "cell_type": "code",
   "execution_count": null,
   "id": "white-works",
   "metadata": {},
   "outputs": [],
   "source": [
    "model.evaluate(scaler.transform(X), y)"
   ]
  },
  {
   "cell_type": "code",
   "execution_count": null,
   "id": "chinese-following",
   "metadata": {},
   "outputs": [],
   "source": [
    "model.predict(scaler.transform(X))"
   ]
  }
 ],
 "metadata": {
  "kernelspec": {
   "display_name": "Python 3",
   "language": "python",
   "name": "python3"
  },
  "language_info": {
   "codemirror_mode": {
    "name": "ipython",
    "version": 3
   },
   "file_extension": ".py",
   "mimetype": "text/x-python",
   "name": "python",
   "nbconvert_exporter": "python",
   "pygments_lexer": "ipython3",
   "version": "3.8.12"
  },
  "toc": {
   "base_numbering": 1,
   "nav_menu": {},
   "number_sections": true,
   "sideBar": true,
   "skip_h1_title": false,
   "title_cell": "Table of Contents",
   "title_sidebar": "Contents",
   "toc_cell": false,
   "toc_position": {},
   "toc_section_display": true,
   "toc_window_display": false
  }
 },
 "nbformat": 4,
 "nbformat_minor": 5
}
