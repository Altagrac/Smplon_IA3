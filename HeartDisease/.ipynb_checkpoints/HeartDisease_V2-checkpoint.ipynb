{
 "cells": [
  {
   "cell_type": "markdown",
   "id": "b9b949d9",
   "metadata": {},
   "source": [
    "# Heart Failure Prediction Dataset : VERSION_2\n",
    "\n",
    "**Objectif** : Identifier une possible défaillance cardiaque chez l'individu "
   ]
  },
  {
   "cell_type": "markdown",
   "id": "971ef6aa",
   "metadata": {},
   "source": [
    "### Packages necessaires & dataset "
   ]
  },
  {
   "cell_type": "code",
   "execution_count": 1,
   "id": "3a05ad08",
   "metadata": {},
   "outputs": [],
   "source": [
    "import sys \n",
    "#sys.path.insert(0, \"C://Users/asnga/KatalyseGits/mypackage\")\n",
    "sys.path.append(\"../\")\n",
    "\n",
    "import pandas as pd\n",
    "import numpy as np\n",
    "import seaborn as sns\n",
    "import matplotlib.pyplot as plt\n",
    "\n",
    "import warnings\n",
    "warnings.simplefilter(action=\"ignore\", category=FutureWarning)\n",
    "\n",
    "%matplotlib inline\n",
    "from mypackage.functions import *\n",
    "from mypackage.classifcationmodels import *\n",
    "from mypackage.encoding_functions import *\n",
    "\n",
    "# from sklearn.impute import SimpleImputer\n",
    "# from sklearn.datasets import make_classification, load_iris\n",
    "# from sklearn.pipeline import make_pipeline\n",
    "# from sklearn.compose import make_column_transformer,make_column_selector\n",
    "from sklearn.model_selection import train_test_split\n",
    "# from sklearn.preprocessing import StandardScaler, LabelEncoder, OneHotEncoder,RobustScaler\n",
    "# from sklearn.tree import export_graphviz, DecisionTreeClassifier, plot_tree"
   ]
  },
  {
   "cell_type": "code",
   "execution_count": 2,
   "id": "44205297",
   "metadata": {},
   "outputs": [],
   "source": [
    "#Data retrieving  \n",
    "HeartD_df = pd.read_csv(\"heart.csv\")"
   ]
  },
  {
   "cell_type": "code",
   "execution_count": 3,
   "id": "d7adedff-43b4-42a4-ad8b-6d13727897fc",
   "metadata": {},
   "outputs": [],
   "source": [
    "#df : deep copy of initial dataset\n",
    "df = HeartD_df.copy()"
   ]
  },
  {
   "cell_type": "markdown",
   "id": "74765d30",
   "metadata": {},
   "source": [
    "### Analyse de forme:"
   ]
  },
  {
   "cell_type": "code",
   "execution_count": null,
   "id": "ac9b4f4b",
   "metadata": {},
   "outputs": [],
   "source": []
  },
  {
   "cell_type": "code",
   "execution_count": 4,
   "id": "a4f58d74",
   "metadata": {},
   "outputs": [],
   "source": [
    "# # # to show all the rows of the dataset\n",
    "# pd.set_option('display.max_row',df.shape[0])\n",
    "\n",
    "# # # to show all the columns of the dataset\n",
    "# pd.set_option('display.max_columns',df.shape[1])"
   ]
  },
  {
   "cell_type": "code",
   "execution_count": 5,
   "id": "164efeba",
   "metadata": {},
   "outputs": [],
   "source": [
    "# #First row of the dataset \n",
    "# df.head(5)"
   ]
  },
  {
   "cell_type": "markdown",
   "id": "ace931a0",
   "metadata": {},
   "source": [
    "- **Analyse Target :**\n",
    " \n",
    " variable target : **HeartDisease**"
   ]
  },
  {
   "cell_type": "markdown",
   "id": "bfaac18b",
   "metadata": {},
   "source": [
    "- **Rows & columns :** "
   ]
  },
  {
   "cell_type": "code",
   "execution_count": 6,
   "id": "9c410dc1",
   "metadata": {},
   "outputs": [],
   "source": [
    "# dshape(df)"
   ]
  },
  {
   "cell_type": "markdown",
   "id": "c0c35890",
   "metadata": {},
   "source": [
    "- **Vairables types :** "
   ]
  },
  {
   "cell_type": "code",
   "execution_count": 7,
   "id": "9d6c0812",
   "metadata": {},
   "outputs": [],
   "source": [
    "# data_types(df)"
   ]
  },
  {
   "cell_type": "markdown",
   "id": "69fb240e",
   "metadata": {},
   "source": [
    "- **Some statistics on numerics variables :** "
   ]
  },
  {
   "cell_type": "code",
   "execution_count": 8,
   "id": "b6759af0",
   "metadata": {},
   "outputs": [],
   "source": [
    "#stats(df)\n"
   ]
  },
  {
   "cell_type": "code",
   "execution_count": 9,
   "id": "4d28c1c0",
   "metadata": {},
   "outputs": [],
   "source": [
    "#df.describe(include=\"all\").T"
   ]
  },
  {
   "cell_type": "markdown",
   "id": "9844b4fb",
   "metadata": {},
   "source": [
    "- **Analyse of missing values :**"
   ]
  },
  {
   "cell_type": "code",
   "execution_count": 10,
   "id": "2e78a116",
   "metadata": {},
   "outputs": [],
   "source": [
    "#map_nan(df)"
   ]
  },
  {
   "cell_type": "code",
   "execution_count": 11,
   "id": "4e53a266",
   "metadata": {},
   "outputs": [],
   "source": [
    "#percentage_mv(df)"
   ]
  },
  {
   "cell_type": "markdown",
   "id": "43be5b39",
   "metadata": {},
   "source": [
    "\n",
    "### Analyse de fond (Préparation des données) \n",
    "\n",
    "\n"
   ]
  },
  {
   "cell_type": "markdown",
   "id": "4c027a18",
   "metadata": {},
   "source": [
    "- **Visualisation de la target :**\n",
    "\n"
   ]
  },
  {
   "cell_type": "code",
   "execution_count": 12,
   "id": "490ba09e",
   "metadata": {},
   "outputs": [],
   "source": [
    "#info_target(df,\"HeartDisease\")"
   ]
  },
  {
   "cell_type": "markdown",
   "id": "a8dd1b8c",
   "metadata": {},
   "source": [
    "- **Analyse des Variables Continues :**"
   ]
  },
  {
   "cell_type": "code",
   "execution_count": 13,
   "id": "27fa2a69",
   "metadata": {},
   "outputs": [],
   "source": [
    "#plot_num(df)"
   ]
  },
  {
   "cell_type": "markdown",
   "id": "070a0278",
   "metadata": {},
   "source": [
    "- **Analyse des Variables Discrètes :**"
   ]
  },
  {
   "cell_type": "code",
   "execution_count": 14,
   "id": "44b3030f",
   "metadata": {},
   "outputs": [],
   "source": [
    "#plot_cat(df)"
   ]
  },
  {
   "cell_type": "code",
   "execution_count": 15,
   "id": "0e0c8fcf",
   "metadata": {},
   "outputs": [],
   "source": [
    "#ditrib_df(df)"
   ]
  },
  {
   "cell_type": "markdown",
   "id": "79e20ef1",
   "metadata": {},
   "source": [
    "- **Signification des variables :**\n",
    "\n"
   ]
  },
  {
   "cell_type": "markdown",
   "id": "43e92148",
   "metadata": {},
   "source": [
    "- **Relation Variables / Target :**\n",
    "    - Création de sous-ensembles: heartdisease(1) & notheartdisease(1) \n",
    "   \n",
    "   "
   ]
  },
  {
   "cell_type": "code",
   "execution_count": 16,
   "id": "e8a2d5aa",
   "metadata": {},
   "outputs": [],
   "source": [
    "# target_yes = df[df[\"HeartDisease\"] == 1]  \n",
    "# target_no = df[df[\"HeartDisease\"] == 0]"
   ]
  },
  {
   "cell_type": "code",
   "execution_count": 17,
   "id": "2d558085",
   "metadata": {},
   "outputs": [],
   "source": [
    "#df['Cholesterol_measure'] =  df.apply(lambda x: np.where(x[\"Cholesterol\"] > 0, 1, 0) , axis=1)"
   ]
  },
  {
   "cell_type": "markdown",
   "id": "04493978",
   "metadata": {},
   "source": [
    "   - Analyse Target / concat ( cat+num)\n",
    "    - Analyse Target / Variables categorielles \n",
    "    - Analyse Target / Variables numeriques  \n",
    "    "
   ]
  },
  {
   "cell_type": "markdown",
   "id": "a34a5e39",
   "metadata": {},
   "source": [
    "### Conclusions de base:\n",
    "       Ce jeu de données ne possedent pas de valeurs manquantes, avec une majorité de valeurs hommes que femmes. \n",
    "    "
   ]
  },
  {
   "cell_type": "markdown",
   "id": "21dfcea3-91c9-40a1-bc7d-55e33a88a5bb",
   "metadata": {},
   "source": [
    "### **Preprocessing**"
   ]
  },
  {
   "cell_type": "markdown",
   "id": "9bad9ddf-7823-4956-9cb8-0ec9e242365a",
   "metadata": {},
   "source": [
    "**Preparing dataset into train & test samples**"
   ]
  },
  {
   "cell_type": "code",
   "execution_count": 18,
   "id": "31e80a67-e43f-40e2-87e3-b486db933fb5",
   "metadata": {},
   "outputs": [],
   "source": [
    "#extraction de la cible(y) et des variables explicatives(X)\n",
    "y=df[\"HeartDisease\"]\n",
    "X=df.drop([\"HeartDisease\"],axis=1)"
   ]
  },
  {
   "cell_type": "code",
   "execution_count": 19,
   "id": "7e7c072d",
   "metadata": {},
   "outputs": [],
   "source": [
    "#séparation des données : données d'entrainement & données de test \n",
    "X_train,X_test,y_train,y_test = train_test_split(X, y, test_size=0.30, random_state=42)"
   ]
  },
  {
   "cell_type": "markdown",
   "id": "d272dfe1-88ec-4caf-a6c9-63d71bec971a",
   "metadata": {},
   "source": [
    "### _Première itération_ : Encodages de features \n",
    "\n",
    "**Encodage _1**\n",
    "        . Traitement des variables catégorielles : OneHotEncoder()\n",
    "        . Traitement des variables numériques : RobustSclaer()"
   ]
  },
  {
   "cell_type": "code",
   "execution_count": 20,
   "id": "d2e0891d-e159-4eec-8f03-403ab95702f9",
   "metadata": {},
   "outputs": [],
   "source": [
    "# # Encoding training Dataset  \n",
    "# X1_train = pd.concat([nums_values(X_train,X_train, RobustScaler()),\n",
    "#                       encode_cat_values(X_train, X_train, OneHotEncoder())],axis=1)"
   ]
  },
  {
   "cell_type": "code",
   "execution_count": 21,
   "id": "b3110d84-b139-4dd1-a703-4fada2ae0f32",
   "metadata": {},
   "outputs": [],
   "source": [
    "# # Encoding test Dataset \n",
    "# X1_test = pd.concat([nums_values(X_train,X_test, RobustScaler()),\n",
    "#                       encode_cat_values(X_train, X_test, OneHotEncoder())],axis=1)"
   ]
  },
  {
   "cell_type": "markdown",
   "id": "9098d671-0c0e-46c6-8d75-c420293a7194",
   "metadata": {},
   "source": [
    "**Modelisation_1** "
   ]
  },
  {
   "cell_type": "code",
   "execution_count": 22,
   "id": "87b2a9f3-ac5d-4dee-b499-ac2404b1baa8",
   "metadata": {},
   "outputs": [],
   "source": [
    "#clas_ml(X1_train, y_train, X1_test, y_test)"
   ]
  },
  {
   "cell_type": "markdown",
   "id": "223db576-5bd8-495f-babc-d6dd1613e941",
   "metadata": {},
   "source": [
    "**Encodage _2**\n",
    "        . Traitement des variables catégorielles : OneHotEncoder()\n",
    "        . Traitement des variables numériques : StandardSclaer()"
   ]
  },
  {
   "cell_type": "code",
   "execution_count": 23,
   "id": "afaf09b1-994b-4823-9031-eda16903f434",
   "metadata": {},
   "outputs": [],
   "source": [
    "# # Encoding training Dataset  \n",
    "# X2_train = pd.concat([nums_values(X_train,X_train, StandardScaler()),\n",
    "#                       encode_cat_values(X_train, X_train, OneHotEncoder())],axis=1)"
   ]
  },
  {
   "cell_type": "code",
   "execution_count": 24,
   "id": "d58c95e1-8f16-4aa4-9e6c-aa588f17633e",
   "metadata": {},
   "outputs": [],
   "source": [
    "# # Encoding test Dataset \n",
    "# X2_test = pd.concat([nums_values(X_train,X_test, StandardScaler()),\n",
    "#                       encode_cat_values(X_train, X_test, OneHotEncoder())],axis=1)"
   ]
  },
  {
   "cell_type": "markdown",
   "id": "525ac333-ac5c-43e3-b0ee-2ded57c867cc",
   "metadata": {},
   "source": [
    "**Modelisation_2** "
   ]
  },
  {
   "cell_type": "code",
   "execution_count": 25,
   "id": "867e4610-832a-4fa8-a2bf-851798a61606",
   "metadata": {},
   "outputs": [],
   "source": [
    "#clas_ml(X2_train, y_train, X2_test, y_test)"
   ]
  },
  {
   "cell_type": "markdown",
   "id": "f059384e",
   "metadata": {},
   "source": [
    "### _Deuxième itération_ : Selection  de features\n",
    "\n",
    "   **Methode 1 :**\n",
    "   - Création de sous-ensembles: nouvelle colone pour taux_cholesterol infé à 0 <==>\n",
    "     cholesterol_rate = 0 :: non measure , new_col <=> choles_rate measure = O for no & 1 for yes , \n",
    "        function apply to use "
   ]
  },
  {
   "cell_type": "code",
   "execution_count": 26,
   "id": "3c768c3d-780a-48a9-9bdc-865d700bddf5",
   "metadata": {},
   "outputs": [],
   "source": [
    "df_new = df.copy()"
   ]
  },
  {
   "cell_type": "code",
   "execution_count": 27,
   "id": "3396d601-1f45-4f36-beb0-0fbfd362751a",
   "metadata": {},
   "outputs": [],
   "source": [
    "df_new['Cholesterol_measure'] =  (df_new[[\"Cholesterol\"]].sum(axis=1) > 0).astype(int)"
   ]
  },
  {
   "cell_type": "code",
   "execution_count": 28,
   "id": "d3e4f2d9-1881-4a97-85b1-3a0235d7b841",
   "metadata": {},
   "outputs": [
    {
     "data": {
      "text/html": [
       "<div>\n",
       "<style scoped>\n",
       "    .dataframe tbody tr th:only-of-type {\n",
       "        vertical-align: middle;\n",
       "    }\n",
       "\n",
       "    .dataframe tbody tr th {\n",
       "        vertical-align: top;\n",
       "    }\n",
       "\n",
       "    .dataframe thead th {\n",
       "        text-align: right;\n",
       "    }\n",
       "</style>\n",
       "<table border=\"1\" class=\"dataframe\">\n",
       "  <thead>\n",
       "    <tr style=\"text-align: right;\">\n",
       "      <th></th>\n",
       "      <th>Age</th>\n",
       "      <th>Sex</th>\n",
       "      <th>ChestPainType</th>\n",
       "      <th>RestingBP</th>\n",
       "      <th>Cholesterol</th>\n",
       "      <th>FastingBS</th>\n",
       "      <th>RestingECG</th>\n",
       "      <th>MaxHR</th>\n",
       "      <th>ExerciseAngina</th>\n",
       "      <th>Oldpeak</th>\n",
       "      <th>ST_Slope</th>\n",
       "      <th>HeartDisease</th>\n",
       "      <th>Cholesterol_measure</th>\n",
       "    </tr>\n",
       "  </thead>\n",
       "  <tbody>\n",
       "    <tr>\n",
       "      <th>0</th>\n",
       "      <td>40</td>\n",
       "      <td>M</td>\n",
       "      <td>ATA</td>\n",
       "      <td>140</td>\n",
       "      <td>289</td>\n",
       "      <td>0</td>\n",
       "      <td>Normal</td>\n",
       "      <td>172</td>\n",
       "      <td>N</td>\n",
       "      <td>0.0</td>\n",
       "      <td>Up</td>\n",
       "      <td>0</td>\n",
       "      <td>1</td>\n",
       "    </tr>\n",
       "    <tr>\n",
       "      <th>1</th>\n",
       "      <td>49</td>\n",
       "      <td>F</td>\n",
       "      <td>NAP</td>\n",
       "      <td>160</td>\n",
       "      <td>180</td>\n",
       "      <td>0</td>\n",
       "      <td>Normal</td>\n",
       "      <td>156</td>\n",
       "      <td>N</td>\n",
       "      <td>1.0</td>\n",
       "      <td>Flat</td>\n",
       "      <td>1</td>\n",
       "      <td>1</td>\n",
       "    </tr>\n",
       "    <tr>\n",
       "      <th>2</th>\n",
       "      <td>37</td>\n",
       "      <td>M</td>\n",
       "      <td>ATA</td>\n",
       "      <td>130</td>\n",
       "      <td>283</td>\n",
       "      <td>0</td>\n",
       "      <td>ST</td>\n",
       "      <td>98</td>\n",
       "      <td>N</td>\n",
       "      <td>0.0</td>\n",
       "      <td>Up</td>\n",
       "      <td>0</td>\n",
       "      <td>1</td>\n",
       "    </tr>\n",
       "    <tr>\n",
       "      <th>3</th>\n",
       "      <td>48</td>\n",
       "      <td>F</td>\n",
       "      <td>ASY</td>\n",
       "      <td>138</td>\n",
       "      <td>214</td>\n",
       "      <td>0</td>\n",
       "      <td>Normal</td>\n",
       "      <td>108</td>\n",
       "      <td>Y</td>\n",
       "      <td>1.5</td>\n",
       "      <td>Flat</td>\n",
       "      <td>1</td>\n",
       "      <td>1</td>\n",
       "    </tr>\n",
       "    <tr>\n",
       "      <th>4</th>\n",
       "      <td>54</td>\n",
       "      <td>M</td>\n",
       "      <td>NAP</td>\n",
       "      <td>150</td>\n",
       "      <td>195</td>\n",
       "      <td>0</td>\n",
       "      <td>Normal</td>\n",
       "      <td>122</td>\n",
       "      <td>N</td>\n",
       "      <td>0.0</td>\n",
       "      <td>Up</td>\n",
       "      <td>0</td>\n",
       "      <td>1</td>\n",
       "    </tr>\n",
       "  </tbody>\n",
       "</table>\n",
       "</div>"
      ],
      "text/plain": [
       "   Age Sex ChestPainType  RestingBP  Cholesterol  FastingBS RestingECG  MaxHR  \\\n",
       "0   40   M           ATA        140          289          0     Normal    172   \n",
       "1   49   F           NAP        160          180          0     Normal    156   \n",
       "2   37   M           ATA        130          283          0         ST     98   \n",
       "3   48   F           ASY        138          214          0     Normal    108   \n",
       "4   54   M           NAP        150          195          0     Normal    122   \n",
       "\n",
       "  ExerciseAngina  Oldpeak ST_Slope  HeartDisease  Cholesterol_measure  \n",
       "0              N      0.0       Up             0                    1  \n",
       "1              N      1.0     Flat             1                    1  \n",
       "2              N      0.0       Up             0                    1  \n",
       "3              Y      1.5     Flat             1                    1  \n",
       "4              N      0.0       Up             0                    1  "
      ]
     },
     "execution_count": 28,
     "metadata": {},
     "output_type": "execute_result"
    }
   ],
   "source": [
    "df_new.head()"
   ]
  },
  {
   "cell_type": "code",
   "execution_count": 29,
   "id": "ca81fddd-408c-4b57-af75-e4c99c7cf8c5",
   "metadata": {},
   "outputs": [],
   "source": [
    "y_op = df_new[\"HeartDisease\"]\n",
    "X_op = df_new.drop([\"HeartDisease\"],axis=1)"
   ]
  },
  {
   "cell_type": "code",
   "execution_count": 30,
   "id": "58baf612-184b-4f49-9e9f-496d3f5df3b1",
   "metadata": {},
   "outputs": [],
   "source": [
    "#séparation des données : données d'entrainement & données de test \n",
    "X_op_train,X_op_test,y_op_train,y_op_test = train_test_split(X_op, y_op, test_size=0.30, random_state=42)"
   ]
  },
  {
   "cell_type": "code",
   "execution_count": 31,
   "id": "0805f527-0081-49b6-bb5d-14204c27adf0",
   "metadata": {},
   "outputs": [],
   "source": [
    "X1_op_train = pd.concat([nums_values(X_op_train,X_op_train, StandardScaler()),\n",
    "                      encode_cat_values(X_op_train, X_op_train, OneHotEncoder())],axis=1)"
   ]
  },
  {
   "cell_type": "code",
   "execution_count": 32,
   "id": "3ad16f07-57bd-4a47-9d70-35c9cf60351a",
   "metadata": {},
   "outputs": [],
   "source": [
    "X1_op_test = pd.concat([nums_values(X_op_train,X_op_test, StandardScaler()),\n",
    "                        encode_cat_values(X_op_train, X_op_test, OneHotEncoder())],axis=1)"
   ]
  },
  {
   "cell_type": "code",
   "execution_count": 33,
   "id": "2f13a6f7-c814-44a6-8418-4f179e5fcaa9",
   "metadata": {},
   "outputs": [],
   "source": [
    "#clas_ml(X1_op_train, y_op_train, X1_op_test, y_op_test)"
   ]
  },
  {
   "cell_type": "code",
   "execution_count": null,
   "id": "d00b7c16-8ee3-4703-a313-c30b5b5cc8bf",
   "metadata": {},
   "outputs": [],
   "source": []
  },
  {
   "cell_type": "markdown",
   "id": "265cb54b-3260-402e-808a-b65fc2315189",
   "metadata": {},
   "source": [
    "**Methode 2:** \n",
    "- Suppresion des colones : \n",
    "    - ExerciceAngina\n",
    "    - FastingBS"
   ]
  },
  {
   "cell_type": "code",
   "execution_count": 34,
   "id": "cc38def9-4187-42ab-8263-37292abd966a",
   "metadata": {},
   "outputs": [
    {
     "data": {
      "text/html": [
       "<div>\n",
       "<style scoped>\n",
       "    .dataframe tbody tr th:only-of-type {\n",
       "        vertical-align: middle;\n",
       "    }\n",
       "\n",
       "    .dataframe tbody tr th {\n",
       "        vertical-align: top;\n",
       "    }\n",
       "\n",
       "    .dataframe thead th {\n",
       "        text-align: right;\n",
       "    }\n",
       "</style>\n",
       "<table border=\"1\" class=\"dataframe\">\n",
       "  <thead>\n",
       "    <tr style=\"text-align: right;\">\n",
       "      <th></th>\n",
       "      <th>Age</th>\n",
       "      <th>Sex</th>\n",
       "      <th>ChestPainType</th>\n",
       "      <th>RestingBP</th>\n",
       "      <th>Cholesterol</th>\n",
       "      <th>FastingBS</th>\n",
       "      <th>RestingECG</th>\n",
       "      <th>MaxHR</th>\n",
       "      <th>ExerciseAngina</th>\n",
       "      <th>Oldpeak</th>\n",
       "      <th>ST_Slope</th>\n",
       "      <th>Cholesterol_measure</th>\n",
       "    </tr>\n",
       "  </thead>\n",
       "  <tbody>\n",
       "    <tr>\n",
       "      <th>0</th>\n",
       "      <td>40</td>\n",
       "      <td>M</td>\n",
       "      <td>ATA</td>\n",
       "      <td>140</td>\n",
       "      <td>289</td>\n",
       "      <td>0</td>\n",
       "      <td>Normal</td>\n",
       "      <td>172</td>\n",
       "      <td>N</td>\n",
       "      <td>0.0</td>\n",
       "      <td>Up</td>\n",
       "      <td>1</td>\n",
       "    </tr>\n",
       "    <tr>\n",
       "      <th>1</th>\n",
       "      <td>49</td>\n",
       "      <td>F</td>\n",
       "      <td>NAP</td>\n",
       "      <td>160</td>\n",
       "      <td>180</td>\n",
       "      <td>0</td>\n",
       "      <td>Normal</td>\n",
       "      <td>156</td>\n",
       "      <td>N</td>\n",
       "      <td>1.0</td>\n",
       "      <td>Flat</td>\n",
       "      <td>1</td>\n",
       "    </tr>\n",
       "    <tr>\n",
       "      <th>2</th>\n",
       "      <td>37</td>\n",
       "      <td>M</td>\n",
       "      <td>ATA</td>\n",
       "      <td>130</td>\n",
       "      <td>283</td>\n",
       "      <td>0</td>\n",
       "      <td>ST</td>\n",
       "      <td>98</td>\n",
       "      <td>N</td>\n",
       "      <td>0.0</td>\n",
       "      <td>Up</td>\n",
       "      <td>1</td>\n",
       "    </tr>\n",
       "  </tbody>\n",
       "</table>\n",
       "</div>"
      ],
      "text/plain": [
       "   Age Sex ChestPainType  RestingBP  Cholesterol  FastingBS RestingECG  MaxHR  \\\n",
       "0   40   M           ATA        140          289          0     Normal    172   \n",
       "1   49   F           NAP        160          180          0     Normal    156   \n",
       "2   37   M           ATA        130          283          0         ST     98   \n",
       "\n",
       "  ExerciseAngina  Oldpeak ST_Slope  Cholesterol_measure  \n",
       "0              N      0.0       Up                    1  \n",
       "1              N      1.0     Flat                    1  \n",
       "2              N      0.0       Up                    1  "
      ]
     },
     "execution_count": 34,
     "metadata": {},
     "output_type": "execute_result"
    }
   ],
   "source": [
    "X_op.head(3)"
   ]
  },
  {
   "cell_type": "code",
   "execution_count": 35,
   "id": "090b8d93-40a4-409b-886f-4434ed71283a",
   "metadata": {},
   "outputs": [],
   "source": [
    "X_op2 = X_op.drop([\"ExerciseAngina\", \"FastingBS\"],axis = 1)"
   ]
  },
  {
   "cell_type": "code",
   "execution_count": 36,
   "id": "9aa63510-595a-450b-891d-bb5d1089d1c0",
   "metadata": {},
   "outputs": [],
   "source": [
    "#séparation des données : données d'entrainement & données de test \n",
    "X_op2_train,X_op2_test,y_op2_train,y_op2_test = train_test_split(X_op2, y_op, test_size=0.30, random_state=42)"
   ]
  },
  {
   "cell_type": "code",
   "execution_count": 37,
   "id": "86a8d64b-08d2-432a-8351-2c42e412f173",
   "metadata": {},
   "outputs": [],
   "source": [
    "X2_op_train = pd.concat([nums_values(X_op2_train,X_op2_train, StandardScaler()),\n",
    "                      encode_cat_values(X_op_train, X_op_train, OneHotEncoder())],axis=1)\n",
    "#***\n",
    "X2_op_test = pd.concat([nums_values(X_op2_train,X_op2_test, StandardScaler()),\n",
    "                        encode_cat_values(X_op_train, X_op_test, OneHotEncoder())],axis=1)"
   ]
  },
  {
   "cell_type": "code",
   "execution_count": 38,
   "id": "9dfed9a9-2beb-4680-97f6-291ae0530361",
   "metadata": {},
   "outputs": [
    {
     "name": "stderr",
     "output_type": "stream",
     "text": [
      "C:\\Users\\asnga\\anaconda3\\envs\\katalyse\\lib\\site-packages\\sklearn\\utils\\validation.py:768: UserWarning: pandas.DataFrame with sparse columns found.It will be converted to a dense numpy array.\n",
      "  warnings.warn(\n",
      "C:\\Users\\asnga\\anaconda3\\envs\\katalyse\\lib\\site-packages\\sklearn\\utils\\validation.py:768: UserWarning: pandas.DataFrame with sparse columns found.It will be converted to a dense numpy array.\n",
      "  warnings.warn(\n",
      "C:\\Users\\asnga\\anaconda3\\envs\\katalyse\\lib\\site-packages\\sklearn\\utils\\validation.py:768: UserWarning: pandas.DataFrame with sparse columns found.It will be converted to a dense numpy array.\n",
      "  warnings.warn(\n",
      "C:\\Users\\asnga\\anaconda3\\envs\\katalyse\\lib\\site-packages\\sklearn\\utils\\validation.py:768: UserWarning: pandas.DataFrame with sparse columns found.It will be converted to a dense numpy array.\n",
      "  warnings.warn(\n",
      "C:\\Users\\asnga\\anaconda3\\envs\\katalyse\\lib\\site-packages\\sklearn\\utils\\validation.py:768: UserWarning: pandas.DataFrame with sparse columns found.It will be converted to a dense numpy array.\n",
      "  warnings.warn(\n",
      "C:\\Users\\asnga\\anaconda3\\envs\\katalyse\\lib\\site-packages\\sklearn\\utils\\validation.py:768: UserWarning: pandas.DataFrame with sparse columns found.It will be converted to a dense numpy array.\n",
      "  warnings.warn(\n",
      "C:\\Users\\asnga\\anaconda3\\envs\\katalyse\\lib\\site-packages\\sklearn\\utils\\validation.py:768: UserWarning: pandas.DataFrame with sparse columns found.It will be converted to a dense numpy array.\n",
      "  warnings.warn(\n",
      "C:\\Users\\asnga\\anaconda3\\envs\\katalyse\\lib\\site-packages\\sklearn\\utils\\validation.py:768: UserWarning: pandas.DataFrame with sparse columns found.It will be converted to a dense numpy array.\n",
      "  warnings.warn(\n",
      "C:\\Users\\asnga\\anaconda3\\envs\\katalyse\\lib\\site-packages\\sklearn\\utils\\validation.py:768: UserWarning: pandas.DataFrame with sparse columns found.It will be converted to a dense numpy array.\n",
      "  warnings.warn(\n",
      "C:\\Users\\asnga\\anaconda3\\envs\\katalyse\\lib\\site-packages\\sklearn\\utils\\validation.py:768: UserWarning: pandas.DataFrame with sparse columns found.It will be converted to a dense numpy array.\n",
      "  warnings.warn(\n",
      "C:\\Users\\asnga\\anaconda3\\envs\\katalyse\\lib\\site-packages\\sklearn\\utils\\validation.py:768: UserWarning: pandas.DataFrame with sparse columns found.It will be converted to a dense numpy array.\n",
      "  warnings.warn(\n",
      "C:\\Users\\asnga\\anaconda3\\envs\\katalyse\\lib\\site-packages\\sklearn\\utils\\validation.py:768: UserWarning: pandas.DataFrame with sparse columns found.It will be converted to a dense numpy array.\n",
      "  warnings.warn(\n",
      "C:\\Users\\asnga\\anaconda3\\envs\\katalyse\\lib\\site-packages\\sklearn\\utils\\validation.py:768: UserWarning: pandas.DataFrame with sparse columns found.It will be converted to a dense numpy array.\n",
      "  warnings.warn(\n",
      "C:\\Users\\asnga\\anaconda3\\envs\\katalyse\\lib\\site-packages\\sklearn\\utils\\validation.py:768: UserWarning: pandas.DataFrame with sparse columns found.It will be converted to a dense numpy array.\n",
      "  warnings.warn(\n",
      "C:\\Users\\asnga\\anaconda3\\envs\\katalyse\\lib\\site-packages\\sklearn\\utils\\validation.py:768: UserWarning: pandas.DataFrame with sparse columns found.It will be converted to a dense numpy array.\n",
      "  warnings.warn(\n",
      "C:\\Users\\asnga\\anaconda3\\envs\\katalyse\\lib\\site-packages\\sklearn\\utils\\validation.py:768: UserWarning: pandas.DataFrame with sparse columns found.It will be converted to a dense numpy array.\n",
      "  warnings.warn(\n",
      "C:\\Users\\asnga\\anaconda3\\envs\\katalyse\\lib\\site-packages\\sklearn\\utils\\validation.py:768: UserWarning: pandas.DataFrame with sparse columns found.It will be converted to a dense numpy array.\n",
      "  warnings.warn(\n",
      "C:\\Users\\asnga\\anaconda3\\envs\\katalyse\\lib\\site-packages\\sklearn\\utils\\validation.py:768: UserWarning: pandas.DataFrame with sparse columns found.It will be converted to a dense numpy array.\n",
      "  warnings.warn(\n",
      "C:\\Users\\asnga\\anaconda3\\envs\\katalyse\\lib\\site-packages\\sklearn\\utils\\validation.py:768: UserWarning: pandas.DataFrame with sparse columns found.It will be converted to a dense numpy array.\n",
      "  warnings.warn(\n",
      "C:\\Users\\asnga\\anaconda3\\envs\\katalyse\\lib\\site-packages\\sklearn\\utils\\validation.py:768: UserWarning: pandas.DataFrame with sparse columns found.It will be converted to a dense numpy array.\n",
      "  warnings.warn(\n",
      "C:\\Users\\asnga\\anaconda3\\envs\\katalyse\\lib\\site-packages\\sklearn\\utils\\validation.py:768: UserWarning: pandas.DataFrame with sparse columns found.It will be converted to a dense numpy array.\n",
      "  warnings.warn(\n",
      "C:\\Users\\asnga\\anaconda3\\envs\\katalyse\\lib\\site-packages\\sklearn\\utils\\validation.py:768: UserWarning: pandas.DataFrame with sparse columns found.It will be converted to a dense numpy array.\n",
      "  warnings.warn(\n",
      "C:\\Users\\asnga\\anaconda3\\envs\\katalyse\\lib\\site-packages\\sklearn\\utils\\validation.py:768: UserWarning: pandas.DataFrame with sparse columns found.It will be converted to a dense numpy array.\n",
      "  warnings.warn(\n",
      "C:\\Users\\asnga\\anaconda3\\envs\\katalyse\\lib\\site-packages\\sklearn\\utils\\validation.py:768: UserWarning: pandas.DataFrame with sparse columns found.It will be converted to a dense numpy array.\n",
      "  warnings.warn(\n"
     ]
    },
    {
     "data": {
      "text/plain": [
       "{'Nearest Neighbors': 0.8695652173913043,\n",
       " 'Linear SVM': 0.8840579710144928,\n",
       " 'RBF SVM': 0.7282608695652174,\n",
       " 'Gaussian Process': 0.8876811594202898,\n",
       " 'Decision Tree': 0.7971014492753623,\n",
       " 'Random Forest': 0.8695652173913043,\n",
       " 'AdaBoost': 0.8623188405797102,\n",
       " 'Naive Bayes': 0.8876811594202898}"
      ]
     },
     "execution_count": 38,
     "metadata": {},
     "output_type": "execute_result"
    }
   ],
   "source": [
    "clas_ml(X2_op_train, y_op_train, X2_op_test, y_op_test)"
   ]
  },
  {
   "cell_type": "code",
   "execution_count": 39,
   "id": "5090fd3b-b1d4-459f-b15d-f02052bbb23c",
   "metadata": {},
   "outputs": [],
   "source": [
    "#conf_matrix(y_op_test)"
   ]
  },
  {
   "cell_type": "code",
   "execution_count": 40,
   "id": "7a32e9e0-5dcb-4187-9108-98163fd2a06d",
   "metadata": {},
   "outputs": [
    {
     "ename": "TypeError",
     "evalue": "string indices must be integers",
     "output_type": "error",
     "traceback": [
      "\u001b[1;31m---------------------------------------------------------------------------\u001b[0m",
      "\u001b[1;31mTypeError\u001b[0m                                 Traceback (most recent call last)",
      "\u001b[1;32m~\\AppData\\Local\\Temp\\ipykernel_17420\\3601426764.py\u001b[0m in \u001b[0;36m<module>\u001b[1;34m\u001b[0m\n\u001b[1;32m----> 1\u001b[1;33m \u001b[0mreport\u001b[0m\u001b[1;33m(\u001b[0m\u001b[0my_op_test\u001b[0m\u001b[1;33m)\u001b[0m\u001b[1;33m\u001b[0m\u001b[1;33m\u001b[0m\u001b[0m\n\u001b[0m",
      "\u001b[1;32m~\\KatalyseGits\\HeartDisease\\..\\mypackage\\classifcationmodels.py\u001b[0m in \u001b[0;36mreport\u001b[1;34m(y_test)\u001b[0m\n\u001b[0;32m     83\u001b[0m     \u001b[1;31m#reports = dict()\u001b[0m\u001b[1;33m\u001b[0m\u001b[1;33m\u001b[0m\u001b[1;33m\u001b[0m\u001b[0m\n\u001b[0;32m     84\u001b[0m     \u001b[1;32mfor\u001b[0m \u001b[0mname\u001b[0m\u001b[1;33m,\u001b[0m \u001b[0mpred\u001b[0m \u001b[1;32min\u001b[0m \u001b[0mzip\u001b[0m\u001b[1;33m(\u001b[0m\u001b[0mnames\u001b[0m\u001b[1;33m,\u001b[0m\u001b[0mpredict_rslts\u001b[0m\u001b[1;33m)\u001b[0m\u001b[1;33m:\u001b[0m\u001b[1;33m\u001b[0m\u001b[1;33m\u001b[0m\u001b[0m\n\u001b[1;32m---> 85\u001b[1;33m         \u001b[0mAccuracy\u001b[0m \u001b[1;33m=\u001b[0m \u001b[0mmetrics\u001b[0m\u001b[1;33m.\u001b[0m\u001b[0maccuracy_score\u001b[0m\u001b[1;33m(\u001b[0m\u001b[0my_test\u001b[0m\u001b[1;33m,\u001b[0m \u001b[0mpred\u001b[0m\u001b[1;33m[\u001b[0m\u001b[0mname\u001b[0m\u001b[1;33m]\u001b[0m\u001b[1;33m)\u001b[0m\u001b[1;33m\u001b[0m\u001b[1;33m\u001b[0m\u001b[0m\n\u001b[0m\u001b[0;32m     86\u001b[0m         \u001b[0mPrecision\u001b[0m \u001b[1;33m=\u001b[0m \u001b[0mmetrics\u001b[0m\u001b[1;33m.\u001b[0m\u001b[0mprecision_score\u001b[0m\u001b[1;33m(\u001b[0m\u001b[0my_test\u001b[0m\u001b[1;33m,\u001b[0m \u001b[0mpred\u001b[0m\u001b[1;33m[\u001b[0m\u001b[0mname\u001b[0m\u001b[1;33m]\u001b[0m\u001b[1;33m)\u001b[0m\u001b[1;33m\u001b[0m\u001b[1;33m\u001b[0m\u001b[0m\n\u001b[0;32m     87\u001b[0m         \u001b[0mSensitivity_recall\u001b[0m \u001b[1;33m=\u001b[0m \u001b[0mmetrics\u001b[0m\u001b[1;33m.\u001b[0m\u001b[0mrecall_score\u001b[0m\u001b[1;33m(\u001b[0m\u001b[0my_test\u001b[0m\u001b[1;33m,\u001b[0m \u001b[0mpred\u001b[0m\u001b[1;33m[\u001b[0m\u001b[0mname\u001b[0m\u001b[1;33m]\u001b[0m\u001b[1;33m)\u001b[0m\u001b[1;33m\u001b[0m\u001b[1;33m\u001b[0m\u001b[0m\n",
      "\u001b[1;31mTypeError\u001b[0m: string indices must be integers"
     ]
    }
   ],
   "source": [
    "report(y_op_test)"
   ]
  },
  {
   "cell_type": "code",
   "execution_count": null,
   "id": "387b97f8-951c-48f4-8656-7c8c049e0903",
   "metadata": {},
   "outputs": [],
   "source": []
  }
 ],
 "metadata": {
  "kernelspec": {
   "display_name": "Python [conda env:katalyse] *",
   "language": "python",
   "name": "conda-env-katalyse-py"
  },
  "language_info": {
   "codemirror_mode": {
    "name": "ipython",
    "version": 3
   },
   "file_extension": ".py",
   "mimetype": "text/x-python",
   "name": "python",
   "nbconvert_exporter": "python",
   "pygments_lexer": "ipython3",
   "version": "3.8.16"
  },
  "vscode": {
   "interpreter": {
    "hash": "2e8fee65eab512e4bb5d61eb39ac0a0807026dee9efcef5fe55b39e77ee6461f"
   }
  }
 },
 "nbformat": 4,
 "nbformat_minor": 5
}
