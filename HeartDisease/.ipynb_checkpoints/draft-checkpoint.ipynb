{
 "cells": [
  {
   "cell_type": "code",
   "execution_count": null,
   "id": "232b3cdc",
   "metadata": {},
   "outputs": [],
   "source": [
    "## Boîte à moustache pour \n",
    "\n",
    "sns.set(style='whitegrid')\n",
    "facecolor = '#eaeaf2'\n",
    "fig, ax = plt.subplots(figsize=(10, 6), facecolor=facecolor)\n",
    "\n",
    "x = sns.boxplot(data=data,palette='hls', linewidth=1.2,\n",
    "                 fliersize=2,\n",
    "                order=['Age','RestingBP','Cholesterol',\n",
    "                         'Oldpeak','FastingBS','MaxHR'],\n",
    "                       flierprops=dict(marker='x', markersize=6))\n",
    "\n",
    "font_color = '#525252'\n",
    "csfont = {'fontname':'Georgia'}\n",
    "hfont = {'fontname':'Tahoma'}\n",
    "     \n",
    "#ax.set_ylabel('HeartDisease', fontsize=16, color=font_color, **hfont)\n",
    "for label in (ax.get_xticklabels() + ax.get_yticklabels()):\n",
    "    label.set(fontsize=16, color=font_color, **hfont)\n",
    "    \n",
    "for i, box in enumerate(ax.artists):\n",
    "    col = box.get_facecolor()\n",
    "    plt.setp(ax.lines[i*6+5], mfc=col, mec=col)\n",
    "for \n",
    "    \n",
    "lines = ax.get_lines()\n",
    "categories = ax.get_xticks()\n",
    "      \n",
    "for cat in categories:\n",
    "    y = round(lines[4+cat*6].get_ydata()[0],1)\n",
    "    ax.text(cat, y, f'{y}',ha='center', va='center',\n",
    "             fontweight='semibold', size=1, color='green',\n",
    "             bbox=dict(facecolor='#828280', edgecolor='#828282'))\n",
    "    \n",
    "filename = 'sns-boxplot'\n",
    "plt.savefig(filename+'.png', facecolor=facecolor)"
   ]
  }
 ],
 "metadata": {
  "kernelspec": {
   "display_name": "Python 3 (ipykernel)",
   "language": "python",
   "name": "python3"
  },
  "language_info": {
   "codemirror_mode": {
    "name": "ipython",
    "version": 3
   },
   "file_extension": ".py",
   "mimetype": "text/x-python",
   "name": "python",
   "nbconvert_exporter": "python",
   "pygments_lexer": "ipython3",
   "version": "3.8.12"
  }
 },
 "nbformat": 4,
 "nbformat_minor": 5
}
