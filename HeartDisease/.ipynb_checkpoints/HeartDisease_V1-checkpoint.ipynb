{
 "cells": [
  {
   "cell_type": "markdown",
   "id": "6fea3d12",
   "metadata": {},
   "source": [
    "# Heart Failure Prediction Dataset\n",
    "\n",
    "**Objectif** : Identifier une possible défaillance cardiaque en fonction des rensignements du patient "
   ]
  },
  {
   "cell_type": "markdown",
   "id": "5569b68d",
   "metadata": {},
   "source": [
    "## Packages necessaire: "
   ]
  },
  {
   "cell_type": "code",
   "execution_count": 1,
   "id": "16fd5c6a",
   "metadata": {},
   "outputs": [],
   "source": [
    "import pandas as pd\n",
    "import numpy as np\n",
    "import seaborn as sns\n",
    "import matplotlib as mpl\n",
    "import plotly.express as px\n",
    "import matplotlib.pyplot as plt\n",
    "import pydotplus\n",
    "%matplotlib inline\n",
    "sns.set_style(\"darkgrid\")\n",
    "\n",
    "from six import StringIO\n",
    "from IPython.display import Image  \n",
    "from sklearn.impute import SimpleImputer\n",
    "from sklearn.datasets import make_classification, load_iris\n",
    "from sklearn.pipeline import make_pipeline\n",
    "from sklearn.compose import make_column_transformer,make_column_selector\n",
    "from sklearn.model_selection import train_test_split\n",
    "from sklearn.preprocessing import StandardScaler, LabelEncoder, OneHotEncoder,RobustScaler\n",
    "from sklearn.neighbors import KNeighborsClassifier\n",
    "from sklearn.svm import SVC\n",
    "from sklearn.gaussian_process import GaussianProcessClassifier\n",
    "from sklearn.gaussian_process.kernels import RBF\n",
    "from sklearn.ensemble import RandomForestClassifier\n",
    "from sklearn.naive_bayes import GaussianNB\n",
    "from sklearn.metrics import classification_report, confusion_matrix, accuracy_score\n",
    "from sklearn.tree import export_graphviz, DecisionTreeClassifier\n",
    "from sklearn.feature_selection import RFE, RFECV, chi2, SelectKBest, mutual_info_classif\n",
    "import warnings\n",
    "warnings.filterwarnings('ignore')"
   ]
  },
  {
   "cell_type": "markdown",
   "id": "20fab43a",
   "metadata": {},
   "source": [
    "#### **_A propros de la base de données :_**"
   ]
  },
  {
   "cell_type": "code",
   "execution_count": null,
   "id": "6777eafc",
   "metadata": {},
   "outputs": [],
   "source": [
    "# Definition de toutes les variables\n",
    "df={\"Age\": \"age of the patient [years]\",\n",
    "\n",
    "\"Sex\": \"sex of the patient [M: Male, F: Female]\",\n",
    "\n",
    "\"ChestPainType\": \"chest pain type [TA: Typical Angina, ATA: Atypical Angina, NAP: Non-Anginal Pain, ASY: Asymptomatic]\",\n",
    "\n",
    "\"RestingBP\": \"resting blood pressure [mm Hg]\",\n",
    "\n",
    "\"Cholesterol\": \"serum cholesterol [mm/dl]\",\n",
    "\n",
    "\"FastingBS\": \"fasting blood sugar [1: if FastingBS > 120 mg/dl, 0: otherwise]\",\n",
    "\n",
    "\"RestingECG\": [\"resting electrocardiogram results [Normal: Normal, ST: having ST-T wave abnormality (T wave inversions and/or ST elevation or depression of > 0.05 mV)\", \"LVH: showing probable or definite left ventricular hypertrophy by Estes' criteria\"],\n",
    "\n",
    "\"MaxHR\": \"maximum heart rate achieved [Numeric value between 60 and 202]\",\n",
    "\n",
    "\"ExerciseAngina\": \"exercise-induced angina [Y: Yes, N: No]\",\n",
    "\n",
    "\"Oldpeak\": \"ST [Numeric value measured in depression]\",\n",
    "\n",
    "\"ST_Slope\": \"the slope of the peak exercise ST segment [Up: upsloping, Flat: flat, Down: downsloping]\",\n",
    "\n",
    "\"HeartDisease\": \"output class [1: heart disease, 0: Normal]\"}"
   ]
  },
  {
   "cell_type": "code",
   "execution_count": null,
   "id": "5b093e32",
   "metadata": {},
   "outputs": [],
   "source": [
    "df_explications = pd.DataFrame(df).T\n",
    "df_explications.drop(1, axis=1, inplace=True)\n",
    "df_explications.rename(columns = {0:'Definitions'}, inplace = True)"
   ]
  },
  {
   "cell_type": "code",
   "execution_count": null,
   "id": "38631f46",
   "metadata": {},
   "outputs": [],
   "source": [
    "df_explications"
   ]
  },
  {
   "cell_type": "markdown",
   "id": "c0e21d38",
   "metadata": {},
   "source": [
    "#### **_Recuperation des données_**"
   ]
  },
  {
   "cell_type": "code",
   "execution_count": 2,
   "id": "6a99aae9",
   "metadata": {},
   "outputs": [],
   "source": [
    "# data: stockage des données recuperées du fichier .csv\n",
    "data = pd.read_csv(\"heart.csv\") "
   ]
  },
  {
   "cell_type": "markdown",
   "id": "c6fdc39a",
   "metadata": {},
   "source": [
    "## **Analyse des donnes**"
   ]
  },
  {
   "cell_type": "code",
   "execution_count": null,
   "id": "ff565bea",
   "metadata": {},
   "outputs": [],
   "source": [
    "#Affichage des 5 premières lignes de la table des données \n",
    "data.head(5)"
   ]
  },
  {
   "cell_type": "code",
   "execution_count": null,
   "id": "83f4878c",
   "metadata": {},
   "outputs": [],
   "source": [
    "# Taille du jeu des données \n",
    "# Nombre des lignes :\n",
    "print(\"Ce jeu de données possèdent:\")\n",
    "print(f\"--> {data.shape[0]} lignes\")\n",
    "# Nombre des colones \n",
    "print(f\"--> {data.shape[1]} colones\")"
   ]
  },
  {
   "cell_type": "code",
   "execution_count": null,
   "id": "442a3c77",
   "metadata": {},
   "outputs": [],
   "source": [
    "#un dictionnaire des colones de la tableu par la nature des valeurs contenues\n",
    "type_dct = {str(k): list(v) for k, v in data.groupby(data.dtypes, axis=1)}\n"
   ]
  },
  {
   "cell_type": "code",
   "execution_count": null,
   "id": "fe0d4354",
   "metadata": {},
   "outputs": [],
   "source": [
    "#Compter les valeurs pour identifier de possible valeurs manquantes\n",
    "print(\"Les valeurs par colones:\")\n",
    "data.count()"
   ]
  },
  {
   "cell_type": "markdown",
   "id": "832b993b",
   "metadata": {},
   "source": [
    "**_Toutes les colones sont remplies, donc il n'y a pas de valeurs manquantes_** "
   ]
  },
  {
   "cell_type": "code",
   "execution_count": null,
   "id": "0dc7d4a7",
   "metadata": {},
   "outputs": [],
   "source": [
    "#Identifications des différents catégories\n",
    "print(data[\"RestingECG\"].value_counts().to_frame(),\"\\n\")\n",
    "print(data[\"ST_Slope\"].value_counts().to_frame(),\"\\n\")\n",
    "print(data[\"ChestPainType\"].value_counts().to_frame(),\"\\n\")\n",
    "print(data[\"ExerciseAngina\"].value_counts().to_frame())"
   ]
  },
  {
   "cell_type": "code",
   "execution_count": null,
   "id": "488e27f4",
   "metadata": {},
   "outputs": [],
   "source": [
    "#Quelques statistiques des variables numériques \n",
    "data.describe().T"
   ]
  },
  {
   "cell_type": "markdown",
   "id": "c18a9b53",
   "metadata": {},
   "source": [
    "### **Visualition des données**"
   ]
  },
  {
   "cell_type": "code",
   "execution_count": null,
   "id": "cb2ebdbd",
   "metadata": {},
   "outputs": [],
   "source": [
    "#Nombre total de femmes & d'hommes dans ce jeu de donnée\n",
    "plt.figure(figsize=(10,10))\n",
    "sns.catplot(data=data, x=\"Sex\", kind=\"count\", palette=\"hls\")\n",
    "plt.title(\"Diagramme du nombre total d'hommes & de femmes du jeu de données\")\n",
    "filename = \"Diagramme nombre total hommes & femmes\"\n",
    "plt.savefig(filename+'.png')\n",
    "plt.show();"
   ]
  },
  {
   "cell_type": "code",
   "execution_count": null,
   "id": "18bd2edc",
   "metadata": {},
   "outputs": [],
   "source": [
    "#calcul des valeurs médianes des variables catégorielles\n",
    "med_Sex = data.groupby(\"Sex\")[\"Age\"].median()\n",
    "med_Chestp = data.groupby(\"ChestPainType\")[\"Age\"].median()\n",
    "med_RECG= data.groupby(\"RestingECG\")[\"Age\"].median()\n",
    "med_Slope= data.groupby(\"ST_Slope\")[\"Age\"].median()"
   ]
  },
  {
   "cell_type": "code",
   "execution_count": null,
   "id": "a2993bb2",
   "metadata": {},
   "outputs": [],
   "source": [
    "box = sns.boxplot(data=data, palette='hls', linewidth=1.2,\n",
    "                  fliersize=3, x=\"Sex\",y=\"Age\")\n",
    "for i in range(len(med_Sex)):\n",
    "    box.annotate(str(med_Sex [i]), xy=(i,med_Sex[i]),horizontalalignment=\"center\")\n",
    "\n",
    "plt.title(\"Repartition des patients selon l'âge par genre\")\n",
    "\n",
    "filename = \"Graphe age en fonction du genre\"\n",
    "plt.savefig(filename+'.png')\n",
    "plt.show();"
   ]
  },
  {
   "cell_type": "code",
   "execution_count": null,
   "id": "efc4aaa4",
   "metadata": {},
   "outputs": [],
   "source": [
    "box1 = sns.boxplot(data=data,palette='hls', linewidth=1.2,\n",
    "                   fliersize=3, x=\"ChestPainType\",y=\"Age\")\n",
    "for i in range(len(med_Chestp)):\n",
    "    box1.annotate(str(med_Chestp[i]), xy=(i,med_Chestp[i]),horizontalalignment=\"center\")\n",
    "    \n",
    "plt.title(\"Repartition des patients selon l'âge par type de douleur à la poitrine\")\n",
    "filename = \"Graphe Age en fonction du type de douleur\"\n",
    "plt.savefig(filename+'.png')\n",
    "plt.show();"
   ]
  },
  {
   "cell_type": "code",
   "execution_count": null,
   "id": "a65f9092",
   "metadata": {},
   "outputs": [],
   "source": [
    "box2 = sns.boxplot(data=data,palette='hls', linewidth=1.2, dodge = True,\n",
    "                   fliersize=3, x=\"RestingECG\",y=\"Age\")\n",
    "for i in range(len(med_RECG)):\n",
    "    box2.annotate(str(med_RECG[i]), xy=(i,med_RECG[i]),horizontalalignment=\"center\")\n",
    "\n",
    "plt.title(\"Repartition des patients selon l'âge par Electro-Cardio-Gram au repos\")\n",
    "filename = \"Graphe Age en fonction de l'ECG\"\n",
    "plt.savefig(filename+'.png')\n",
    "plt.show();"
   ]
  },
  {
   "cell_type": "code",
   "execution_count": null,
   "id": "64d97a48",
   "metadata": {},
   "outputs": [],
   "source": [
    "box3= sns.boxplot(data=data,palette='hls', linewidth=1.2, dodge = False,\n",
    "                   fliersize=3, x=\"ST_Slope\",y=\"Age\")\n",
    "for i in range(len(med_Slope)):\n",
    "    box3.annotate(str(med_Slope[i]), xy=(i,med_Slope[i]),horizontalalignment=\"center\")\n",
    "\n",
    "plt.title(\"Repartition des patients selon l'âge par la pente du segment ST d'effort maximal\")\n",
    "filename = \"Graphe Age en fonction du ST_slope\"\n",
    "plt.savefig(filename+'.png')\n",
    "plt.show();"
   ]
  },
  {
   "cell_type": "code",
   "execution_count": null,
   "id": "18c4eaab",
   "metadata": {},
   "outputs": [],
   "source": [
    "#Paiprolt: visualisation globale de toutes les variables du jeu de données\n",
    "sns.set_theme(style=\"ticks\")\n",
    "facecolor = \"#eaeaf2\"\n",
    "plt.figure(figsize=(15,15))\n",
    "sns.pairplot(data,hue=\"HeartDisease\")\n",
    "plt.title(\"Visualisation des relations entre variables\")\n",
    "plt.legend(\"HeartDisease\")\n",
    "plt.tight_layout()\n",
    "filename = 'Pairplot du jeu de données'\n",
    "plt.savefig(filename+'.png', facecolor=facecolor)\n",
    "plt.show();"
   ]
  },
  {
   "cell_type": "code",
   "execution_count": null,
   "id": "18a30ceb",
   "metadata": {},
   "outputs": [],
   "source": [
    "# Shows the Distribution of Heat Diseases with respect to male and female\n",
    "fig=px.histogram(data, x=\"HeartDisease\", color=\"Sex\", hover_data=data.columns, \n",
    "                 title=\"Repartition par patients malades ou non selon le genre\",barmode=\"group\")\n",
    "\n",
    "filename = \"Diagramme cas positif ou non selon le genre\"\n",
    "plt.savefig(filename+'.png')\n",
    "fig.show();"
   ]
  },
  {
   "cell_type": "code",
   "execution_count": null,
   "id": "5974317b",
   "metadata": {
    "scrolled": false
   },
   "outputs": [],
   "source": [
    "#Histrogramme de distribution par variable \n",
    "plt.figure(figsize=(15,10))\n",
    "for i,col in enumerate(data.columns,1):\n",
    "    plt.subplot(4,3,i)\n",
    "    plt.title(f\"Distribution of {col} Data\")\n",
    "    sns.histplot(data[col],kde=True)\n",
    "    plt.tight_layout()\n",
    "    plt.plot()\n",
    "    \n",
    "filename = \"Ensemble de distributions par colones\"\n",
    "plt.savefig(filename+'.png');"
   ]
  },
  {
   "cell_type": "code",
   "execution_count": null,
   "id": "4274c2d0",
   "metadata": {},
   "outputs": [],
   "source": [
    "heatmap = sns.heatmap(data.corr(), vmin=-1, vmax=1, annot=True)\n",
    "# Give a title to the heatmap. Pad defines the distance of the title from the top of the heatmap.\n",
    "heatmap.set_title('Correlation Heatmap', fontdict={'fontsize':12}, pad=12);"
   ]
  },
  {
   "cell_type": "markdown",
   "id": "323401b7",
   "metadata": {},
   "source": [
    "**_les variables numeriques semblent assez independantes les unes des autres_**"
   ]
  },
  {
   "cell_type": "markdown",
   "id": "a729f229",
   "metadata": {},
   "source": [
    "## **Preprocessing :**\n",
    "    \n",
    "    -> Cible : Heart Disease \n",
    "    -> Variables: les onze colones restantes\n",
    "    -> instantiation de la classe de preprocessing pour lancer la démarche de fitting et scaling du model.\n",
    "    -> entraînement du model sur les features d’entraînement (toujours)\n",
    "    -> mise à l'échelle des features (données présentes en X dans le dataset d'étude)\n"
   ]
  },
  {
   "cell_type": "code",
   "execution_count": 3,
   "id": "d18a10c3",
   "metadata": {},
   "outputs": [],
   "source": [
    "#extraction de la cible(y) et des variables explicatives(X)\n",
    "y=data[\"HeartDisease\"]\n",
    "X=data.drop([\"HeartDisease\"],axis=1)"
   ]
  },
  {
   "cell_type": "markdown",
   "id": "829255ff",
   "metadata": {},
   "source": [
    "### **_Les modèles de classification utilisés_**"
   ]
  },
  {
   "cell_type": "code",
   "execution_count": 4,
   "id": "9e7237bc",
   "metadata": {},
   "outputs": [],
   "source": [
    "names=[\"Nearest Neighbors\", \"Linear SVM\",\"RBF SVM\",\n",
    "                      \"Gaussian Process\",\"Decision Tree\",\"Random Forest\",\n",
    "                         \"Naive Bayes\"]\n",
    "clf_models = [ KNeighborsClassifier(3),\n",
    "           SVC(kernel=\"linear\", C=0.025),\n",
    "           SVC(gamma=2, C=1),\n",
    "           GaussianProcessClassifier(1.0 * RBF(1.0)),\n",
    "           DecisionTreeClassifier(max_depth=5),\n",
    "           RandomForestClassifier(max_depth=5, n_estimators=10, max_features=1),\n",
    "          GaussianNB()]"
   ]
  },
  {
   "cell_type": "markdown",
   "id": "33b87b09",
   "metadata": {},
   "source": [
    "### _Première itération_ : Modeles de base \n",
    "\n",
    "     . Utilisation des dummies pour toutes les variables (features)"
   ]
  },
  {
   "cell_type": "code",
   "execution_count": null,
   "id": "f89139a3",
   "metadata": {},
   "outputs": [],
   "source": [
    "#Transformation des variables categorielle\n",
    "X_dummies = pd.get_dummies(X)"
   ]
  },
  {
   "cell_type": "code",
   "execution_count": null,
   "id": "75443c49",
   "metadata": {},
   "outputs": [],
   "source": [
    "#séparation des données : données d'entrainement & données de test \n",
    "X_train_dummies,X_test_dummies,y_train,y_test = train_test_split(X_dummies, y, test_size=0.30, random_state=42)"
   ]
  },
  {
   "cell_type": "code",
   "execution_count": null,
   "id": "654ed3be",
   "metadata": {},
   "outputs": [],
   "source": [
    " # Entrainement et évalaution de chaque modele dans la boucle for \n",
    "tab_score_ml = []\n",
    "for nam, clfml in zip(names,clf_models):\n",
    "    model = clfml\n",
    "    modelfit=model.fit(X_train_dummies, y_train)\n",
    "    score_ml = modelfit.score(X_test_dummies, y_test)\n",
    "    tab_score_ml.append(score_ml)\n",
    "    print(f\"{nam} a un score de :{score_ml}\")\n",
    "    #print(classification_report(y_test, modelfit.predict(X_test_dummies)))\n"
   ]
  },
  {
   "cell_type": "markdown",
   "id": "04ed2323",
   "metadata": {},
   "source": [
    "### _Deuxième itération_ : Optimisation par traitement sur la nature des variables\n",
    "        . Traitement des variables catégorielles : encodage_\n",
    "        . Traitement des variables numériques : Scaling & normalisation_"
   ]
  },
  {
   "cell_type": "code",
   "execution_count": 5,
   "id": "7e7c072d",
   "metadata": {},
   "outputs": [],
   "source": [
    "#séparation des données : données d'entrainement & données de test \n",
    "X_train,X_test,y_train,y_test = train_test_split(X, y, test_size=0.30, random_state=42)"
   ]
  },
  {
   "cell_type": "code",
   "execution_count": 6,
   "id": "93290d34",
   "metadata": {},
   "outputs": [],
   "source": [
    "#Trie entre les variables : catégorielles & numériques \n",
    "var_numeriques = make_column_selector(dtype_include=np.number)\n",
    "var_categorielles = make_column_selector(dtype_exclude=np.number)  "
   ]
  },
  {
   "cell_type": "code",
   "execution_count": 7,
   "id": "c02e3016",
   "metadata": {},
   "outputs": [],
   "source": [
    "#generation du pipeline : une transformation en serie sur les groupes de variables en fonction de leur nature\n",
    "numerique_pipe = make_pipeline(SimpleImputer(),StandardScaler())\n",
    "categorielle_pipe = make_pipeline(SimpleImputer(strategy=\"most_frequent\"),OneHotEncoder(handle_unknown='ignore', drop='first'))"
   ]
  },
  {
   "cell_type": "code",
   "execution_count": 8,
   "id": "8fa37da8",
   "metadata": {},
   "outputs": [],
   "source": [
    "#Application des transformations sur l'ensemble des variables (features)\n",
    "preprocessor = make_column_transformer((numerique_pipe,var_numeriques),(categorielle_pipe,var_categorielles))\n"
   ]
  },
  {
   "cell_type": "code",
   "execution_count": 9,
   "id": "23b4da48",
   "metadata": {},
   "outputs": [
    {
     "name": "stdout",
     "output_type": "stream",
     "text": [
      "Nearest Neighbors a un score de :0.8623188405797102\n",
      "Linear SVM a un score de :0.8514492753623188\n",
      "RBF SVM a un score de :0.7246376811594203\n",
      "Gaussian Process a un score de :0.8876811594202898\n",
      "Decision Tree a un score de :0.7681159420289855\n",
      "Random Forest a un score de :0.8623188405797102\n",
      "Naive Bayes a un score de :0.8768115942028986\n"
     ]
    }
   ],
   "source": [
    " # Entrainement et évalaution de chaque modele dans la boucle for \n",
    "tab_score = []\n",
    "for name, clf in zip(names,clf_models):\n",
    "    model = make_pipeline(preprocessor,clf)\n",
    "    model.fit(X_train, y_train)\n",
    "    score = model.score(X_test, y_test)\n",
    "    tab_score.append(score)\n",
    "    #selector = RFECV(model, step=1,\n",
    "                #min_features_to_select=2, cv=5)\n",
    "    print(f\"{name} a un score de :{score}\")\n",
    "    #print(classification_report(y_test, model.predict(X_test)))"
   ]
  },
  {
   "cell_type": "markdown",
   "id": "9910fbc0",
   "metadata": {},
   "source": [
    "### _Troisième itération_:  Optimisation par selection des variables \n",
    "\n",
    "  **a)** Chi2 entre les varaibles catégorielles \n",
    "  \n",
    "  **b)** RFE & RFECV : éliminent les variables les moins importantes de façon recursive\n",
    "           "
   ]
  },
  {
   "cell_type": "code",
   "execution_count": 14,
   "id": "d728f6e8",
   "metadata": {},
   "outputs": [
    {
     "ename": "SyntaxError",
     "evalue": "invalid syntax (4293190093.py, line 1)",
     "output_type": "error",
     "traceback": [
      "\u001b[1;36m  File \u001b[1;32m\"C:\\Users\\asnga\\AppData\\Local\\Temp\\ipykernel_35420\\4293190093.py\"\u001b[1;36m, line \u001b[1;32m1\u001b[0m\n\u001b[1;33m    X_train_transform =\u001b[0m\n\u001b[1;37m                        ^\u001b[0m\n\u001b[1;31mSyntaxError\u001b[0m\u001b[1;31m:\u001b[0m invalid syntax\n"
     ]
    }
   ],
   "source": [
    "X_train_transform = "
   ]
  },
  {
   "cell_type": "code",
   "execution_count": 13,
   "id": "a5beea20",
   "metadata": {},
   "outputs": [
    {
     "ename": "TypeError",
     "evalue": "mutual_info_classif() missing 1 required positional argument: 'y'",
     "output_type": "error",
     "traceback": [
      "\u001b[1;31m---------------------------------------------------------------------------\u001b[0m",
      "\u001b[1;31mTypeError\u001b[0m                                 Traceback (most recent call last)",
      "\u001b[1;32m~\\AppData\\Local\\Temp\\ipykernel_35420\\536150977.py\u001b[0m in \u001b[0;36m<module>\u001b[1;34m\u001b[0m\n\u001b[1;32m----> 1\u001b[1;33m \u001b[0mmutual_info\u001b[0m \u001b[1;33m=\u001b[0m \u001b[0mmutual_info_classif\u001b[0m\u001b[1;33m(\u001b[0m\u001b[0mmodel\u001b[0m\u001b[1;33m)\u001b[0m\u001b[1;33m\u001b[0m\u001b[1;33m\u001b[0m\u001b[0m\n\u001b[0m",
      "\u001b[1;31mTypeError\u001b[0m: mutual_info_classif() missing 1 required positional argument: 'y'"
     ]
    }
   ],
   "source": [
    "mutual_info = mutual_info_classif(model)"
   ]
  },
  {
   "cell_type": "code",
   "execution_count": null,
   "id": "fb03cbec",
   "metadata": {},
   "outputs": [],
   "source": []
  },
  {
   "cell_type": "code",
   "execution_count": null,
   "id": "c244e3fa",
   "metadata": {},
   "outputs": [],
   "source": []
  },
  {
   "cell_type": "code",
   "execution_count": null,
   "id": "eefd6ec8",
   "metadata": {},
   "outputs": [],
   "source": [
    "cat_vars = data.select_dtypes(include=[\"object\"])\n",
    "y_cat = cat_vars[\"Sex\"]\n",
    "X_cat = cat_vars.drop([\"Sex\"],axis=1)"
   ]
  },
  {
   "cell_type": "code",
   "execution_count": null,
   "id": "471d4ebc",
   "metadata": {},
   "outputs": [],
   "source": [
    "Ohe= OneHotEncoder()\n",
    "X_cat_ohe = Ohe.fit_transform(X_cat)"
   ]
  },
  {
   "cell_type": "code",
   "execution_count": null,
   "id": "8432c356",
   "metadata": {},
   "outputs": [],
   "source": [
    "X_df_encod = pd.DataFrame(X_cat_ohe.toarray())\n",
    "X_df_encod"
   ]
  },
  {
   "cell_type": "code",
   "execution_count": null,
   "id": "190e8549",
   "metadata": {},
   "outputs": [],
   "source": [
    "chi2(X_cat_ohe,y_cat)"
   ]
  },
  {
   "cell_type": "code",
   "execution_count": null,
   "id": "f50d681b",
   "metadata": {},
   "outputs": [],
   "source": [
    "slector = SelectKBest(chi2, k=1)\n",
    "slector.fit_transform(X_cat_ohe,y_cat)\n",
    "encod= slector.get_support()"
   ]
  },
  {
   "cell_type": "code",
   "execution_count": null,
   "id": "0e1e99eb",
   "metadata": {},
   "outputs": [],
   "source": [
    "np.array(X_df_encod.columns)[slector.get_support()]"
   ]
  },
  {
   "cell_type": "code",
   "execution_count": null,
   "id": "df500c5c",
   "metadata": {},
   "outputs": [],
   "source": [
    "n_enc = encod.reshape(1,-1)"
   ]
  },
  {
   "cell_type": "code",
   "execution_count": null,
   "id": "47808317",
   "metadata": {},
   "outputs": [],
   "source": [
    "Ohe.inverse_transform(X_cat_ohe)"
   ]
  },
  {
   "cell_type": "code",
   "execution_count": null,
   "id": "e93dc39e",
   "metadata": {},
   "outputs": [],
   "source": []
  },
  {
   "cell_type": "code",
   "execution_count": null,
   "id": "fd5e23f4",
   "metadata": {},
   "outputs": [],
   "source": []
  }
 ],
 "metadata": {
  "kernelspec": {
   "display_name": "Python 3 (ipykernel)",
   "language": "python",
   "name": "python3"
  },
  "language_info": {
   "codemirror_mode": {
    "name": "ipython",
    "version": 3
   },
   "file_extension": ".py",
   "mimetype": "text/x-python",
   "name": "python",
   "nbconvert_exporter": "python",
   "pygments_lexer": "ipython3",
   "version": "3.8.16"
  }
 },
 "nbformat": 4,
 "nbformat_minor": 5
}
