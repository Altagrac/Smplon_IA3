{
 "cells": [
  {
   "cell_type": "code",
   "execution_count": null,
   "id": "efd920a2",
   "metadata": {},
   "outputs": [],
   "source": [
    "# sns.boxplot(y=data[\"Age\"])\n",
    "# plt.title(\"Repartition des patients selon l'âge par genre\")\n",
    "# filename = \"Graphe age en fonction du genre\"\n",
    "# plt.savefig(filename+'.png')\n",
    "# plt.show();"
   ]
  },
  {
   "cell_type": "code",
   "execution_count": null,
   "id": "73a3c1ca",
   "metadata": {},
   "outputs": [],
   "source": [
    "# #matrice de confusion \n",
    "# confMatrix= confusion_matrix(y_test,y_pred,normalize='pred')\n",
    "# df_CM = pd.DataFrame(confMatrix,index=[\"Pas de defaillance cardiaque\",\"Defaillance cardiaquee\"],columns=[\"Pas de defaillance cardiaque\",\"Defaillance cardiaque\"])\n",
    "\n",
    "# #visualisation de la matrice de confusion \n",
    "# plt.figure(figsize=(6,6))\n",
    "# sns.heatmap(df_CM,annot=True)\n",
    "# plt.title(\"Confusion matrix\");\n",
    "# plt.ylabel('Actal Values')\n",
    "# plt.xlabel('Predicted Values')\n",
    "# plt.show();\n",
    "#Graphe \n",
    "#tree.plot_tree(modelfit);"
   ]
  },
  {
   "cell_type": "code",
   "execution_count": null,
   "id": "896640e1",
   "metadata": {},
   "outputs": [],
   "source": [
    "# neigh_model = KNeighborsClassifier(3)\n",
    "\n",
    "# #entrainement du modele \n",
    "# neigh_model_fit = neigh_model.fit(X_train_dummies,y_train)\n",
    "\n",
    "# #determine si le patient aura une defaillance cardiaque  \n",
    "# y_pred_knn = neigh_model_fit.predict(X_test_dummies)\n",
    "\n",
    "# # Model Accuracy, how often is the classifier correct?\n",
    "# print(\"Accuracy:\",metrics.accuracy_score(y_test_dummies, y_pred_knn))"
   ]
  },
  {
   "cell_type": "code",
   "execution_count": null,
   "id": "fd4419d4",
   "metadata": {},
   "outputs": [],
   "source": [
    "# #matrice de confusion \n",
    "# confMatrix_knn= confusion_matrix(y_test,y_pred_knn,normalize='pred')\n",
    "# df_CM_knn = pd.DataFrame(confMatrix_knn,index=[\"Pas de defaillance cardiaque\",\"Defaillance cardiaquee\"],columns=[\"Pas de defaillance cardiaque\",\"Defaillance cardiaque\"])\n",
    "\n",
    "# #visualisation de la matrice de confusion \n",
    "# plt.figure(figsize=(6,6))\n",
    "# sns.heatmap(df_CM_knn,annot=True)\n",
    "# plt.title(\"Confusion matrix\");\n",
    "# plt.ylabel('Actal Values')\n",
    "# plt.xlabel('Predicted Values')\n",
    "# plt.show();"
   ]
  },
  {
   "cell_type": "code",
   "execution_count": null,
   "id": "00352a63",
   "metadata": {},
   "outputs": [],
   "source": [
    "feature_cols = X_dummies.columns"
   ]
  },
  {
   "cell_type": "code",
   "execution_count": null,
   "id": "45194373",
   "metadata": {},
   "outputs": [],
   "source": [
    "dot_data = StringIO()\n",
    "export_graphviz(modelfit, out_file=dot_data,  \n",
    "                filled=True, rounded=True,\n",
    "                special_characters=True, feature_names = feature_cols,class_names=['0','1'])\n",
    "graph = pydotplus.graph_from_dot_data(dot_data.getvalue())  \n",
    "graph.write_png('diabetes.png')\n",
    "Image(graph.create_png())"
   ]
  },
  {
   "cell_type": "code",
   "execution_count": null,
   "id": "024538b4",
   "metadata": {},
   "outputs": [],
   "source": [
    "# Standardize features by removing mean and scaling to unit variance:\n",
    "scaler = StandardScaler()\n",
    "scaler.fit(X_train)\n",
    "\n",
    "#****apply on numeric features a standard sclaing via sklear module make_column_transformer\n",
    "transforme_nums =make_column_transformer((StandardScaler(),numerics_var))"
   ]
  },
  {
   "cell_type": "code",
   "execution_count": null,
   "id": "232b3cdc",
   "metadata": {},
   "outputs": [],
   "source": [
    "## Boîte à moustache pour \n",
    "\n",
    "sns.set(style='whitegrid')\n",
    "facecolor = '#eaeaf2'\n",
    "fig, ax = plt.subplots(figsize=(10, 6), facecolor=facecolor)\n",
    "\n",
    "x = sns.boxplot(data=data,palette='hls', linewidth=1.2,\n",
    "                 fliersize=2,\n",
    "                order=['Age','RestingBP','Cholesterol',\n",
    "                         'Oldpeak','FastingBS','MaxHR'],\n",
    "                       flierprops=dict(marker='x', markersize=6))\n",
    "\n",
    "font_color = '#525252'\n",
    "csfont = {'fontname':'Georgia'}\n",
    "hfont = {'fontname':'Tahoma'}\n",
    "     \n",
    "#ax.set_ylabel('HeartDisease', fontsize=16, color=font_color, **hfont)\n",
    "for label in (ax.get_xticklabels() + ax.get_yticklabels()):\n",
    "    label.set(fontsize=16, color=font_color, **hfont)\n",
    "    \n",
    "for i, box in enumerate(ax.artists):\n",
    "    col = box.get_facecolor()\n",
    "    plt.setp(ax.lines[i*6+5], mfc=col, mec=col)\n",
    "for \n",
    "    \n",
    "lines = ax.get_lines()\n",
    "categories = ax.get_xticks()\n",
    "      \n",
    "for cat in categories:\n",
    "    y = round(lines[4+cat*6].get_ydata()[0],1)\n",
    "    ax.text(cat, y, f'{y}',ha='center', va='center',\n",
    "             fontweight='semibold', size=1, color='green',\n",
    "             bbox=dict(facecolor='#828280', edgecolor='#828282'))\n",
    "    \n",
    "filename = 'sns-boxplot'\n",
    "plt.savefig(filename+'.png', facecolor=facecolor)"
   ]
  }
 ],
 "metadata": {
  "kernelspec": {
   "display_name": "Python 3 (ipykernel)",
   "language": "python",
   "name": "python3"
  },
  "language_info": {
   "codemirror_mode": {
    "name": "ipython",
    "version": 3
   },
   "file_extension": ".py",
   "mimetype": "text/x-python",
   "name": "python",
   "nbconvert_exporter": "python",
   "pygments_lexer": "ipython3",
   "version": "3.8.12"
  }
 },
 "nbformat": 4,
 "nbformat_minor": 5
}
