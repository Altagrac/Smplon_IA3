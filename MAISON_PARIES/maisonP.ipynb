{
 "cells": [
  {
   "attachments": {},
   "cell_type": "markdown",
   "metadata": {},
   "source": [
    "## USE CASE_ai4industry: Maison Paries\n"
   ]
  },
  {
   "attachments": {},
   "cell_type": "markdown",
   "metadata": {},
   "source": [
    "**Attendus :**  Un rapport nous permettant de connaître les spécificités de nos clients \n",
    "\n",
    "  - Leur profil\n",
    "  - Leurs attentes\n",
    "  - Les raisons qui les amènent à venir chez nous\n",
    "  - Ce qu’ils recherchent…"
   ]
  },
  {
   "attachments": {},
   "cell_type": "markdown",
   "metadata": {},
   "source": [
    "### Packages"
   ]
  },
  {
   "cell_type": "code",
   "execution_count": 9,
   "metadata": {},
   "outputs": [],
   "source": [
    "#******\n",
    "import numpy as np\n",
    "import pandas as pd\n",
    "import seaborn as sns\n",
    "import pickle\n",
    "import warnings\n",
    "import matplotlib.pyplot as plt\n",
    "import warnings\n",
    "warnings.simplefilter(action=\"ignore\", category=FutureWarning)\n",
    "%matplotlib inline\n",
    "#******\n",
    "from pandas_ods_reader import read_ods\n",
    "from sklearn.metrics import classification_report, accuracy_score,confusion_matrix\n",
    "from sklearn.linear_model import LinearRegression\n",
    "from sklearn.neighbors import KNeighborsClassifier\n",
    "from sklearn.preprocessing import OneHotEncoder, MinMaxScaler, StandardScaler\n",
    "from sklearn.metrics import accuracy_score, mean_squared_error\n",
    "from sklearn.compose import ColumnTransformer, make_column_selector,make_column_transformer\n",
    "from sklearn.impute import SimpleImputer\n",
    "from sklearn.model_selection import cross_validate, cross_val_score, train_test_split\n",
    "from sklearn.pipeline import Pipeline, make_pipeline\n",
    "from sklearn import set_config\n",
    "set_config(display='diagram')\n",
    "warnings.filterwarnings('ignore')\n",
    "#********\n",
    "from codes_pkges.classifcationmodels import*\n",
    "from codes_pkges.functions import *\n",
    "from codes_pkges.encoding_functions import *\n",
    "from codes_pkges.opersfunctions import *\n",
    "#********"
   ]
  },
  {
   "attachments": {},
   "cell_type": "markdown",
   "metadata": {},
   "source": [
    "### DATA ANALYZE"
   ]
  },
  {
   "attachments": {},
   "cell_type": "markdown",
   "metadata": {},
   "source": [
    "**Retrieving datasets**"
   ]
  },
  {
   "cell_type": "code",
   "execution_count": 4,
   "metadata": {},
   "outputs": [],
   "source": [
    "#Reading datasets\n",
    "data_winter= pd.read_excel(\"etudfinal1.xlsx\") \n",
    "path = \"etudfinal.ods\"\n",
    "data_summer = read_ods(path)"
   ]
  },
  {
   "cell_type": "code",
   "execution_count": 6,
   "metadata": {},
   "outputs": [],
   "source": [
    "#** to show all the rows of the dataset **\n",
    "pd.set_option('display.max_row',data_winter.shape[0])\n",
    "pd.set_option('display.max_row',data_summer.shape[0])\n",
    "\n",
    "#** to show all the columns of the dataset **\n",
    "pd.set_option('display.max_columns',data_winter.shape[1])\n",
    "pd.set_option('display.max_columns',data_summer.shape[1])"
   ]
  },
  {
   "attachments": {},
   "cell_type": "markdown",
   "metadata": {},
   "source": [
    "**Insight datasets**"
   ]
  },
  {
   "cell_type": "code",
   "execution_count": 7,
   "metadata": {},
   "outputs": [
    {
     "data": {
      "text/html": [
       "<div>\n",
       "<style scoped>\n",
       "    .dataframe tbody tr th:only-of-type {\n",
       "        vertical-align: middle;\n",
       "    }\n",
       "\n",
       "    .dataframe tbody tr th {\n",
       "        vertical-align: top;\n",
       "    }\n",
       "\n",
       "    .dataframe thead th {\n",
       "        text-align: right;\n",
       "    }\n",
       "</style>\n",
       "<table border=\"1\" class=\"dataframe\">\n",
       "  <thead>\n",
       "    <tr style=\"text-align: right;\">\n",
       "      <th></th>\n",
       "      <th>Horodateur</th>\n",
       "      <th>Unnamed: 1</th>\n",
       "      <th>Unnamed: 2</th>\n",
       "      <th>Boutique</th>\n",
       "      <th>code postal</th>\n",
       "      <th>Depuis combien de temps êtes vous un client de la Maison Pariès ?</th>\n",
       "      <th>A quelle fréquence venez-vous nous rendre visite ?</th>\n",
       "      <th>Comment nous avez-vous connus ?</th>\n",
       "      <th>En 2 mots, comment définiriez-vous la Maison ?</th>\n",
       "      <th>A quelle(s) occasion(s) effectuez-vous des achats chez nous</th>\n",
       "      <th>Quel est le produit que vous préférez ?</th>\n",
       "      <th>Quel est le dernier produit de la gamme Pariès que vous connaissez ?</th>\n",
       "      <th>8. Quels sont les produits de nos gammes que vous achetez chez d’autres artisans ?</th>\n",
       "      <th>Pourquoi ?</th>\n",
       "      <th>Où achetez-vous nos produits ?</th>\n",
       "      <th>Avez-vous déjà eu l’occasion de commander nos produits sur notre site en ligne ?</th>\n",
       "      <th>Si vous n'êtes pas de la région, aimeriez-vous pouvoir trouver nos produits à proximité de votre domicile ?</th>\n",
       "      <th>Que devons-nous faire pour progresser ?</th>\n",
       "      <th>14. Dans les grandes évolutions de la consommation, quelles sont les 3 qui vous tiennent le plus à cœur ?</th>\n",
       "      <th>Sexe</th>\n",
       "      <th>Quelle est votre catégorie socio-professionnelle ?</th>\n",
       "      <th>Tranche d'âge</th>\n",
       "      <th>de combien de personnes se compose votre foyer ?</th>\n",
       "      <th>S'il y a des enfants dans votre foyer, quel âge ont-ils ?</th>\n",
       "      <th>Êtes-vous abonné à notre newsletter ?</th>\n",
       "      <th>Si non, confiez-moi votre adresse mail pour recevoir notre actualité (moins de 10 mails par an)</th>\n",
       "    </tr>\n",
       "  </thead>\n",
       "  <tbody>\n",
       "    <tr>\n",
       "      <th>0</th>\n",
       "      <td>2021-09-27 14:22:51</td>\n",
       "      <td>44466</td>\n",
       "      <td>0.593750</td>\n",
       "      <td>Socoa</td>\n",
       "      <td>64310</td>\n",
       "      <td>Depuis quelques années</td>\n",
       "      <td>visite mensuelle</td>\n",
       "      <td>bouche à oreille</td>\n",
       "      <td>Mouchous; glaces</td>\n",
       "      <td>pour me faire plaisir; quand je reçois du mond...</td>\n",
       "      <td>Gateau basque creme</td>\n",
       "      <td>Les petites s noisette</td>\n",
       "      <td>Gateau basque</td>\n",
       "      <td>Ceka depend d'ou elle est</td>\n",
       "      <td>En fonction de l'endroit où je me trouve</td>\n",
       "      <td>Non</td>\n",
       "      <td>NaN</td>\n",
       "      <td>NaN</td>\n",
       "      <td>Alimentation santé bien être et transparence; ...</td>\n",
       "      <td>Femme</td>\n",
       "      <td>Cadre et profession intellectuelle supérieure</td>\n",
       "      <td>35/49</td>\n",
       "      <td>4.0</td>\n",
       "      <td>NaN</td>\n",
       "      <td>Oui</td>\n",
       "      <td>**********</td>\n",
       "    </tr>\n",
       "    <tr>\n",
       "      <th>1</th>\n",
       "      <td>2021-09-27 14:28:34</td>\n",
       "      <td>44466</td>\n",
       "      <td>0.598611</td>\n",
       "      <td>Socoa</td>\n",
       "      <td>80209</td>\n",
       "      <td>C’est une de mes premières visites</td>\n",
       "      <td>C'est la première fois !</td>\n",
       "      <td>par hasard en passant devant</td>\n",
       "      <td>Artisanat; gastronomique</td>\n",
       "      <td>pour me faire plaisir</td>\n",
       "      <td>NaN</td>\n",
       "      <td>NaN</td>\n",
       "      <td>Gateau basque</td>\n",
       "      <td>Le lieu</td>\n",
       "      <td>Toujours dans la même boutique</td>\n",
       "      <td>Non</td>\n",
       "      <td>oui</td>\n",
       "      <td>NaN</td>\n",
       "      <td>Alimentation durable (naturalité, moins de gas...</td>\n",
       "      <td>Homme</td>\n",
       "      <td>Retraité</td>\n",
       "      <td>65 et +</td>\n",
       "      <td>2.0</td>\n",
       "      <td>NaN</td>\n",
       "      <td>Non</td>\n",
       "      <td>**********</td>\n",
       "    </tr>\n",
       "    <tr>\n",
       "      <th>2</th>\n",
       "      <td>2021-09-27 14:42:05</td>\n",
       "      <td>44466</td>\n",
       "      <td>0.604167</td>\n",
       "      <td>Socoa</td>\n",
       "      <td>40920</td>\n",
       "      <td>Depuis quelques années</td>\n",
       "      <td>visite mensuelle</td>\n",
       "      <td>avec vos parents; votre famille</td>\n",
       "      <td>Tres bon</td>\n",
       "      <td>pour me faire plaisir</td>\n",
       "      <td>Gateau basque a la noisette</td>\n",
       "      <td>La buche au chocolat</td>\n",
       "      <td>Les chocolats</td>\n",
       "      <td>Le lieu</td>\n",
       "      <td>Toujours dans la même boutique</td>\n",
       "      <td>Non</td>\n",
       "      <td>NaN</td>\n",
       "      <td>Des pieces montee en chocolat</td>\n",
       "      <td>Alimentation durable (naturalité, moins de gas...</td>\n",
       "      <td>Homme</td>\n",
       "      <td>Cadre et profession intellectuelle supérieure</td>\n",
       "      <td>25/34</td>\n",
       "      <td>4.0</td>\n",
       "      <td>- de 5 ans</td>\n",
       "      <td>Non</td>\n",
       "      <td>**********</td>\n",
       "    </tr>\n",
       "  </tbody>\n",
       "</table>\n",
       "</div>"
      ],
      "text/plain": [
       "           Horodateur  Unnamed: 1  Unnamed: 2 Boutique code postal  \\\n",
       "0 2021-09-27 14:22:51       44466    0.593750    Socoa       64310   \n",
       "1 2021-09-27 14:28:34       44466    0.598611    Socoa       80209   \n",
       "2 2021-09-27 14:42:05       44466    0.604167    Socoa       40920   \n",
       "\n",
       "  Depuis combien de temps êtes vous un client de la Maison Pariès ?  \\\n",
       "0                             Depuis quelques années                  \n",
       "1                 C’est une de mes premières visites                  \n",
       "2                             Depuis quelques années                  \n",
       "\n",
       "  A quelle fréquence venez-vous nous rendre visite ?  \\\n",
       "0                                   visite mensuelle   \n",
       "1                           C'est la première fois !   \n",
       "2                                   visite mensuelle   \n",
       "\n",
       "   Comment nous avez-vous connus ?  \\\n",
       "0                 bouche à oreille   \n",
       "1     par hasard en passant devant   \n",
       "2  avec vos parents; votre famille   \n",
       "\n",
       "  En 2 mots, comment définiriez-vous la Maison ?  \\\n",
       "0                               Mouchous; glaces   \n",
       "1                       Artisanat; gastronomique   \n",
       "2                                       Tres bon   \n",
       "\n",
       "  A quelle(s) occasion(s) effectuez-vous des achats chez nous  \\\n",
       "0  pour me faire plaisir; quand je reçois du mond...            \n",
       "1                              pour me faire plaisir            \n",
       "2                              pour me faire plaisir            \n",
       "\n",
       "  Quel est le produit que vous préférez ?  \\\n",
       "0                     Gateau basque creme   \n",
       "1                                     NaN   \n",
       "2             Gateau basque a la noisette   \n",
       "\n",
       "  Quel est le dernier produit de la gamme Pariès que vous connaissez ?  \\\n",
       "0                             Les petites s noisette                     \n",
       "1                                                NaN                     \n",
       "2                               La buche au chocolat                     \n",
       "\n",
       "  8. Quels sont les produits de nos gammes que vous achetez chez d’autres artisans ?  \\\n",
       "0                                      Gateau basque                                   \n",
       "1                                      Gateau basque                                   \n",
       "2                                      Les chocolats                                   \n",
       "\n",
       "                  Pourquoi ?            Où achetez-vous nos produits ?  \\\n",
       "0  Ceka depend d'ou elle est  En fonction de l'endroit où je me trouve   \n",
       "1                    Le lieu            Toujours dans la même boutique   \n",
       "2                    Le lieu            Toujours dans la même boutique   \n",
       "\n",
       "  Avez-vous déjà eu l’occasion de commander nos produits sur notre site en ligne ?  \\\n",
       "0                                                Non                                 \n",
       "1                                                Non                                 \n",
       "2                                                Non                                 \n",
       "\n",
       "  Si vous n'êtes pas de la région, aimeriez-vous pouvoir trouver nos produits à proximité de votre domicile ?  \\\n",
       "0                                                NaN                                                            \n",
       "1                                                oui                                                            \n",
       "2                                                NaN                                                            \n",
       "\n",
       "  Que devons-nous faire pour progresser ?  \\\n",
       "0                                     NaN   \n",
       "1                                     NaN   \n",
       "2           Des pieces montee en chocolat   \n",
       "\n",
       "  14. Dans les grandes évolutions de la consommation, quelles sont les 3 qui vous tiennent le plus à cœur ?  \\\n",
       "0  Alimentation santé bien être et transparence; ...                                                          \n",
       "1  Alimentation durable (naturalité, moins de gas...                                                          \n",
       "2  Alimentation durable (naturalité, moins de gas...                                                          \n",
       "\n",
       "    Sexe Quelle est votre catégorie socio-professionnelle ? Tranche d'âge  \\\n",
       "0  Femme      Cadre et profession intellectuelle supérieure         35/49   \n",
       "1  Homme                                           Retraité       65 et +   \n",
       "2  Homme      Cadre et profession intellectuelle supérieure         25/34   \n",
       "\n",
       "   de combien de personnes se compose votre foyer ?  \\\n",
       "0                                               4.0   \n",
       "1                                               2.0   \n",
       "2                                               4.0   \n",
       "\n",
       "  S'il y a des enfants dans votre foyer, quel âge ont-ils ?  \\\n",
       "0                                                NaN          \n",
       "1                                                NaN          \n",
       "2                                         - de 5 ans          \n",
       "\n",
       "  Êtes-vous abonné à notre newsletter ?  \\\n",
       "0                                   Oui   \n",
       "1                                   Non   \n",
       "2                                   Non   \n",
       "\n",
       "  Si non, confiez-moi votre adresse mail pour recevoir notre actualité (moins de 10 mails par an)  \n",
       "0                                         **********                                               \n",
       "1                                         **********                                               \n",
       "2                                         **********                                               "
      ]
     },
     "execution_count": 7,
     "metadata": {},
     "output_type": "execute_result"
    }
   ],
   "source": [
    "data_winter.head(3)"
   ]
  },
  {
   "cell_type": "code",
   "execution_count": 17,
   "metadata": {},
   "outputs": [
    {
     "data": {
      "text/html": [
       "<div>\n",
       "<style scoped>\n",
       "    .dataframe tbody tr th:only-of-type {\n",
       "        vertical-align: middle;\n",
       "    }\n",
       "\n",
       "    .dataframe tbody tr th {\n",
       "        vertical-align: top;\n",
       "    }\n",
       "\n",
       "    .dataframe thead th {\n",
       "        text-align: right;\n",
       "    }\n",
       "</style>\n",
       "<table border=\"1\" class=\"dataframe\">\n",
       "  <thead>\n",
       "    <tr style=\"text-align: right;\">\n",
       "      <th></th>\n",
       "      <th>Horodateur</th>\n",
       "      <th>unnamed.1</th>\n",
       "      <th>unnamed.2</th>\n",
       "      <th>Boutique</th>\n",
       "      <th>code postal</th>\n",
       "      <th>Depuis combien de temps êtes vous un client de la Maison Pariès ?</th>\n",
       "      <th>A quelle fréquence venez-vous nous rendre visite ?</th>\n",
       "      <th>Comment nous avez-vous connus ?</th>\n",
       "      <th>En 2 mots, comment définiriez-vous la Maison ?</th>\n",
       "      <th>A quelle(s) occasion(s) effectuez-vous des achats chez nous</th>\n",
       "      <th>Quel est le produit que vous préférez ?</th>\n",
       "      <th>Quel est le dernier produit de la gamme Pariès que vous connaissez ?</th>\n",
       "      <th>8. Quels sont les produits de nos gammes que vous achetez chez d’autres artisans ?</th>\n",
       "      <th>Pourquoi ?</th>\n",
       "      <th>Où achetez-vous nos produits ?</th>\n",
       "      <th>Avez-vous déjà eu l’occasion de commander nos produits sur notre site en ligne ?</th>\n",
       "      <th>Si vous n'êtes pas de la région, aimeriez-vous pouvoir trouver nos produits à proximité de votre domicile ?</th>\n",
       "      <th>Pourquoi ?.1</th>\n",
       "      <th>Que devons-nous faire pour progresser ?</th>\n",
       "      <th>14. Dans les grandes évolutions de la consommation, quelles sont les 3 qui vous tiennent le plus à cœur ?</th>\n",
       "      <th>Sexe</th>\n",
       "      <th>Quelle est votre catégorie socio-professionnelle ?</th>\n",
       "      <th>Tranche d'âge</th>\n",
       "      <th>de combien de personnes se compose votre foyer ?</th>\n",
       "      <th>S'il y a des enfants dans votre foyer, quel âge ont-ils ?</th>\n",
       "      <th>Êtes-vous abonné à notre newsletter ?</th>\n",
       "      <th>Si non, confiez-moi votre adresse mail pour recevoir notre actualité (moins de 10 mails par an)</th>\n",
       "    </tr>\n",
       "  </thead>\n",
       "  <tbody>\n",
       "    <tr>\n",
       "      <th>0</th>\n",
       "      <td>2022-06-08T12:11:42</td>\n",
       "      <td>2022-06-07</td>\n",
       "      <td>PT12H06M00S</td>\n",
       "      <td>St Jean</td>\n",
       "      <td>31410.0</td>\n",
       "      <td>Depuis quelques années</td>\n",
       "      <td>visite exceptionnelle</td>\n",
       "      <td>bouche à oreille</td>\n",
       "      <td>Accueillant</td>\n",
       "      <td>pour me faire plaisir; pour régaler ma famille</td>\n",
       "      <td>Gateau basque</td>\n",
       "      <td>Je ne sais pas</td>\n",
       "      <td>Gateau basque</td>\n",
       "      <td>Proximité</td>\n",
       "      <td>Toujours dans la même boutique</td>\n",
       "      <td>Non</td>\n",
       "      <td>Non</td>\n",
       "      <td>Associé à la région</td>\n",
       "      <td>Je ne sais pas</td>\n",
       "      <td>Alimentation durable (naturalité, moins de gas...</td>\n",
       "      <td>Femme</td>\n",
       "      <td>Retraité</td>\n",
       "      <td>65 et +</td>\n",
       "      <td>2.0</td>\n",
       "      <td>None</td>\n",
       "      <td>Non</td>\n",
       "      <td>None</td>\n",
       "    </tr>\n",
       "    <tr>\n",
       "      <th>1</th>\n",
       "      <td>2022-06-08T12:17:46</td>\n",
       "      <td>2022-06-08</td>\n",
       "      <td>PT12H12M00S</td>\n",
       "      <td>St Jean</td>\n",
       "      <td>64500.0</td>\n",
       "      <td>Depuis toujours</td>\n",
       "      <td>visite exceptionnelle</td>\n",
       "      <td>avec vos parents, votre famille</td>\n",
       "      <td>Bon; Fiable</td>\n",
       "      <td>pour me faire plaisir; pour régaler ma famille...</td>\n",
       "      <td>Pâtisseries</td>\n",
       "      <td>Pâtisseries Béret basque</td>\n",
       "      <td>Aucun</td>\n",
       "      <td>None</td>\n",
       "      <td>Toujours dans la même boutique</td>\n",
       "      <td>Non</td>\n",
       "      <td>None</td>\n",
       "      <td>None</td>\n",
       "      <td>Je ne sais pas</td>\n",
       "      <td>Alimentation santé bien être et transparence</td>\n",
       "      <td>Femme</td>\n",
       "      <td>Retraité</td>\n",
       "      <td>65 et +</td>\n",
       "      <td>2.0</td>\n",
       "      <td>None</td>\n",
       "      <td>Non</td>\n",
       "      <td>None</td>\n",
       "    </tr>\n",
       "    <tr>\n",
       "      <th>2</th>\n",
       "      <td>2022-06-08T12:30:12</td>\n",
       "      <td>2022-06-08</td>\n",
       "      <td>PT12H23M00S</td>\n",
       "      <td>St Jean</td>\n",
       "      <td>62400.0</td>\n",
       "      <td>Depuis quelques années</td>\n",
       "      <td>visite mensuelle</td>\n",
       "      <td>par hasard en passant devant</td>\n",
       "      <td>Plaisant</td>\n",
       "      <td>pour me faire plaisir</td>\n",
       "      <td>Gateau basque chocolat</td>\n",
       "      <td>Viennoiseries Tortillon</td>\n",
       "      <td>Viennoiseries</td>\n",
       "      <td>Trop de monde</td>\n",
       "      <td>Toujours dans la même boutique</td>\n",
       "      <td>Non</td>\n",
       "      <td>None</td>\n",
       "      <td>None</td>\n",
       "      <td>Gateau basque plus épais</td>\n",
       "      <td>Alimentation durable (naturalité, moins de gas...</td>\n",
       "      <td>Femme</td>\n",
       "      <td>Employé</td>\n",
       "      <td>25/34</td>\n",
       "      <td>2.0</td>\n",
       "      <td>None</td>\n",
       "      <td>Non</td>\n",
       "      <td>**********</td>\n",
       "    </tr>\n",
       "  </tbody>\n",
       "</table>\n",
       "</div>"
      ],
      "text/plain": [
       "            Horodateur   unnamed.1    unnamed.2 Boutique code postal  \\\n",
       "0  2022-06-08T12:11:42  2022-06-07  PT12H06M00S  St Jean     31410.0   \n",
       "1  2022-06-08T12:17:46  2022-06-08  PT12H12M00S  St Jean     64500.0   \n",
       "2  2022-06-08T12:30:12  2022-06-08  PT12H23M00S  St Jean     62400.0   \n",
       "\n",
       "  Depuis combien de temps êtes vous un client de la Maison Pariès ?  \\\n",
       "0                             Depuis quelques années                  \n",
       "1                                    Depuis toujours                  \n",
       "2                             Depuis quelques années                  \n",
       "\n",
       "  A quelle fréquence venez-vous nous rendre visite ?  \\\n",
       "0                              visite exceptionnelle   \n",
       "1                              visite exceptionnelle   \n",
       "2                                   visite mensuelle   \n",
       "\n",
       "   Comment nous avez-vous connus ?  \\\n",
       "0                 bouche à oreille   \n",
       "1  avec vos parents, votre famille   \n",
       "2     par hasard en passant devant   \n",
       "\n",
       "  En 2 mots, comment définiriez-vous la Maison ?  \\\n",
       "0                                    Accueillant   \n",
       "1                                    Bon; Fiable   \n",
       "2                                       Plaisant   \n",
       "\n",
       "  A quelle(s) occasion(s) effectuez-vous des achats chez nous  \\\n",
       "0     pour me faire plaisir; pour régaler ma famille            \n",
       "1  pour me faire plaisir; pour régaler ma famille...            \n",
       "2                              pour me faire plaisir            \n",
       "\n",
       "  Quel est le produit que vous préférez ?  \\\n",
       "0                           Gateau basque   \n",
       "1                             Pâtisseries   \n",
       "2                  Gateau basque chocolat   \n",
       "\n",
       "  Quel est le dernier produit de la gamme Pariès que vous connaissez ?  \\\n",
       "0                                     Je ne sais pas                     \n",
       "1                           Pâtisseries Béret basque                     \n",
       "2                            Viennoiseries Tortillon                     \n",
       "\n",
       "  8. Quels sont les produits de nos gammes que vous achetez chez d’autres artisans ?  \\\n",
       "0                                      Gateau basque                                   \n",
       "1                                              Aucun                                   \n",
       "2                                      Viennoiseries                                   \n",
       "\n",
       "      Pourquoi ?  Où achetez-vous nos produits ?  \\\n",
       "0      Proximité  Toujours dans la même boutique   \n",
       "1           None  Toujours dans la même boutique   \n",
       "2  Trop de monde  Toujours dans la même boutique   \n",
       "\n",
       "  Avez-vous déjà eu l’occasion de commander nos produits sur notre site en ligne ?  \\\n",
       "0                                                Non                                 \n",
       "1                                                Non                                 \n",
       "2                                                Non                                 \n",
       "\n",
       "  Si vous n'êtes pas de la région, aimeriez-vous pouvoir trouver nos produits à proximité de votre domicile ?  \\\n",
       "0                                                Non                                                            \n",
       "1                                               None                                                            \n",
       "2                                               None                                                            \n",
       "\n",
       "          Pourquoi ?.1 Que devons-nous faire pour progresser ?  \\\n",
       "0  Associé à la région                          Je ne sais pas   \n",
       "1                 None                          Je ne sais pas   \n",
       "2                 None                Gateau basque plus épais   \n",
       "\n",
       "  14. Dans les grandes évolutions de la consommation, quelles sont les 3 qui vous tiennent le plus à cœur ?  \\\n",
       "0  Alimentation durable (naturalité, moins de gas...                                                          \n",
       "1       Alimentation santé bien être et transparence                                                          \n",
       "2  Alimentation durable (naturalité, moins de gas...                                                          \n",
       "\n",
       "    Sexe Quelle est votre catégorie socio-professionnelle ? Tranche d'âge  \\\n",
       "0  Femme                                           Retraité       65 et +   \n",
       "1  Femme                                           Retraité       65 et +   \n",
       "2  Femme                                            Employé         25/34   \n",
       "\n",
       "   de combien de personnes se compose votre foyer ?  \\\n",
       "0                                               2.0   \n",
       "1                                               2.0   \n",
       "2                                               2.0   \n",
       "\n",
       "  S'il y a des enfants dans votre foyer, quel âge ont-ils ?  \\\n",
       "0                                               None          \n",
       "1                                               None          \n",
       "2                                               None          \n",
       "\n",
       "  Êtes-vous abonné à notre newsletter ?  \\\n",
       "0                                   Non   \n",
       "1                                   Non   \n",
       "2                                   Non   \n",
       "\n",
       "  Si non, confiez-moi votre adresse mail pour recevoir notre actualité (moins de 10 mails par an)  \n",
       "0                                               None                                               \n",
       "1                                               None                                               \n",
       "2                                         **********                                               "
      ]
     },
     "execution_count": 17,
     "metadata": {},
     "output_type": "execute_result"
    }
   ],
   "source": [
    "data_summer.head(3)"
   ]
  },
  {
   "attachments": {},
   "cell_type": "markdown",
   "metadata": {},
   "source": [
    "**Data shape**"
   ]
  },
  {
   "cell_type": "code",
   "execution_count": 10,
   "metadata": {},
   "outputs": [
    {
     "name": "stdout",
     "output_type": "stream",
     "text": [
      "This dataset contains:\n",
      "--> 245 lignes\n",
      "--> 26 colones\n",
      "--> RangeIndex(start=0, stop=245, step=1)\n"
     ]
    }
   ],
   "source": [
    "dshape(data_winter)"
   ]
  },
  {
   "cell_type": "code",
   "execution_count": 11,
   "metadata": {},
   "outputs": [
    {
     "name": "stdout",
     "output_type": "stream",
     "text": [
      "This dataset contains:\n",
      "--> 1191 lignes\n",
      "--> 27 colones\n",
      "--> Int64Index([   0,    1,    2,    3,    4,    5,    6,    7,    8,    9,\n",
      "            ...\n",
      "            1181, 1182, 1183, 1184, 1185, 1186, 1187, 1188, 1189, 1190],\n",
      "           dtype='int64', length=1191)\n"
     ]
    }
   ],
   "source": [
    "dshape(data_summer)\n"
   ]
  },
  {
   "attachments": {},
   "cell_type": "markdown",
   "metadata": {},
   "source": [
    "**Variables types**"
   ]
  },
  {
   "cell_type": "code",
   "execution_count": 18,
   "metadata": {},
   "outputs": [
    {
     "data": {
      "text/plain": [
       "(                                       Numerics_cols  \\\n",
       " 0                                         Unnamed: 1   \n",
       " 1                                         Unnamed: 2   \n",
       " 2   de combien de personnes se compose votre foyer ?   \n",
       " 3                                                NaN   \n",
       " 4                                                NaN   \n",
       " 5                                                NaN   \n",
       " 6                                                NaN   \n",
       " 7                                                NaN   \n",
       " 8                                                NaN   \n",
       " 9                                                NaN   \n",
       " 10                                               NaN   \n",
       " 11                                               NaN   \n",
       " 12                                               NaN   \n",
       " 13                                               NaN   \n",
       " 14                                               NaN   \n",
       " 15                                               NaN   \n",
       " 16                                               NaN   \n",
       " 17                                               NaN   \n",
       " 18                                               NaN   \n",
       " 19                                               NaN   \n",
       " 20                                               NaN   \n",
       " 21                                               NaN   \n",
       " 22                                               NaN   \n",
       " \n",
       "                                      Categorials_cols  \n",
       " 0                                          Horodateur  \n",
       " 1                                            Boutique  \n",
       " 2                                         code postal  \n",
       " 3   Depuis combien de temps êtes vous un client de...  \n",
       " 4   A quelle fréquence venez-vous nous rendre visi...  \n",
       " 5                     Comment nous avez-vous connus ?  \n",
       " 6      En 2 mots, comment définiriez-vous la Maison ?  \n",
       " 7   A quelle(s) occasion(s) effectuez-vous des ach...  \n",
       " 8             Quel est le produit que vous préférez ?  \n",
       " 9   Quel est le dernier produit de la gamme Pariès...  \n",
       " 10  8. Quels sont les produits de nos gammes que v...  \n",
       " 11                                         Pourquoi ?  \n",
       " 12                     Où achetez-vous nos produits ?  \n",
       " 13  Avez-vous déjà eu l’occasion de commander nos ...  \n",
       " 14  Si vous n'êtes pas de la région, aimeriez-vous...  \n",
       " 15            Que devons-nous faire pour progresser ?  \n",
       " 16  14. Dans les grandes évolutions de la consomma...  \n",
       " 17                                               Sexe  \n",
       " 18  Quelle est votre catégorie socio-professionnel...  \n",
       " 19                                      Tranche d'âge  \n",
       " 20  S'il y a des enfants dans votre foyer, quel âg...  \n",
       " 21              Êtes-vous abonné à notre newsletter ?  \n",
       " 22  Si non, confiez-moi votre adresse mail pour re...  ,\n",
       " <AxesSubplot:ylabel='None'>)"
      ]
     },
     "execution_count": 18,
     "metadata": {},
     "output_type": "execute_result"
    },
    {
     "data": {
      "image/png": "[encoded data removed]",
      "text/plain": [
       "<Figure size 432x288 with 1 Axes>"
      ]
     },
     "metadata": {},
     "output_type": "display_data"
    }
   ],
   "source": [
    "data_types(data_winter)"
   ]
  },
  {
   "attachments": {},
   "cell_type": "markdown",
   "metadata": {},
   "source": [
    "## Data session 2 : Saison été"
   ]
  },
  {
   "cell_type": "code",
   "execution_count": null,
   "metadata": {},
   "outputs": [],
   "source": [
    "#recuperation des data \n",
    "path = \"./etudfinal.ods\"\n",
    "df_s2 = read_ods(path)"
   ]
  },
  {
   "attachments": {},
   "cell_type": "markdown",
   "metadata": {},
   "source": [
    "#### Analyse du dataset \n"
   ]
  },
  {
   "cell_type": "code",
   "execution_count": null,
   "metadata": {},
   "outputs": [
    {
     "name": "stdout",
     "output_type": "stream",
     "text": [
      "number of rows :  1191\n",
      "number of columns :  27\n"
     ]
    }
   ],
   "source": [
    "# Taille de la dataset \n",
    "# obtaining the number of rows\n",
    "print(\"number of rows : \", df_s2.shape[0])\n",
    " \n",
    "# obtaining the number of columns\n",
    "print(\"number of columns : \", df_s2.shape[1])"
   ]
  },
  {
   "cell_type": "code",
   "execution_count": null,
   "metadata": {},
   "outputs": [
    {
     "data": {
      "text/html": [
       "<div>\n",
       "<style scoped>\n",
       "    .dataframe tbody tr th:only-of-type {\n",
       "        vertical-align: middle;\n",
       "    }\n",
       "\n",
       "    .dataframe tbody tr th {\n",
       "        vertical-align: top;\n",
       "    }\n",
       "\n",
       "    .dataframe thead th {\n",
       "        text-align: right;\n",
       "    }\n",
       "</style>\n",
       "<table border=\"1\" class=\"dataframe\">\n",
       "  <thead>\n",
       "    <tr style=\"text-align: right;\">\n",
       "      <th></th>\n",
       "      <th>Horodateur</th>\n",
       "      <th>unnamed.1</th>\n",
       "      <th>unnamed.2</th>\n",
       "      <th>Boutique</th>\n",
       "      <th>code postal</th>\n",
       "      <th>Depuis combien de temps êtes vous un client de la Maison Pariès ?</th>\n",
       "      <th>A quelle fréquence venez-vous nous rendre visite ?</th>\n",
       "      <th>Comment nous avez-vous connus ?</th>\n",
       "      <th>En 2 mots, comment définiriez-vous la Maison ?</th>\n",
       "      <th>A quelle(s) occasion(s) effectuez-vous des achats chez nous</th>\n",
       "      <th>...</th>\n",
       "      <th>Pourquoi ?.1</th>\n",
       "      <th>Que devons-nous faire pour progresser ?</th>\n",
       "      <th>14. Dans les grandes évolutions de la consommation, quelles sont les 3 qui vous tiennent le plus à cœur ?</th>\n",
       "      <th>Sexe</th>\n",
       "      <th>Quelle est votre catégorie socio-professionnelle ?</th>\n",
       "      <th>Tranche d'âge</th>\n",
       "      <th>de combien de personnes se compose votre foyer ?</th>\n",
       "      <th>S'il y a des enfants dans votre foyer, quel âge ont-ils ?</th>\n",
       "      <th>Êtes-vous abonné à notre newsletter ?</th>\n",
       "      <th>Si non, confiez-moi votre adresse mail pour recevoir notre actualité (moins de 10 mails par an)</th>\n",
       "    </tr>\n",
       "  </thead>\n",
       "  <tbody>\n",
       "    <tr>\n",
       "      <th>0</th>\n",
       "      <td>2022-06-08T12:11:42</td>\n",
       "      <td>2022-06-07</td>\n",
       "      <td>PT12H06M00S</td>\n",
       "      <td>St Jean</td>\n",
       "      <td>31410.0</td>\n",
       "      <td>Depuis quelques années</td>\n",
       "      <td>visite exceptionnelle</td>\n",
       "      <td>bouche à oreille</td>\n",
       "      <td>Accueillant</td>\n",
       "      <td>pour me faire plaisir; pour régaler ma famille</td>\n",
       "      <td>...</td>\n",
       "      <td>Associé à la région</td>\n",
       "      <td>Je ne sais pas</td>\n",
       "      <td>Alimentation durable (naturalité, moins de gas...</td>\n",
       "      <td>Femme</td>\n",
       "      <td>Retraité</td>\n",
       "      <td>65 et +</td>\n",
       "      <td>2.0</td>\n",
       "      <td>None</td>\n",
       "      <td>Non</td>\n",
       "      <td>None</td>\n",
       "    </tr>\n",
       "    <tr>\n",
       "      <th>1</th>\n",
       "      <td>2022-06-08T12:17:46</td>\n",
       "      <td>2022-06-08</td>\n",
       "      <td>PT12H12M00S</td>\n",
       "      <td>St Jean</td>\n",
       "      <td>64500.0</td>\n",
       "      <td>Depuis toujours</td>\n",
       "      <td>visite exceptionnelle</td>\n",
       "      <td>avec vos parents, votre famille</td>\n",
       "      <td>Bon; Fiable</td>\n",
       "      <td>pour me faire plaisir; pour régaler ma famille...</td>\n",
       "      <td>...</td>\n",
       "      <td>None</td>\n",
       "      <td>Je ne sais pas</td>\n",
       "      <td>Alimentation santé bien être et transparence</td>\n",
       "      <td>Femme</td>\n",
       "      <td>Retraité</td>\n",
       "      <td>65 et +</td>\n",
       "      <td>2.0</td>\n",
       "      <td>None</td>\n",
       "      <td>Non</td>\n",
       "      <td>None</td>\n",
       "    </tr>\n",
       "    <tr>\n",
       "      <th>2</th>\n",
       "      <td>2022-06-08T12:30:12</td>\n",
       "      <td>2022-06-08</td>\n",
       "      <td>PT12H23M00S</td>\n",
       "      <td>St Jean</td>\n",
       "      <td>62400.0</td>\n",
       "      <td>Depuis quelques années</td>\n",
       "      <td>visite mensuelle</td>\n",
       "      <td>par hasard en passant devant</td>\n",
       "      <td>Plaisant</td>\n",
       "      <td>pour me faire plaisir</td>\n",
       "      <td>...</td>\n",
       "      <td>None</td>\n",
       "      <td>Gateau basque plus épais</td>\n",
       "      <td>Alimentation durable (naturalité, moins de gas...</td>\n",
       "      <td>Femme</td>\n",
       "      <td>Employé</td>\n",
       "      <td>25/34</td>\n",
       "      <td>2.0</td>\n",
       "      <td>None</td>\n",
       "      <td>Non</td>\n",
       "      <td>**********</td>\n",
       "    </tr>\n",
       "    <tr>\n",
       "      <th>3</th>\n",
       "      <td>2022-06-08T12:41:39</td>\n",
       "      <td>2022-06-08</td>\n",
       "      <td>PT12H30M00S</td>\n",
       "      <td>St Jean</td>\n",
       "      <td>33820.0</td>\n",
       "      <td>Depuis quelques années</td>\n",
       "      <td>visite exceptionnelle</td>\n",
       "      <td>par hasard en passant devant</td>\n",
       "      <td>Alléchant</td>\n",
       "      <td>pour me faire plaisir; pour faire un cadeau</td>\n",
       "      <td>...</td>\n",
       "      <td>Se faire plaisir plus souvent</td>\n",
       "      <td>Gateau basque plus épais</td>\n",
       "      <td>Alimentation durable (naturalité, moins de gas...</td>\n",
       "      <td>Homme</td>\n",
       "      <td>Retraité</td>\n",
       "      <td>50/64</td>\n",
       "      <td>2.0</td>\n",
       "      <td>None</td>\n",
       "      <td>Non</td>\n",
       "      <td>None</td>\n",
       "    </tr>\n",
       "    <tr>\n",
       "      <th>4</th>\n",
       "      <td>2022-06-08T12:54:14</td>\n",
       "      <td>2022-06-08</td>\n",
       "      <td>PT12H47M00S</td>\n",
       "      <td>St Jean</td>\n",
       "      <td>64210.0</td>\n",
       "      <td>Depuis quelques années</td>\n",
       "      <td>visite exceptionnelle</td>\n",
       "      <td>par hasard en passant devant; bouche à oreille</td>\n",
       "      <td>Savoureux; Raffiné</td>\n",
       "      <td>pour me faire plaisir; pour faire un cadeau</td>\n",
       "      <td>...</td>\n",
       "      <td>None</td>\n",
       "      <td>Baisser les prix; Diversifier les parfums de g...</td>\n",
       "      <td>Alimentation durable (naturalité, moins de gas...</td>\n",
       "      <td>Femme</td>\n",
       "      <td>Employé</td>\n",
       "      <td>25/34</td>\n",
       "      <td>2.0</td>\n",
       "      <td>None</td>\n",
       "      <td>Non</td>\n",
       "      <td>None</td>\n",
       "    </tr>\n",
       "  </tbody>\n",
       "</table>\n",
       "<p>5 rows × 27 columns</p>\n",
       "</div>"
      ],
      "text/plain": [
       "            Horodateur   unnamed.1    unnamed.2 Boutique code postal  \\\n",
       "0  2022-06-08T12:11:42  2022-06-07  PT12H06M00S  St Jean     31410.0   \n",
       "1  2022-06-08T12:17:46  2022-06-08  PT12H12M00S  St Jean     64500.0   \n",
       "2  2022-06-08T12:30:12  2022-06-08  PT12H23M00S  St Jean     62400.0   \n",
       "3  2022-06-08T12:41:39  2022-06-08  PT12H30M00S  St Jean     33820.0   \n",
       "4  2022-06-08T12:54:14  2022-06-08  PT12H47M00S  St Jean     64210.0   \n",
       "\n",
       "  Depuis combien de temps êtes vous un client de la Maison Pariès ?  \\\n",
       "0                             Depuis quelques années                  \n",
       "1                                    Depuis toujours                  \n",
       "2                             Depuis quelques années                  \n",
       "3                             Depuis quelques années                  \n",
       "4                             Depuis quelques années                  \n",
       "\n",
       "  A quelle fréquence venez-vous nous rendre visite ?  \\\n",
       "0                              visite exceptionnelle   \n",
       "1                              visite exceptionnelle   \n",
       "2                                   visite mensuelle   \n",
       "3                              visite exceptionnelle   \n",
       "4                              visite exceptionnelle   \n",
       "\n",
       "                  Comment nous avez-vous connus ?  \\\n",
       "0                                bouche à oreille   \n",
       "1                 avec vos parents, votre famille   \n",
       "2                    par hasard en passant devant   \n",
       "3                    par hasard en passant devant   \n",
       "4  par hasard en passant devant; bouche à oreille   \n",
       "\n",
       "  En 2 mots, comment définiriez-vous la Maison ?  \\\n",
       "0                                    Accueillant   \n",
       "1                                    Bon; Fiable   \n",
       "2                                       Plaisant   \n",
       "3                                      Alléchant   \n",
       "4                             Savoureux; Raffiné   \n",
       "\n",
       "  A quelle(s) occasion(s) effectuez-vous des achats chez nous  ...  \\\n",
       "0     pour me faire plaisir; pour régaler ma famille           ...   \n",
       "1  pour me faire plaisir; pour régaler ma famille...           ...   \n",
       "2                              pour me faire plaisir           ...   \n",
       "3        pour me faire plaisir; pour faire un cadeau           ...   \n",
       "4        pour me faire plaisir; pour faire un cadeau           ...   \n",
       "\n",
       "                    Pourquoi ?.1  \\\n",
       "0            Associé à la région   \n",
       "1                           None   \n",
       "2                           None   \n",
       "3  Se faire plaisir plus souvent   \n",
       "4                           None   \n",
       "\n",
       "             Que devons-nous faire pour progresser ?  \\\n",
       "0                                     Je ne sais pas   \n",
       "1                                     Je ne sais pas   \n",
       "2                           Gateau basque plus épais   \n",
       "3                           Gateau basque plus épais   \n",
       "4  Baisser les prix; Diversifier les parfums de g...   \n",
       "\n",
       "  14. Dans les grandes évolutions de la consommation, quelles sont les 3 qui vous tiennent le plus à cœur ?  \\\n",
       "0  Alimentation durable (naturalité, moins de gas...                                                          \n",
       "1       Alimentation santé bien être et transparence                                                          \n",
       "2  Alimentation durable (naturalité, moins de gas...                                                          \n",
       "3  Alimentation durable (naturalité, moins de gas...                                                          \n",
       "4  Alimentation durable (naturalité, moins de gas...                                                          \n",
       "\n",
       "    Sexe Quelle est votre catégorie socio-professionnelle ? Tranche d'âge  \\\n",
       "0  Femme                                           Retraité       65 et +   \n",
       "1  Femme                                           Retraité       65 et +   \n",
       "2  Femme                                            Employé         25/34   \n",
       "3  Homme                                           Retraité         50/64   \n",
       "4  Femme                                            Employé         25/34   \n",
       "\n",
       "  de combien de personnes se compose votre foyer ?  \\\n",
       "0                                              2.0   \n",
       "1                                              2.0   \n",
       "2                                              2.0   \n",
       "3                                              2.0   \n",
       "4                                              2.0   \n",
       "\n",
       "  S'il y a des enfants dans votre foyer, quel âge ont-ils ?  \\\n",
       "0                                               None          \n",
       "1                                               None          \n",
       "2                                               None          \n",
       "3                                               None          \n",
       "4                                               None          \n",
       "\n",
       "  Êtes-vous abonné à notre newsletter ?  \\\n",
       "0                                   Non   \n",
       "1                                   Non   \n",
       "2                                   Non   \n",
       "3                                   Non   \n",
       "4                                   Non   \n",
       "\n",
       "  Si non, confiez-moi votre adresse mail pour recevoir notre actualité (moins de 10 mails par an)  \n",
       "0                                               None                                               \n",
       "1                                               None                                               \n",
       "2                                         **********                                               \n",
       "3                                               None                                               \n",
       "4                                               None                                               \n",
       "\n",
       "[5 rows x 27 columns]"
      ]
     },
     "execution_count": 8,
     "metadata": {},
     "output_type": "execute_result"
    }
   ],
   "source": [
    "#affichage des 5 premières lignes \n",
    "df_s2.head(5)"
   ]
  },
  {
   "cell_type": "code",
   "execution_count": null,
   "metadata": {},
   "outputs": [
    {
     "data": {
      "text/plain": [
       "Horodateur                                                                                                     1191\n",
       "unnamed.1                                                                                                      1191\n",
       "unnamed.2                                                                                                      1191\n",
       "Boutique                                                                                                       1191\n",
       "code postal                                                                                                    1191\n",
       "Depuis combien de temps êtes vous un client de la Maison Pariès ?                                              1191\n",
       "A quelle fréquence venez-vous nous rendre visite ?                                                             1191\n",
       "Comment nous avez-vous connus ?                                                                                1191\n",
       "En 2 mots, comment définiriez-vous la Maison ?                                                                 1191\n",
       "A quelle(s) occasion(s) effectuez-vous des achats chez nous                                                    1191\n",
       "Quel est le produit que vous préférez ?                                                                        1035\n",
       "Quel est le dernier produit de la gamme Pariès que vous connaissez ?                                            979\n",
       "8. Quels sont les produits de nos gammes que vous achetez chez d’autres artisans ?                             1001\n",
       "Pourquoi ?                                                                                                      605\n",
       "Où achetez-vous nos produits ?                                                                                 1023\n",
       "Avez-vous déjà eu l’occasion de commander nos produits sur notre site en ligne ?                               1191\n",
       "Si vous n'êtes pas de la région, aimeriez-vous pouvoir trouver nos produits à proximité de votre domicile ?     263\n",
       "Pourquoi ?.1                                                                                                    257\n",
       "Que devons-nous faire pour progresser ?                                                                        1006\n",
       "14. Dans les grandes évolutions de la consommation, quelles sont les 3 qui vous tiennent le plus à cœur ?      1176\n",
       "Sexe                                                                                                           1191\n",
       "Quelle est votre catégorie socio-professionnelle ?                                                             1191\n",
       "Tranche d'âge                                                                                                  1191\n",
       "de combien de personnes se compose votre foyer ?                                                               1187\n",
       "S'il y a des enfants dans votre foyer, quel âge ont-ils ?                                                       461\n",
       "Êtes-vous abonné à notre newsletter ?                                                                          1191\n",
       "Si non, confiez-moi votre adresse mail pour recevoir notre actualité (moins de 10 mails par an)                 146\n",
       "dtype: int64"
      ]
     },
     "execution_count": 9,
     "metadata": {},
     "output_type": "execute_result"
    }
   ],
   "source": [
    "#nombres valeurs par colones \n",
    "df_s2.count()"
   ]
  },
  {
   "cell_type": "code",
   "execution_count": null,
   "metadata": {},
   "outputs": [
    {
     "data": {
      "text/plain": [
       "Horodateur                                                                                                      0.000000\n",
       "unnamed.1                                                                                                       0.000000\n",
       "unnamed.2                                                                                                       0.000000\n",
       "Boutique                                                                                                        0.000000\n",
       "code postal                                                                                                     0.000000\n",
       "Depuis combien de temps êtes vous un client de la Maison Pariès ?                                               0.000000\n",
       "A quelle fréquence venez-vous nous rendre visite ?                                                              0.000000\n",
       "Comment nous avez-vous connus ?                                                                                 0.000000\n",
       "En 2 mots, comment définiriez-vous la Maison ?                                                                  0.000000\n",
       "A quelle(s) occasion(s) effectuez-vous des achats chez nous                                                     0.000000\n",
       "Quel est le produit que vous préférez ?                                                                        13.098237\n",
       "Quel est le dernier produit de la gamme Pariès que vous connaissez ?                                           17.800168\n",
       "8. Quels sont les produits de nos gammes que vous achetez chez d’autres artisans ?                             15.952981\n",
       "Pourquoi ?                                                                                                     49.202351\n",
       "Où achetez-vous nos produits ?                                                                                 14.105793\n",
       "Avez-vous déjà eu l’occasion de commander nos produits sur notre site en ligne ?                                0.000000\n",
       "Si vous n'êtes pas de la région, aimeriez-vous pouvoir trouver nos produits à proximité de votre domicile ?    77.917716\n",
       "Pourquoi ?.1                                                                                                   78.421495\n",
       "Que devons-nous faire pour progresser ?                                                                        15.533165\n",
       "14. Dans les grandes évolutions de la consommation, quelles sont les 3 qui vous tiennent le plus à cœur ?       1.259446\n",
       "Sexe                                                                                                            0.000000\n",
       "Quelle est votre catégorie socio-professionnelle ?                                                              0.000000\n",
       "Tranche d'âge                                                                                                   0.000000\n",
       "de combien de personnes se compose votre foyer ?                                                                0.335852\n",
       "S'il y a des enfants dans votre foyer, quel âge ont-ils ?                                                      61.293031\n",
       "Êtes-vous abonné à notre newsletter ?                                                                           0.000000\n",
       "Si non, confiez-moi votre adresse mail pour recevoir notre actualité (moins de 10 mails par an)                87.741394\n",
       "dtype: float64"
      ]
     },
     "execution_count": 10,
     "metadata": {},
     "output_type": "execute_result"
    }
   ],
   "source": [
    "#valeurs manques en pourcentage \n",
    "df_s2.isna().sum() * 100 / len(df_s2)"
   ]
  },
  {
   "cell_type": "code",
   "execution_count": null,
   "metadata": {},
   "outputs": [
    {
     "data": {
      "text/plain": [
       "Horodateur                                                                                                      object\n",
       "unnamed.1                                                                                                       object\n",
       "unnamed.2                                                                                                       object\n",
       "Boutique                                                                                                        object\n",
       "code postal                                                                                                     object\n",
       "Depuis combien de temps êtes vous un client de la Maison Pariès ?                                               object\n",
       "A quelle fréquence venez-vous nous rendre visite ?                                                              object\n",
       "Comment nous avez-vous connus ?                                                                                 object\n",
       "En 2 mots, comment définiriez-vous la Maison ?                                                                  object\n",
       "A quelle(s) occasion(s) effectuez-vous des achats chez nous                                                     object\n",
       "Quel est le produit que vous préférez ?                                                                         object\n",
       "Quel est le dernier produit de la gamme Pariès que vous connaissez ?                                            object\n",
       "8. Quels sont les produits de nos gammes que vous achetez chez d’autres artisans ?                              object\n",
       "Pourquoi ?                                                                                                      object\n",
       "Où achetez-vous nos produits ?                                                                                  object\n",
       "Avez-vous déjà eu l’occasion de commander nos produits sur notre site en ligne ?                                object\n",
       "Si vous n'êtes pas de la région, aimeriez-vous pouvoir trouver nos produits à proximité de votre domicile ?     object\n",
       "Pourquoi ?.1                                                                                                    object\n",
       "Que devons-nous faire pour progresser ?                                                                         object\n",
       "14. Dans les grandes évolutions de la consommation, quelles sont les 3 qui vous tiennent le plus à cœur ?       object\n",
       "Sexe                                                                                                            object\n",
       "Quelle est votre catégorie socio-professionnelle ?                                                              object\n",
       "Tranche d'âge                                                                                                   object\n",
       "de combien de personnes se compose votre foyer ?                                                               float64\n",
       "S'il y a des enfants dans votre foyer, quel âge ont-ils ?                                                       object\n",
       "Êtes-vous abonné à notre newsletter ?                                                                           object\n",
       "Si non, confiez-moi votre adresse mail pour recevoir notre actualité (moins de 10 mails par an)                 object\n",
       "dtype: object"
      ]
     },
     "execution_count": 11,
     "metadata": {},
     "output_type": "execute_result"
    }
   ],
   "source": [
    "#type des données par colone\n",
    "df_s2.dtypes"
   ]
  },
  {
   "cell_type": "code",
   "execution_count": null,
   "metadata": {},
   "outputs": [],
   "source": [
    "#Supprimer des colones insignifiantes \n",
    "#df_s2_new = df_s2.drop[\"\"]"
   ]
  },
  {
   "cell_type": "code",
   "execution_count": null,
   "metadata": {},
   "outputs": [
    {
     "data": {
      "text/plain": [
       "Pourquoi ?.1    78.421495\n",
       "dtype: float64"
      ]
     },
     "execution_count": 13,
     "metadata": {},
     "output_type": "execute_result"
    }
   ],
   "source": [
    "df_s2[[\"Pourquoi ?.1\"]].isna().sum() * 100/ len(df_s2)"
   ]
  },
  {
   "cell_type": "code",
   "execution_count": null,
   "metadata": {},
   "outputs": [],
   "source": [
    "#renommer la colone unamed.1 par date \n",
    "df_s2.rename(columns = {'unnamed.1':'Date'}, inplace = True)"
   ]
  },
  {
   "cell_type": "code",
   "execution_count": null,
   "metadata": {},
   "outputs": [
    {
     "data": {
      "text/plain": [
       "1191"
      ]
     },
     "execution_count": 15,
     "metadata": {},
     "output_type": "execute_result"
    }
   ],
   "source": [
    "#parcourir colonne par colonne \n",
    "df_s2[\"Horodateur\"].value_counts().sum()"
   ]
  },
  {
   "cell_type": "code",
   "execution_count": null,
   "metadata": {},
   "outputs": [
    {
     "data": {
      "text/plain": [
       "2022-07-03    63\n",
       "2022-06-24    55\n",
       "2022-07-31    51\n",
       "2022-06-22    47\n",
       "2022-06-14    42\n",
       "2022-06-25    41\n",
       "2022-06-08    41\n",
       "2022-06-30    41\n",
       "2022-07-01    37\n",
       "2022-07-07    37\n",
       "2022-06-28    35\n",
       "2022-06-11    33\n",
       "2022-07-29    33\n",
       "2022-02-08    32\n",
       "2022-06-20    30\n",
       "2022-06-09    30\n",
       "2022-07-04    30\n",
       "2022-07-08    30\n",
       "7/22/2022     29\n",
       "7/26/2022     29\n",
       "2022-07-12    28\n",
       "2022-06-27    28\n",
       "2022-07-16    28\n",
       "2022-06-17    27\n",
       "2022-07-17    26\n",
       "7/21/2022     25\n",
       "2022-06-10    21\n",
       "2022-07-09    21\n",
       "2022-07-27    20\n",
       "2022-06-18    20\n",
       "2022-07-11    20\n",
       "2022-07-15    19\n",
       "2022-06-15    17\n",
       "2022-06-21    16\n",
       "2022-03-08    16\n",
       "2022-08-01    15\n",
       "2022-07-05    15\n",
       "2022-04-08    15\n",
       "2022-06-13    14\n",
       "7/25/2022     12\n",
       "2022-07-19    12\n",
       "2022-07-18     7\n",
       "2022-07-26     1\n",
       "2022-08-06     1\n",
       "2022-06-07     1\n",
       "Name: Date, dtype: int64"
      ]
     },
     "execution_count": 16,
     "metadata": {},
     "output_type": "execute_result"
    }
   ],
   "source": [
    "df_s2[\"Date\"].value_counts()"
   ]
  },
  {
   "cell_type": "code",
   "execution_count": null,
   "metadata": {},
   "outputs": [
    {
     "data": {
      "text/plain": [
       "Alimentation santé bien être et transparence; Tradition et authenticité; Localisme (consommation locale, circuits courts, relations avec le primeur l’artisan)                                                                                                                                                                           204\n",
       "Alimentation durable (naturalité, moins de gaspillage, préoccupations écologiques et éthiques); Tradition et authenticité; Localisme (consommation locale, circuits courts, relations avec le primeur l’artisan)                                                                                                                         189\n",
       "Faire soi-même; Tradition et authenticité; Localisme (consommation locale, circuits courts, relations avec le primeur l’artisan)                                                                                                                                                                                                         121\n",
       "Alimentation santé bien être et transparence; Faire soi-même; Tradition et authenticité                                                                                                                                                                                                                                                  101\n",
       "Alimentation durable (naturalité, moins de gaspillage, préoccupations écologiques et éthiques); Alimentation santé bien être et transparence; Localisme (consommation locale, circuits courts, relations avec le primeur l’artisan)                                                                                                       89\n",
       "                                                                                                                                                                                                                                                                                                                                        ... \n",
       "Alimentation durable (naturalité, moins de gaspillage, préoccupations écologiques et éthiques); Alimentation santé bien être et transparence; Tradition et authenticité, Localisme (consommation locale, circuits courts, relations avec le primeur l’artisan)                                                                             1\n",
       "Alimentation durable (naturalité, moins de gaspillage, préoccupations écologiques et éthiques); Alimentation santé bien être et transparence; Faire soi-même; Localisme (consommation locale, circuits courts, relations avec le primeur l’artisan), Consommation économe (recherche de bonnes affaires, de prix bas, de promotions…)      1\n",
       "Alimentation durable (naturalité, moins de gaspillage, préoccupations écologiques et éthiques); Tradition et authenticité;  Consommation économe (recherche de bonnes affaires, de prix bas, de promotions…)                                                                                                                               1\n",
       "Alimentation durable (naturalité, moins de gaspillage, préoccupations écologiques et éthiques); Consommation économe (recherche de bonnes affaires, de prix bas, de promotions…)                                                                                                                                                           1\n",
       "Digital et alimentation (recherches en amont, acte d’achat, évaluation de l’acte d’achat); Consommation économe (recherche de bonnes affaires, de prix bas, de promotions…)                                                                                                                                                                1\n",
       "Name: 14. Dans les grandes évolutions de la consommation, quelles sont les 3 qui vous tiennent le plus à cœur ?, Length: 65, dtype: int64"
      ]
     },
     "execution_count": 17,
     "metadata": {},
     "output_type": "execute_result"
    }
   ],
   "source": [
    "df_s2[\"14. Dans les grandes évolutions de la consommation, quelles sont les 3 qui vous tiennent le plus à cœur ?\"].value_counts()"
   ]
  },
  {
   "attachments": {},
   "cell_type": "markdown",
   "metadata": {},
   "source": [
    "#### **New data with columns of interest** "
   ]
  },
  {
   "cell_type": "code",
   "execution_count": null,
   "metadata": {},
   "outputs": [],
   "source": []
  },
  {
   "attachments": {},
   "cell_type": "markdown",
   "metadata": {},
   "source": [
    "#### **Graph (SEXE) : pourcentage homme & femme (été & hiver)**"
   ]
  },
  {
   "cell_type": "code",
   "execution_count": null,
   "metadata": {},
   "outputs": [],
   "source": [
    "data_sexe =df_s2[\"Sexe\"]"
   ]
  },
  {
   "cell_type": "code",
   "execution_count": null,
   "metadata": {},
   "outputs": [],
   "source": [
    "data_sexe = pd.DataFrame(data_sexe)"
   ]
  },
  {
   "cell_type": "code",
   "execution_count": null,
   "metadata": {},
   "outputs": [],
   "source": [
    "data_sexe.rename(columns={\"Sexe\":\"Sex_summer\"},inplace=True)"
   ]
  },
  {
   "cell_type": "code",
   "execution_count": null,
   "metadata": {},
   "outputs": [
    {
     "data": {
      "text/html": [
       "<div>\n",
       "<style scoped>\n",
       "    .dataframe tbody tr th:only-of-type {\n",
       "        vertical-align: middle;\n",
       "    }\n",
       "\n",
       "    .dataframe tbody tr th {\n",
       "        vertical-align: top;\n",
       "    }\n",
       "\n",
       "    .dataframe thead th {\n",
       "        text-align: right;\n",
       "    }\n",
       "</style>\n",
       "<table border=\"1\" class=\"dataframe\">\n",
       "  <thead>\n",
       "    <tr style=\"text-align: right;\">\n",
       "      <th></th>\n",
       "      <th>Sex_summer</th>\n",
       "    </tr>\n",
       "  </thead>\n",
       "  <tbody>\n",
       "    <tr>\n",
       "      <th>0</th>\n",
       "      <td>Femme</td>\n",
       "    </tr>\n",
       "    <tr>\n",
       "      <th>1</th>\n",
       "      <td>Femme</td>\n",
       "    </tr>\n",
       "    <tr>\n",
       "      <th>2</th>\n",
       "      <td>Femme</td>\n",
       "    </tr>\n",
       "    <tr>\n",
       "      <th>3</th>\n",
       "      <td>Homme</td>\n",
       "    </tr>\n",
       "    <tr>\n",
       "      <th>4</th>\n",
       "      <td>Femme</td>\n",
       "    </tr>\n",
       "    <tr>\n",
       "      <th>...</th>\n",
       "      <td>...</td>\n",
       "    </tr>\n",
       "    <tr>\n",
       "      <th>1186</th>\n",
       "      <td>Homme</td>\n",
       "    </tr>\n",
       "    <tr>\n",
       "      <th>1187</th>\n",
       "      <td>Homme</td>\n",
       "    </tr>\n",
       "    <tr>\n",
       "      <th>1188</th>\n",
       "      <td>Femme</td>\n",
       "    </tr>\n",
       "    <tr>\n",
       "      <th>1189</th>\n",
       "      <td>Femme</td>\n",
       "    </tr>\n",
       "    <tr>\n",
       "      <th>1190</th>\n",
       "      <td>Femme</td>\n",
       "    </tr>\n",
       "  </tbody>\n",
       "</table>\n",
       "<p>1191 rows × 1 columns</p>\n",
       "</div>"
      ],
      "text/plain": [
       "     Sex_summer\n",
       "0         Femme\n",
       "1         Femme\n",
       "2         Femme\n",
       "3         Homme\n",
       "4         Femme\n",
       "...         ...\n",
       "1186      Homme\n",
       "1187      Homme\n",
       "1188      Femme\n",
       "1189      Femme\n",
       "1190      Femme\n",
       "\n",
       "[1191 rows x 1 columns]"
      ]
     },
     "execution_count": 24,
     "metadata": {},
     "output_type": "execute_result"
    }
   ],
   "source": [
    "data_sexe"
   ]
  },
  {
   "cell_type": "code",
   "execution_count": null,
   "metadata": {},
   "outputs": [],
   "source": [
    "sexe=df_s1[\"Sexe\"]"
   ]
  },
  {
   "cell_type": "code",
   "execution_count": null,
   "metadata": {},
   "outputs": [],
   "source": [
    "data_sexe = data_sexe.join(sexe)"
   ]
  },
  {
   "cell_type": "code",
   "execution_count": null,
   "metadata": {},
   "outputs": [],
   "source": [
    "data_sexe.rename(columns={\"Sexe\":\"Sexe_winter\"},inplace=True)"
   ]
  },
  {
   "cell_type": "code",
   "execution_count": null,
   "metadata": {},
   "outputs": [
    {
     "data": {
      "text/plain": [
       "Sex_summer  Sexe_winter \n",
       "Femme       Femme           132\n",
       "            Homme            49\n",
       "Homme       Femme            48\n",
       "            Homme            13\n",
       "Femme       Femme, Homme      3\n",
       "dtype: int64"
      ]
     },
     "execution_count": 35,
     "metadata": {},
     "output_type": "execute_result"
    }
   ],
   "source": [
    "data_sexe.value_counts()"
   ]
  },
  {
   "cell_type": "code",
   "execution_count": null,
   "metadata": {},
   "outputs": [],
   "source": [
    "df_S= data_sexe[[\"Sex_summer\"]].sample(245).reset_index()"
   ]
  },
  {
   "cell_type": "code",
   "execution_count": null,
   "metadata": {},
   "outputs": [],
   "source": [
    "df_S = pd.concat([df_S,data_sexe[['Sexe_winter']]],axis=1).head(245)"
   ]
  },
  {
   "cell_type": "code",
   "execution_count": null,
   "metadata": {},
   "outputs": [],
   "source": [
    "#Calcul des pourcentages hommes & femmes \n",
    "Sumer_percent = df_S[\"Sex_summer\"].value_counts()*100 /len(df_S)\n",
    "Winter_percent = df_S[\"Sexe_winter\"].value_counts()* 100/len(df_S)"
   ]
  },
  {
   "cell_type": "code",
   "execution_count": null,
   "metadata": {},
   "outputs": [
    {
     "name": "stdout",
     "output_type": "stream",
     "text": [
      "Femme    71.020408\n",
      "Homme    28.979592\n",
      "Name: Sex_summer, dtype: float64\n",
      "Femme           73.469388\n",
      "Homme           25.306122\n",
      "Femme, Homme     1.224490\n",
      "Name: Sexe_winter, dtype: float64\n"
     ]
    }
   ],
   "source": [
    "print(Sumer_percent)\n",
    "print(Winter_percent) "
   ]
  },
  {
   "cell_type": "code",
   "execution_count": null,
   "metadata": {},
   "outputs": [
    {
     "ename": "NameError",
     "evalue": "name 'plt' is not defined",
     "output_type": "error",
     "traceback": [
      "\u001b[0;31m---------------------------------------------------------------------------\u001b[0m",
      "\u001b[0;31mNameError\u001b[0m                                 Traceback (most recent call last)",
      "\u001b[0;32m/tmp/ipykernel_990/133576508.py\u001b[0m in \u001b[0;36m<module>\u001b[0;34m\u001b[0m\n\u001b[0;32m----> 1\u001b[0;31m \u001b[0mplt\u001b[0m\u001b[0;34m.\u001b[0m\u001b[0mhist\u001b[0m\u001b[0;34m(\u001b[0m\u001b[0;34m[\u001b[0m\u001b[0mSumer_percent\u001b[0m\u001b[0;34m,\u001b[0m \u001b[0mWinter_percent\u001b[0m\u001b[0;34m]\u001b[0m\u001b[0;34m,\u001b[0m \u001b[0mbins\u001b[0m\u001b[0;34m=\u001b[0m\u001b[0;36m5\u001b[0m\u001b[0;34m,\u001b[0m \u001b[0mcolor\u001b[0m \u001b[0;34m=\u001b[0m \u001b[0;34m[\u001b[0m\u001b[0;34m'yellow'\u001b[0m\u001b[0;34m,\u001b[0m \u001b[0;34m'green'\u001b[0m\u001b[0;34m]\u001b[0m\u001b[0;34m,\u001b[0m\u001b[0mlabel\u001b[0m \u001b[0;34m=\u001b[0m \u001b[0;34m[\u001b[0m\u001b[0;34m'Sumer'\u001b[0m\u001b[0;34m,\u001b[0m \u001b[0;34m'Winter'\u001b[0m\u001b[0;34m]\u001b[0m\u001b[0;34m)\u001b[0m\u001b[0;34m\u001b[0m\u001b[0;34m\u001b[0m\u001b[0m\n\u001b[0m\u001b[1;32m      2\u001b[0m \u001b[0mplt\u001b[0m\u001b[0;34m.\u001b[0m\u001b[0mlegend\u001b[0m\u001b[0;34m(\u001b[0m\u001b[0;34m)\u001b[0m\u001b[0;34m;\u001b[0m\u001b[0;34m\u001b[0m\u001b[0;34m\u001b[0m\u001b[0m\n",
      "\u001b[0;31mNameError\u001b[0m: name 'plt' is not defined"
     ]
    }
   ],
   "source": [
    "plt.hist([Sumer_percent, Winter_percent], bins=5, color = ['yellow', 'green'],label = ['Sumer', 'Winter'])\n",
    "plt.legend();"
   ]
  },
  {
   "attachments": {},
   "cell_type": "markdown",
   "metadata": {},
   "source": [
    "#### **Graph (SEXE) : pourcentage tranche âge (été & hiver)**"
   ]
  },
  {
   "cell_type": "markdown",
   "metadata": {},
   "source": []
  }
 ],
 "metadata": {
  "kernelspec": {
   "display_name": "simplon",
   "language": "python",
   "name": "python3"
  },
  "language_info": {
   "codemirror_mode": {
    "name": "ipython",
    "version": 3
   },
   "file_extension": ".py",
   "mimetype": "text/x-python",
   "name": "python",
   "nbconvert_exporter": "python",
   "pygments_lexer": "ipython3",
   "version": "3.8.12"
  },
  "orig_nbformat": 4,
  "vscode": {
   "interpreter": {
    "hash": "3f60fb8f4f2143c90727abd9ceba479862570e4059d0b95f97a6718e5487b7aa"
   }
  }
 },
 "nbformat": 4,
 "nbformat_minor": 2
}
