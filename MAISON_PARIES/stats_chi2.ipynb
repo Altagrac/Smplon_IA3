{
 "cells": [
  {
   "cell_type": "code",
   "execution_count": null,
   "metadata": {},
   "outputs": [],
   "source": [
    "# nb d'etudiants dans le groupe TP1 (i=1) et TP2 (i=2)\n",
    "n_1 = (etu['TP']==1).sum()\n",
    "n_2 = (etu['TP']==2).sum()\n",
    "\n",
    "# nb total d'etudiants\n",
    "n = n_1+n_2\n",
    "\n",
    "# nb total de filles (j=1) et de garcons (j=2) \n",
    "m_1 = (etu['Sexe']=='F').sum()\n",
    "m_2 = (etu['Sexe']=='M').sum()\n",
    "\n",
    "stat_chi2 = 0\n",
    "# i=1, j=1 :\n",
    "stat_chi2 += ((n*nF_TP1-n_1*m_1)**2)/float(n_1*m_1)\n",
    "# i=1, j=2 :\n",
    "stat_chi2 += ((n*nH_TP1-n_1*m_2)**2)/float(n_1*m_2)\n",
    "# i=2, j=1 :\n",
    "stat_chi2 += ((n*nF_TP2-n_2*m_1)**2)/float(n_2*m_1)\n",
    "# i=2, j=2 :\n",
    "stat_chi2 += ((n*nH_TP2-n_2*m_2)**2)/float(n_2*m_2)\n",
    "\n",
    "stat_chi2 = stat_chi2/n\n",
    "\n",
    "print 'stat_chi2', stat_chi2"
   ]
  }
 ],
 "metadata": {
  "language_info": {
   "name": "python"
  },
  "orig_nbformat": 4
 },
 "nbformat": 4,
 "nbformat_minor": 2
}
