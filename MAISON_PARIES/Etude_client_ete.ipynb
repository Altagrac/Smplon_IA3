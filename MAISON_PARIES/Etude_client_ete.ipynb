{
 "cells": [
  {
   "cell_type": "code",
   "execution_count": null,
   "id": "f8ad39ff",
   "metadata": {},
   "outputs": [],
   "source": [
    "!pip install pandas_ods_reader"
   ]
  },
  {
   "cell_type": "code",
   "execution_count": 115,
   "id": "d4d1b353-7d1b-43dc-8948-18dbeccc31e1",
   "metadata": {},
   "outputs": [],
   "source": [
    "import pandas as pd\n",
    "import seaborn as sns \n",
    "import matplotlib.pyplot as plt\n",
    "from pandas_ods_reader import read_ods\n",
    "from sklearn import tree\n",
    "from sklearn.metrics import confusion_matrix"
   ]
  },
  {
   "cell_type": "code",
   "execution_count": 2,
   "id": "35ef277f-bf07-4785-ad83-1c629abe5496",
   "metadata": {},
   "outputs": [],
   "source": [
    "path = \"data2.ods\"\n",
    "data = read_ods(path)"
   ]
  },
  {
   "cell_type": "code",
   "execution_count": 3,
   "id": "393a8d3a-826e-4299-b17e-2f5926d289c1",
   "metadata": {},
   "outputs": [
    {
     "data": {
      "text/plain": [
       "Horodateur                                                                                                     1191\n",
       "unnamed.1                                                                                                      1191\n",
       "unnamed.2                                                                                                      1191\n",
       "Boutique                                                                                                       1191\n",
       "code postal                                                                                                    1191\n",
       "Depuis combien de temps êtes vous un client de la Maison Pariès ?                                              1191\n",
       "A quelle fréquence venez-vous nous rendre visite ?                                                             1191\n",
       "Comment nous avez-vous connus ?                                                                                1191\n",
       "En 2 mots, comment définiriez-vous la Maison ?                                                                 1191\n",
       "A quelle(s) occasion(s) effectuez-vous des achats chez nous                                                    1191\n",
       "Quel est le produit que vous préférez ?                                                                        1035\n",
       "Quel est le dernier produit de la gamme Pariès que vous connaissez ?                                            979\n",
       "8. Quels sont les produits de nos gammes que vous achetez chez d’autres artisans ?                             1001\n",
       "Pourquoi ?                                                                                                      605\n",
       "Où achetez-vous nos produits ?                                                                                 1023\n",
       "Avez-vous déjà eu l’occasion de commander nos produits sur notre site en ligne ?                               1191\n",
       "Si vous n'êtes pas de la région, aimeriez-vous pouvoir trouver nos produits à proximité de votre domicile ?     263\n",
       "Pourquoi ?.1                                                                                                    257\n",
       "Que devons-nous faire pour progresser ?                                                                        1006\n",
       "14. Dans les grandes évolutions de la consommation, quelles sont les 3 qui vous tiennent le plus à cœur ?      1176\n",
       "Sexe                                                                                                           1191\n",
       "Quelle est votre catégorie socio-professionnelle ?                                                             1191\n",
       "Tranche d'âge                                                                                                  1191\n",
       "de combien de personnes se compose votre foyer ?                                                               1187\n",
       "S'il y a des enfants dans votre foyer, quel âge ont-ils ?                                                       461\n",
       "Êtes-vous abonné à notre newsletter ?                                                                          1191\n",
       "Si non, confiez-moi votre adresse mail pour recevoir notre actualité (moins de 10 mails par an)                 146\n",
       "dtype: int64"
      ]
     },
     "execution_count": 3,
     "metadata": {},
     "output_type": "execute_result"
    }
   ],
   "source": [
    "data.count()"
   ]
  },
  {
   "cell_type": "code",
   "execution_count": null,
   "id": "37f675d0-694e-4127-8ce9-5a5e1135fee4",
   "metadata": {},
   "outputs": [],
   "source": [
    "data[\"Tranche d'âge\"].value_counts()"
   ]
  },
  {
   "cell_type": "markdown",
   "id": "efa60afb-273e-4cd4-a000-9af80ebc8d75",
   "metadata": {},
   "source": [
    "# Pourcentage des 65+"
   ]
  },
  {
   "cell_type": "code",
   "execution_count": null,
   "id": "fe61b9e4-54ac-4868-a939-3bbfba117c04",
   "metadata": {},
   "outputs": [],
   "source": [
    "(data[\"Tranche d'âge\"].value_counts()[2] / data[\"Tranche d'âge\"].count()) * 100"
   ]
  },
  {
   "cell_type": "markdown",
   "id": "9c126058-90ca-4cfe-8542-d88fce301c59",
   "metadata": {},
   "source": [
    "# Pourcentage des 50/64"
   ]
  },
  {
   "cell_type": "code",
   "execution_count": null,
   "id": "9cea4f16-8bf2-449b-9c68-57f0a676bc4f",
   "metadata": {
    "tags": []
   },
   "outputs": [],
   "source": [
    "(data[\"Tranche d'âge\"].value_counts()[0] / data[\"Tranche d'âge\"].count()) * 100"
   ]
  },
  {
   "cell_type": "markdown",
   "id": "5a00c5d6-f7a4-4ec9-9b73-a63de12898e9",
   "metadata": {},
   "source": [
    "# Pourcentage des 35/49"
   ]
  },
  {
   "cell_type": "code",
   "execution_count": null,
   "id": "02bbe4f5-59d6-4739-a97e-3390ca475e91",
   "metadata": {},
   "outputs": [],
   "source": [
    "(data[\"Tranche d'âge\"].value_counts()[1] / data[\"Tranche d'âge\"].count()) * 100"
   ]
  },
  {
   "cell_type": "markdown",
   "id": "2e539ce0-7a07-4dd8-b502-ad7c186098ad",
   "metadata": {},
   "source": [
    "# Pourcentage des 25/34"
   ]
  },
  {
   "cell_type": "code",
   "execution_count": null,
   "id": "d6a5ceef-8cf5-4260-8ff2-325c5dcd67dc",
   "metadata": {},
   "outputs": [],
   "source": [
    "(data[\"Tranche d'âge\"].value_counts()[3] / data[\"Tranche d'âge\"].count()) * 100"
   ]
  },
  {
   "cell_type": "markdown",
   "id": "6cd20e99-d47f-4dd2-a15b-99cbe9a4a347",
   "metadata": {},
   "source": [
    "# Pourcentage des 18/24"
   ]
  },
  {
   "cell_type": "code",
   "execution_count": null,
   "id": "750fe558-c3b8-4880-aae1-985e1d0d38d2",
   "metadata": {},
   "outputs": [],
   "source": [
    "(data[\"Tranche d'âge\"].value_counts()[4] / data[\"Tranche d'âge\"].count()) * 100"
   ]
  },
  {
   "cell_type": "markdown",
   "id": "c8814170-5cca-4953-8d52-7b71b50ea169",
   "metadata": {},
   "source": [
    "# Pourcentage des 15/17"
   ]
  },
  {
   "cell_type": "code",
   "execution_count": null,
   "id": "6f6cc2a3-29e3-4b44-b76d-fea038fbcca3",
   "metadata": {},
   "outputs": [],
   "source": [
    "(data[\"Tranche d'âge\"].value_counts()[5] / data[\"Tranche d'âge\"].count()) * 100"
   ]
  },
  {
   "cell_type": "code",
   "execution_count": null,
   "id": "4c426272-2855-4f0f-a48d-3c151ac1b94c",
   "metadata": {},
   "outputs": [],
   "source": [
    "data[data['A quelle fréquence venez-vous nous rendre visite ?'] == \"visite exceptionnelle\"].shape[0]"
   ]
  },
  {
   "cell_type": "code",
   "execution_count": null,
   "id": "d09de2d0-afde-4571-bdde-725079e7c4d8",
   "metadata": {},
   "outputs": [],
   "source": [
    "concat_df = pd.concat([data[data[\"Tranche d'âge\"] == \"35/49\"], data[data['A quelle fréquence venez-vous nous rendre visite ?'] == \"visite exceptionnelle\"]], axis=1)"
   ]
  },
  {
   "cell_type": "code",
   "execution_count": null,
   "id": "8be3a327-1eee-47a6-8335-6700144fabbf",
   "metadata": {},
   "outputs": [],
   "source": []
  },
  {
   "cell_type": "code",
   "execution_count": null,
   "id": "27c37bd0-50b8-4344-a200-211e0f784391",
   "metadata": {},
   "outputs": [],
   "source": [
    "concat_df.shape[0]"
   ]
  },
  {
   "cell_type": "code",
   "execution_count": null,
   "id": "bfc2b092-0740-4a71-a129-458396766287",
   "metadata": {},
   "outputs": [],
   "source": [
    "data.shape[0] "
   ]
  },
  {
   "cell_type": "code",
   "execution_count": null,
   "id": "560353ba-f74c-482b-bfca-51dd3517f246",
   "metadata": {},
   "outputs": [],
   "source": [
    "concat_df.shape[0] / data.shape[0] * 100"
   ]
  },
  {
   "cell_type": "markdown",
   "id": "4fb1734d-5e96-4a27-81b9-8de662811c2c",
   "metadata": {},
   "source": [
    "# On drop les colonnes qui ne nous intéressent pas"
   ]
  },
  {
   "cell_type": "code",
   "execution_count": 82,
   "id": "dfa80dac-b92d-402e-aa73-3dfe2f1f5f16",
   "metadata": {},
   "outputs": [],
   "source": [
    "data.drop(columns=[\"Pourquoi ?.1\", \"Horodateur\", \"unnamed.1\", \"unnamed.2\", \"Quel est le dernier produit de la gamme Pariès que vous connaissez ?\", \"de combien de personnes se compose votre foyer ?\", \"S'il y a des enfants dans votre foyer, quel âge ont-ils ?\", \"Si non, confiez-moi votre adresse mail pour recevoir notre actualité (moins de 10 mails par an)\"], inplace=True)"
   ]
  },
  {
   "cell_type": "code",
   "execution_count": null,
   "id": "aaab3e25",
   "metadata": {},
   "outputs": [],
   "source": [
    "data.drop(columns=[\"Pourquoi ?\"], inplace=True)"
   ]
  },
  {
   "cell_type": "code",
   "execution_count": 83,
   "id": "6f70216f-59c7-4e7e-9d7d-841494837156",
   "metadata": {},
   "outputs": [
    {
     "data": {
      "text/html": [
       "<div>\n",
       "<style scoped>\n",
       "    .dataframe tbody tr th:only-of-type {\n",
       "        vertical-align: middle;\n",
       "    }\n",
       "\n",
       "    .dataframe tbody tr th {\n",
       "        vertical-align: top;\n",
       "    }\n",
       "\n",
       "    .dataframe thead th {\n",
       "        text-align: right;\n",
       "    }\n",
       "</style>\n",
       "<table border=\"1\" class=\"dataframe\">\n",
       "  <thead>\n",
       "    <tr style=\"text-align: right;\">\n",
       "      <th></th>\n",
       "      <th>Boutique</th>\n",
       "      <th>code postal</th>\n",
       "      <th>Depuis combien de temps êtes vous un client de la Maison Pariès ?</th>\n",
       "      <th>A quelle fréquence venez-vous nous rendre visite ?</th>\n",
       "      <th>Comment nous avez-vous connus ?</th>\n",
       "      <th>En 2 mots, comment définiriez-vous la Maison ?</th>\n",
       "      <th>A quelle(s) occasion(s) effectuez-vous des achats chez nous</th>\n",
       "      <th>Quel est le produit que vous préférez ?</th>\n",
       "      <th>8. Quels sont les produits de nos gammes que vous achetez chez d’autres artisans ?</th>\n",
       "      <th>Où achetez-vous nos produits ?</th>\n",
       "      <th>Avez-vous déjà eu l’occasion de commander nos produits sur notre site en ligne ?</th>\n",
       "      <th>Si vous n'êtes pas de la région, aimeriez-vous pouvoir trouver nos produits à proximité de votre domicile ?</th>\n",
       "      <th>Que devons-nous faire pour progresser ?</th>\n",
       "      <th>Sexe</th>\n",
       "      <th>Quelle est votre catégorie socio-professionnelle ?</th>\n",
       "      <th>Tranche d'âge</th>\n",
       "      <th>Êtes-vous abonné à notre newsletter ?</th>\n",
       "      <th>Chocolat</th>\n",
       "      <th>Gateau Basque</th>\n",
       "      <th>Code postal</th>\n",
       "    </tr>\n",
       "  </thead>\n",
       "  <tbody>\n",
       "    <tr>\n",
       "      <th>0</th>\n",
       "      <td>St Jean</td>\n",
       "      <td>31410.0</td>\n",
       "      <td>2</td>\n",
       "      <td>0</td>\n",
       "      <td>bouche à oreille</td>\n",
       "      <td>Accueillant</td>\n",
       "      <td>pour me faire plaisir; pour régaler ma famille</td>\n",
       "      <td>Gateau basque</td>\n",
       "      <td>Gateau basque</td>\n",
       "      <td>Toujours dans la même boutique</td>\n",
       "      <td>0</td>\n",
       "      <td>0.0</td>\n",
       "      <td>Je ne sais pas</td>\n",
       "      <td>1</td>\n",
       "      <td>1</td>\n",
       "      <td>5</td>\n",
       "      <td>0</td>\n",
       "      <td>0</td>\n",
       "      <td>1</td>\n",
       "      <td>0</td>\n",
       "    </tr>\n",
       "    <tr>\n",
       "      <th>1</th>\n",
       "      <td>St Jean</td>\n",
       "      <td>64500.0</td>\n",
       "      <td>3</td>\n",
       "      <td>0</td>\n",
       "      <td>avec vos parents, votre famille</td>\n",
       "      <td>Bon; Fiable</td>\n",
       "      <td>pour me faire plaisir; pour régaler ma famille...</td>\n",
       "      <td>Pâtisseries</td>\n",
       "      <td>Aucun</td>\n",
       "      <td>Toujours dans la même boutique</td>\n",
       "      <td>0</td>\n",
       "      <td>NaN</td>\n",
       "      <td>Je ne sais pas</td>\n",
       "      <td>1</td>\n",
       "      <td>1</td>\n",
       "      <td>5</td>\n",
       "      <td>0</td>\n",
       "      <td>0</td>\n",
       "      <td>0</td>\n",
       "      <td>1</td>\n",
       "    </tr>\n",
       "    <tr>\n",
       "      <th>2</th>\n",
       "      <td>St Jean</td>\n",
       "      <td>62400.0</td>\n",
       "      <td>2</td>\n",
       "      <td>1</td>\n",
       "      <td>par hasard en passant devant</td>\n",
       "      <td>Plaisant</td>\n",
       "      <td>pour me faire plaisir</td>\n",
       "      <td>Gateau basque chocolat</td>\n",
       "      <td>Viennoiseries</td>\n",
       "      <td>Toujours dans la même boutique</td>\n",
       "      <td>0</td>\n",
       "      <td>NaN</td>\n",
       "      <td>Gateau basque plus épais</td>\n",
       "      <td>1</td>\n",
       "      <td>0</td>\n",
       "      <td>3</td>\n",
       "      <td>0</td>\n",
       "      <td>0</td>\n",
       "      <td>1</td>\n",
       "      <td>0</td>\n",
       "    </tr>\n",
       "    <tr>\n",
       "      <th>3</th>\n",
       "      <td>St Jean</td>\n",
       "      <td>33820.0</td>\n",
       "      <td>2</td>\n",
       "      <td>0</td>\n",
       "      <td>par hasard en passant devant</td>\n",
       "      <td>Alléchant</td>\n",
       "      <td>pour me faire plaisir; pour faire un cadeau</td>\n",
       "      <td>Viennoiseries Royal Amande</td>\n",
       "      <td>Gateau basque</td>\n",
       "      <td>Toujours dans la même boutique</td>\n",
       "      <td>0</td>\n",
       "      <td>1.0</td>\n",
       "      <td>Gateau basque plus épais</td>\n",
       "      <td>0</td>\n",
       "      <td>1</td>\n",
       "      <td>5</td>\n",
       "      <td>0</td>\n",
       "      <td>0</td>\n",
       "      <td>0</td>\n",
       "      <td>0</td>\n",
       "    </tr>\n",
       "    <tr>\n",
       "      <th>4</th>\n",
       "      <td>St Jean</td>\n",
       "      <td>64210.0</td>\n",
       "      <td>2</td>\n",
       "      <td>0</td>\n",
       "      <td>par hasard en passant devant; bouche à oreille</td>\n",
       "      <td>Savoureux; Raffiné</td>\n",
       "      <td>pour me faire plaisir; pour faire un cadeau</td>\n",
       "      <td>Mouchous amande</td>\n",
       "      <td>Gateau basque; Chocolat</td>\n",
       "      <td>En fonction de l'endroit où je me trouve</td>\n",
       "      <td>0</td>\n",
       "      <td>NaN</td>\n",
       "      <td>Baisser les prix; Diversifier les parfums de g...</td>\n",
       "      <td>1</td>\n",
       "      <td>0</td>\n",
       "      <td>3</td>\n",
       "      <td>0</td>\n",
       "      <td>0</td>\n",
       "      <td>0</td>\n",
       "      <td>1</td>\n",
       "    </tr>\n",
       "  </tbody>\n",
       "</table>\n",
       "</div>"
      ],
      "text/plain": [
       "  Boutique code postal  \\\n",
       "0  St Jean     31410.0   \n",
       "1  St Jean     64500.0   \n",
       "2  St Jean     62400.0   \n",
       "3  St Jean     33820.0   \n",
       "4  St Jean     64210.0   \n",
       "\n",
       "   Depuis combien de temps êtes vous un client de la Maison Pariès ?  \\\n",
       "0                                                  2                   \n",
       "1                                                  3                   \n",
       "2                                                  2                   \n",
       "3                                                  2                   \n",
       "4                                                  2                   \n",
       "\n",
       "   A quelle fréquence venez-vous nous rendre visite ?  \\\n",
       "0                                                  0    \n",
       "1                                                  0    \n",
       "2                                                  1    \n",
       "3                                                  0    \n",
       "4                                                  0    \n",
       "\n",
       "                  Comment nous avez-vous connus ?  \\\n",
       "0                                bouche à oreille   \n",
       "1                 avec vos parents, votre famille   \n",
       "2                    par hasard en passant devant   \n",
       "3                    par hasard en passant devant   \n",
       "4  par hasard en passant devant; bouche à oreille   \n",
       "\n",
       "  En 2 mots, comment définiriez-vous la Maison ?  \\\n",
       "0                                    Accueillant   \n",
       "1                                    Bon; Fiable   \n",
       "2                                       Plaisant   \n",
       "3                                      Alléchant   \n",
       "4                             Savoureux; Raffiné   \n",
       "\n",
       "  A quelle(s) occasion(s) effectuez-vous des achats chez nous  \\\n",
       "0     pour me faire plaisir; pour régaler ma famille            \n",
       "1  pour me faire plaisir; pour régaler ma famille...            \n",
       "2                              pour me faire plaisir            \n",
       "3        pour me faire plaisir; pour faire un cadeau            \n",
       "4        pour me faire plaisir; pour faire un cadeau            \n",
       "\n",
       "  Quel est le produit que vous préférez ?  \\\n",
       "0                           Gateau basque   \n",
       "1                             Pâtisseries   \n",
       "2                  Gateau basque chocolat   \n",
       "3              Viennoiseries Royal Amande   \n",
       "4                         Mouchous amande   \n",
       "\n",
       "  8. Quels sont les produits de nos gammes que vous achetez chez d’autres artisans ?  \\\n",
       "0                                      Gateau basque                                   \n",
       "1                                              Aucun                                   \n",
       "2                                      Viennoiseries                                   \n",
       "3                                      Gateau basque                                   \n",
       "4                            Gateau basque; Chocolat                                   \n",
       "\n",
       "             Où achetez-vous nos produits ?  \\\n",
       "0            Toujours dans la même boutique   \n",
       "1            Toujours dans la même boutique   \n",
       "2            Toujours dans la même boutique   \n",
       "3            Toujours dans la même boutique   \n",
       "4  En fonction de l'endroit où je me trouve   \n",
       "\n",
       "   Avez-vous déjà eu l’occasion de commander nos produits sur notre site en ligne ?  \\\n",
       "0                                                  0                                  \n",
       "1                                                  0                                  \n",
       "2                                                  0                                  \n",
       "3                                                  0                                  \n",
       "4                                                  0                                  \n",
       "\n",
       "   Si vous n'êtes pas de la région, aimeriez-vous pouvoir trouver nos produits à proximité de votre domicile ?  \\\n",
       "0                                                0.0                                                             \n",
       "1                                                NaN                                                             \n",
       "2                                                NaN                                                             \n",
       "3                                                1.0                                                             \n",
       "4                                                NaN                                                             \n",
       "\n",
       "             Que devons-nous faire pour progresser ?  Sexe  \\\n",
       "0                                     Je ne sais pas     1   \n",
       "1                                     Je ne sais pas     1   \n",
       "2                           Gateau basque plus épais     1   \n",
       "3                           Gateau basque plus épais     0   \n",
       "4  Baisser les prix; Diversifier les parfums de g...     1   \n",
       "\n",
       "   Quelle est votre catégorie socio-professionnelle ?  Tranche d'âge  \\\n",
       "0                                                  1               5   \n",
       "1                                                  1               5   \n",
       "2                                                  0               3   \n",
       "3                                                  1               5   \n",
       "4                                                  0               3   \n",
       "\n",
       "   Êtes-vous abonné à notre newsletter ?  Chocolat  Gateau Basque  Code postal  \n",
       "0                                      0         0              1            0  \n",
       "1                                      0         0              0            1  \n",
       "2                                      0         0              1            0  \n",
       "3                                      0         0              0            0  \n",
       "4                                      0         0              0            1  "
      ]
     },
     "execution_count": 83,
     "metadata": {},
     "output_type": "execute_result"
    }
   ],
   "source": [
    "data.head()"
   ]
  },
  {
   "cell_type": "code",
   "execution_count": 58,
   "id": "bf8a7843",
   "metadata": {},
   "outputs": [],
   "source": [
    "data['Gateau Basque'] =(data['Quel est le produit que vous préférez ?'].str.find('Gateau basque')>=0).astype(int)\n",
    "# 0 = Pas gateau basque\n",
    "# 1 = gateau basque"
   ]
  },
  {
   "cell_type": "code",
   "execution_count": 55,
   "id": "eef8dbb7",
   "metadata": {},
   "outputs": [],
   "source": [
    "data['Code postal'] =(data['code postal'].astype(str).str.find('64',0,2)==0).astype(int)\n",
    "# 0 = Autre département\n",
    "# 1 = Locaux"
   ]
  },
  {
   "cell_type": "code",
   "execution_count": 28,
   "id": "bdb7a926",
   "metadata": {},
   "outputs": [],
   "source": [
    "data['Chocolat'] =(data['Quel est le produit que vous préférez ?'].str.find('Chocolat')>=0).astype(int)\n",
    "# 0 = Pas chocolat\n",
    "# 1 = Chocolat"
   ]
  },
  {
   "cell_type": "code",
   "execution_count": 9,
   "id": "34271b22",
   "metadata": {},
   "outputs": [],
   "source": [
    "dict = {\"Oui\" : 1, \"Non\" : 0}\n",
    "data=data.replace({\"Êtes-vous abonné à notre newsletter ?\": dict})\n",
    "# 1 = Abonné au Newsletter\n",
    "# 0 = Pas abonné au Newsletter"
   ]
  },
  {
   "cell_type": "code",
   "execution_count": 10,
   "id": "f2ae6b88",
   "metadata": {},
   "outputs": [],
   "source": [
    "dict = {\"Depuis quelques années\" : 2, \"Depuis toujours\" : 3, \"Depuis moins d'un an\": 1, \"C’est une de mes premières visites\" : 0}\n",
    "data=data.replace({\"Depuis combien de temps êtes vous un client de la Maison Pariès ?\": dict})\n",
    "# 0 = C’est une de mes premières visites\n",
    "# 1 = Depuis moins d'un an\n",
    "# 2 = Depuis quelques années\n",
    "# 3 = Depuis toujours"
   ]
  },
  {
   "cell_type": "code",
   "execution_count": 11,
   "id": "535c885a",
   "metadata": {},
   "outputs": [],
   "source": [
    "dict = {\"visite exceptionnelle\" : 0, \"visite mensuelle\" : 1 , \"C'est la première fois !\": 0, \"visite hebdomadaire\" : 1, \"Tous les 15 jours\" : 1, \"3 fois par semaine\" : 1 , \"Tous les jours\" : 1 , \"visite exceptionnelle; Surtout en été\" : 0,\"Surtout en été\" : 0 ,\"Surtout l'été; Noël\" : 0 ,\"Surtout l’été\" : 0 ,\"Tous les 2 jours\" : 1 ,\"visite exceptionnelle, Surtout en été\" : 0}\n",
    "data=data.replace({\"A quelle fréquence venez-vous nous rendre visite ?\": dict})\n",
    "# 1 = Client fidèle (Au moins une fois par mois)\n",
    "# 0 = Client pas fidèle"
   ]
  },
  {
   "cell_type": "code",
   "execution_count": 12,
   "id": "fd15d5a9",
   "metadata": {},
   "outputs": [],
   "source": [
    "dict = {\"65 et +\" : 5, \"25/34\" : 3 , \"50/64\": 5, \"18/24\" : 1, \"35/49\" : 4, \"15/17\" : 0}\n",
    "data=data.replace({\"Tranche d'âge\": dict})\n",
    "# 0 = 15/17\n",
    "# 1 = 18/24\n",
    "# 2 = 25/34\n",
    "# 3 = 35/49\n",
    "# 4 = 50/64\n",
    "# 5 = 65 et +"
   ]
  },
  {
   "cell_type": "code",
   "execution_count": 24,
   "id": "dfad31a6",
   "metadata": {},
   "outputs": [],
   "source": [
    "dict = {\"oui\" : 1, \"Non\" : 0}\n",
    "data=data.replace({\"Avez-vous déjà eu l’occasion de commander nos produits sur notre site en ligne ?\": dict})\n",
    "# 1 = Déjà commandé en ligne\n",
    "# 0 = Jamais commandé en ligne"
   ]
  },
  {
   "cell_type": "code",
   "execution_count": 61,
   "id": "089eda3a",
   "metadata": {},
   "outputs": [],
   "source": [
    "dict = {\"Femme\" : 1, \"Homme\" : 0}\n",
    "data=data.replace({\"Sexe\": dict})\n",
    "# 1 = Femme\n",
    "# 0 = Homme"
   ]
  },
  {
   "cell_type": "code",
   "execution_count": 65,
   "id": "572adb3b",
   "metadata": {},
   "outputs": [],
   "source": [
    "dict = {'Retraité' : 1, 'Employé' : 0,'Cadre et profession intellectuelle supérieure' : 0,'Profession libérale' : 0, 'Etudiant' : 0, 'Sans profession' : 0,\"Artisan, commerçant, chef d'entreprise\" : 0, 'Ouvrier': 0,'Profession intermédiaire':0, 'Agriculteur exploitant':0}\n",
    "data=data.replace({\"Quelle est votre catégorie socio-professionnelle ?\": dict})\n",
    "# 1 = Retraité\n",
    "# 0 = Non retraité (Employé quelconque)"
   ]
  },
  {
   "cell_type": "code",
   "execution_count": 76,
   "id": "3ba8bc7a",
   "metadata": {},
   "outputs": [],
   "source": [
    "dict = {'Non' : 0, 'oui' : 1}\n",
    "data=data.replace({\"Si vous n'êtes pas de la région, aimeriez-vous pouvoir trouver nos produits à proximité de votre domicile ?\": dict})\n",
    "# 1 = Ils veulent une boutique à proximité\n",
    "# 0 = Ils ne veulent pas de boutique à proximité\n",
    "# None/Nan = Locaux"
   ]
  },
  {
   "cell_type": "code",
   "execution_count": 86,
   "id": "303e285e",
   "metadata": {},
   "outputs": [
    {
     "data": {
      "text/plain": [
       "array([1, 0], dtype=int64)"
      ]
     },
     "execution_count": 86,
     "metadata": {},
     "output_type": "execute_result"
    }
   ],
   "source": [
    "data[\"Sexe\"].unique()"
   ]
  },
  {
   "cell_type": "code",
   "execution_count": 84,
   "id": "3ec92395",
   "metadata": {},
   "outputs": [
    {
     "data": {
      "text/html": [
       "<div>\n",
       "<style scoped>\n",
       "    .dataframe tbody tr th:only-of-type {\n",
       "        vertical-align: middle;\n",
       "    }\n",
       "\n",
       "    .dataframe tbody tr th {\n",
       "        vertical-align: top;\n",
       "    }\n",
       "\n",
       "    .dataframe thead th {\n",
       "        text-align: right;\n",
       "    }\n",
       "</style>\n",
       "<table border=\"1\" class=\"dataframe\">\n",
       "  <thead>\n",
       "    <tr style=\"text-align: right;\">\n",
       "      <th></th>\n",
       "      <th>Boutique</th>\n",
       "      <th>code postal</th>\n",
       "      <th>Depuis combien de temps êtes vous un client de la Maison Pariès ?</th>\n",
       "      <th>A quelle fréquence venez-vous nous rendre visite ?</th>\n",
       "      <th>Comment nous avez-vous connus ?</th>\n",
       "      <th>En 2 mots, comment définiriez-vous la Maison ?</th>\n",
       "      <th>A quelle(s) occasion(s) effectuez-vous des achats chez nous</th>\n",
       "      <th>Quel est le produit que vous préférez ?</th>\n",
       "      <th>8. Quels sont les produits de nos gammes que vous achetez chez d’autres artisans ?</th>\n",
       "      <th>Où achetez-vous nos produits ?</th>\n",
       "      <th>Avez-vous déjà eu l’occasion de commander nos produits sur notre site en ligne ?</th>\n",
       "      <th>Si vous n'êtes pas de la région, aimeriez-vous pouvoir trouver nos produits à proximité de votre domicile ?</th>\n",
       "      <th>Que devons-nous faire pour progresser ?</th>\n",
       "      <th>Sexe</th>\n",
       "      <th>Quelle est votre catégorie socio-professionnelle ?</th>\n",
       "      <th>Tranche d'âge</th>\n",
       "      <th>Êtes-vous abonné à notre newsletter ?</th>\n",
       "      <th>Chocolat</th>\n",
       "      <th>Gateau Basque</th>\n",
       "      <th>Code postal</th>\n",
       "    </tr>\n",
       "  </thead>\n",
       "  <tbody>\n",
       "    <tr>\n",
       "      <th>0</th>\n",
       "      <td>St Jean</td>\n",
       "      <td>31410.0</td>\n",
       "      <td>2</td>\n",
       "      <td>0</td>\n",
       "      <td>bouche à oreille</td>\n",
       "      <td>Accueillant</td>\n",
       "      <td>pour me faire plaisir; pour régaler ma famille</td>\n",
       "      <td>Gateau basque</td>\n",
       "      <td>Gateau basque</td>\n",
       "      <td>Toujours dans la même boutique</td>\n",
       "      <td>0</td>\n",
       "      <td>0.0</td>\n",
       "      <td>Je ne sais pas</td>\n",
       "      <td>1</td>\n",
       "      <td>1</td>\n",
       "      <td>5</td>\n",
       "      <td>0</td>\n",
       "      <td>0</td>\n",
       "      <td>1</td>\n",
       "      <td>0</td>\n",
       "    </tr>\n",
       "    <tr>\n",
       "      <th>1</th>\n",
       "      <td>St Jean</td>\n",
       "      <td>64500.0</td>\n",
       "      <td>3</td>\n",
       "      <td>0</td>\n",
       "      <td>avec vos parents, votre famille</td>\n",
       "      <td>Bon; Fiable</td>\n",
       "      <td>pour me faire plaisir; pour régaler ma famille...</td>\n",
       "      <td>Pâtisseries</td>\n",
       "      <td>Aucun</td>\n",
       "      <td>Toujours dans la même boutique</td>\n",
       "      <td>0</td>\n",
       "      <td>NaN</td>\n",
       "      <td>Je ne sais pas</td>\n",
       "      <td>1</td>\n",
       "      <td>1</td>\n",
       "      <td>5</td>\n",
       "      <td>0</td>\n",
       "      <td>0</td>\n",
       "      <td>0</td>\n",
       "      <td>1</td>\n",
       "    </tr>\n",
       "    <tr>\n",
       "      <th>2</th>\n",
       "      <td>St Jean</td>\n",
       "      <td>62400.0</td>\n",
       "      <td>2</td>\n",
       "      <td>1</td>\n",
       "      <td>par hasard en passant devant</td>\n",
       "      <td>Plaisant</td>\n",
       "      <td>pour me faire plaisir</td>\n",
       "      <td>Gateau basque chocolat</td>\n",
       "      <td>Viennoiseries</td>\n",
       "      <td>Toujours dans la même boutique</td>\n",
       "      <td>0</td>\n",
       "      <td>NaN</td>\n",
       "      <td>Gateau basque plus épais</td>\n",
       "      <td>1</td>\n",
       "      <td>0</td>\n",
       "      <td>3</td>\n",
       "      <td>0</td>\n",
       "      <td>0</td>\n",
       "      <td>1</td>\n",
       "      <td>0</td>\n",
       "    </tr>\n",
       "    <tr>\n",
       "      <th>3</th>\n",
       "      <td>St Jean</td>\n",
       "      <td>33820.0</td>\n",
       "      <td>2</td>\n",
       "      <td>0</td>\n",
       "      <td>par hasard en passant devant</td>\n",
       "      <td>Alléchant</td>\n",
       "      <td>pour me faire plaisir; pour faire un cadeau</td>\n",
       "      <td>Viennoiseries Royal Amande</td>\n",
       "      <td>Gateau basque</td>\n",
       "      <td>Toujours dans la même boutique</td>\n",
       "      <td>0</td>\n",
       "      <td>1.0</td>\n",
       "      <td>Gateau basque plus épais</td>\n",
       "      <td>0</td>\n",
       "      <td>1</td>\n",
       "      <td>5</td>\n",
       "      <td>0</td>\n",
       "      <td>0</td>\n",
       "      <td>0</td>\n",
       "      <td>0</td>\n",
       "    </tr>\n",
       "    <tr>\n",
       "      <th>4</th>\n",
       "      <td>St Jean</td>\n",
       "      <td>64210.0</td>\n",
       "      <td>2</td>\n",
       "      <td>0</td>\n",
       "      <td>par hasard en passant devant; bouche à oreille</td>\n",
       "      <td>Savoureux; Raffiné</td>\n",
       "      <td>pour me faire plaisir; pour faire un cadeau</td>\n",
       "      <td>Mouchous amande</td>\n",
       "      <td>Gateau basque; Chocolat</td>\n",
       "      <td>En fonction de l'endroit où je me trouve</td>\n",
       "      <td>0</td>\n",
       "      <td>NaN</td>\n",
       "      <td>Baisser les prix; Diversifier les parfums de g...</td>\n",
       "      <td>1</td>\n",
       "      <td>0</td>\n",
       "      <td>3</td>\n",
       "      <td>0</td>\n",
       "      <td>0</td>\n",
       "      <td>0</td>\n",
       "      <td>1</td>\n",
       "    </tr>\n",
       "  </tbody>\n",
       "</table>\n",
       "</div>"
      ],
      "text/plain": [
       "  Boutique code postal  \\\n",
       "0  St Jean     31410.0   \n",
       "1  St Jean     64500.0   \n",
       "2  St Jean     62400.0   \n",
       "3  St Jean     33820.0   \n",
       "4  St Jean     64210.0   \n",
       "\n",
       "   Depuis combien de temps êtes vous un client de la Maison Pariès ?  \\\n",
       "0                                                  2                   \n",
       "1                                                  3                   \n",
       "2                                                  2                   \n",
       "3                                                  2                   \n",
       "4                                                  2                   \n",
       "\n",
       "   A quelle fréquence venez-vous nous rendre visite ?  \\\n",
       "0                                                  0    \n",
       "1                                                  0    \n",
       "2                                                  1    \n",
       "3                                                  0    \n",
       "4                                                  0    \n",
       "\n",
       "                  Comment nous avez-vous connus ?  \\\n",
       "0                                bouche à oreille   \n",
       "1                 avec vos parents, votre famille   \n",
       "2                    par hasard en passant devant   \n",
       "3                    par hasard en passant devant   \n",
       "4  par hasard en passant devant; bouche à oreille   \n",
       "\n",
       "  En 2 mots, comment définiriez-vous la Maison ?  \\\n",
       "0                                    Accueillant   \n",
       "1                                    Bon; Fiable   \n",
       "2                                       Plaisant   \n",
       "3                                      Alléchant   \n",
       "4                             Savoureux; Raffiné   \n",
       "\n",
       "  A quelle(s) occasion(s) effectuez-vous des achats chez nous  \\\n",
       "0     pour me faire plaisir; pour régaler ma famille            \n",
       "1  pour me faire plaisir; pour régaler ma famille...            \n",
       "2                              pour me faire plaisir            \n",
       "3        pour me faire plaisir; pour faire un cadeau            \n",
       "4        pour me faire plaisir; pour faire un cadeau            \n",
       "\n",
       "  Quel est le produit que vous préférez ?  \\\n",
       "0                           Gateau basque   \n",
       "1                             Pâtisseries   \n",
       "2                  Gateau basque chocolat   \n",
       "3              Viennoiseries Royal Amande   \n",
       "4                         Mouchous amande   \n",
       "\n",
       "  8. Quels sont les produits de nos gammes que vous achetez chez d’autres artisans ?  \\\n",
       "0                                      Gateau basque                                   \n",
       "1                                              Aucun                                   \n",
       "2                                      Viennoiseries                                   \n",
       "3                                      Gateau basque                                   \n",
       "4                            Gateau basque; Chocolat                                   \n",
       "\n",
       "             Où achetez-vous nos produits ?  \\\n",
       "0            Toujours dans la même boutique   \n",
       "1            Toujours dans la même boutique   \n",
       "2            Toujours dans la même boutique   \n",
       "3            Toujours dans la même boutique   \n",
       "4  En fonction de l'endroit où je me trouve   \n",
       "\n",
       "   Avez-vous déjà eu l’occasion de commander nos produits sur notre site en ligne ?  \\\n",
       "0                                                  0                                  \n",
       "1                                                  0                                  \n",
       "2                                                  0                                  \n",
       "3                                                  0                                  \n",
       "4                                                  0                                  \n",
       "\n",
       "   Si vous n'êtes pas de la région, aimeriez-vous pouvoir trouver nos produits à proximité de votre domicile ?  \\\n",
       "0                                                0.0                                                             \n",
       "1                                                NaN                                                             \n",
       "2                                                NaN                                                             \n",
       "3                                                1.0                                                             \n",
       "4                                                NaN                                                             \n",
       "\n",
       "             Que devons-nous faire pour progresser ?  Sexe  \\\n",
       "0                                     Je ne sais pas     1   \n",
       "1                                     Je ne sais pas     1   \n",
       "2                           Gateau basque plus épais     1   \n",
       "3                           Gateau basque plus épais     0   \n",
       "4  Baisser les prix; Diversifier les parfums de g...     1   \n",
       "\n",
       "   Quelle est votre catégorie socio-professionnelle ?  Tranche d'âge  \\\n",
       "0                                                  1               5   \n",
       "1                                                  1               5   \n",
       "2                                                  0               3   \n",
       "3                                                  1               5   \n",
       "4                                                  0               3   \n",
       "\n",
       "   Êtes-vous abonné à notre newsletter ?  Chocolat  Gateau Basque  Code postal  \n",
       "0                                      0         0              1            0  \n",
       "1                                      0         0              0            1  \n",
       "2                                      0         0              1            0  \n",
       "3                                      0         0              0            0  \n",
       "4                                      0         0              0            1  "
      ]
     },
     "execution_count": 84,
     "metadata": {},
     "output_type": "execute_result"
    }
   ],
   "source": [
    "data.head()"
   ]
  },
  {
   "cell_type": "code",
   "execution_count": 92,
   "id": "afc2a190",
   "metadata": {},
   "outputs": [],
   "source": [
    "data_recoder=data[['Depuis combien de temps êtes vous un client de la Maison Pariès ?','A quelle fréquence venez-vous nous rendre visite ?','Avez-vous déjà eu l’occasion de commander nos produits sur notre site en ligne ?',\"Si vous n'êtes pas de la région, aimeriez-vous pouvoir trouver nos produits à proximité de votre domicile ?\",\"Quelle est votre catégorie socio-professionnelle ?\",\"Tranche d'âge\",\"Êtes-vous abonné à notre newsletter ?\",\"Chocolat\",\"Gateau Basque\",\"Code postal\"]]"
   ]
  },
  {
   "cell_type": "code",
   "execution_count": 100,
   "id": "7bf8cc7b",
   "metadata": {},
   "outputs": [
    {
     "data": {
      "text/html": [
       "<div>\n",
       "<style scoped>\n",
       "    .dataframe tbody tr th:only-of-type {\n",
       "        vertical-align: middle;\n",
       "    }\n",
       "\n",
       "    .dataframe tbody tr th {\n",
       "        vertical-align: top;\n",
       "    }\n",
       "\n",
       "    .dataframe thead th {\n",
       "        text-align: right;\n",
       "    }\n",
       "</style>\n",
       "<table border=\"1\" class=\"dataframe\">\n",
       "  <thead>\n",
       "    <tr style=\"text-align: right;\">\n",
       "      <th></th>\n",
       "      <th>Depuis combien de temps êtes vous un client de la Maison Pariès ?</th>\n",
       "      <th>A quelle fréquence venez-vous nous rendre visite ?</th>\n",
       "      <th>Avez-vous déjà eu l’occasion de commander nos produits sur notre site en ligne ?</th>\n",
       "      <th>Quelle est votre catégorie socio-professionnelle ?</th>\n",
       "      <th>Tranche d'âge</th>\n",
       "      <th>Êtes-vous abonné à notre newsletter ?</th>\n",
       "      <th>Chocolat</th>\n",
       "      <th>Gateau Basque</th>\n",
       "      <th>Code postal</th>\n",
       "    </tr>\n",
       "  </thead>\n",
       "  <tbody>\n",
       "    <tr>\n",
       "      <th>0</th>\n",
       "      <td>2</td>\n",
       "      <td>0</td>\n",
       "      <td>0</td>\n",
       "      <td>1</td>\n",
       "      <td>5</td>\n",
       "      <td>0</td>\n",
       "      <td>0</td>\n",
       "      <td>1</td>\n",
       "      <td>0</td>\n",
       "    </tr>\n",
       "    <tr>\n",
       "      <th>1</th>\n",
       "      <td>3</td>\n",
       "      <td>0</td>\n",
       "      <td>0</td>\n",
       "      <td>1</td>\n",
       "      <td>5</td>\n",
       "      <td>0</td>\n",
       "      <td>0</td>\n",
       "      <td>0</td>\n",
       "      <td>1</td>\n",
       "    </tr>\n",
       "    <tr>\n",
       "      <th>2</th>\n",
       "      <td>2</td>\n",
       "      <td>1</td>\n",
       "      <td>0</td>\n",
       "      <td>0</td>\n",
       "      <td>3</td>\n",
       "      <td>0</td>\n",
       "      <td>0</td>\n",
       "      <td>1</td>\n",
       "      <td>0</td>\n",
       "    </tr>\n",
       "    <tr>\n",
       "      <th>3</th>\n",
       "      <td>2</td>\n",
       "      <td>0</td>\n",
       "      <td>0</td>\n",
       "      <td>1</td>\n",
       "      <td>5</td>\n",
       "      <td>0</td>\n",
       "      <td>0</td>\n",
       "      <td>0</td>\n",
       "      <td>0</td>\n",
       "    </tr>\n",
       "    <tr>\n",
       "      <th>4</th>\n",
       "      <td>2</td>\n",
       "      <td>0</td>\n",
       "      <td>0</td>\n",
       "      <td>0</td>\n",
       "      <td>3</td>\n",
       "      <td>0</td>\n",
       "      <td>0</td>\n",
       "      <td>0</td>\n",
       "      <td>1</td>\n",
       "    </tr>\n",
       "  </tbody>\n",
       "</table>\n",
       "</div>"
      ],
      "text/plain": [
       "   Depuis combien de temps êtes vous un client de la Maison Pariès ?  \\\n",
       "0                                                  2                   \n",
       "1                                                  3                   \n",
       "2                                                  2                   \n",
       "3                                                  2                   \n",
       "4                                                  2                   \n",
       "\n",
       "   A quelle fréquence venez-vous nous rendre visite ?  \\\n",
       "0                                                  0    \n",
       "1                                                  0    \n",
       "2                                                  1    \n",
       "3                                                  0    \n",
       "4                                                  0    \n",
       "\n",
       "   Avez-vous déjà eu l’occasion de commander nos produits sur notre site en ligne ?  \\\n",
       "0                                                  0                                  \n",
       "1                                                  0                                  \n",
       "2                                                  0                                  \n",
       "3                                                  0                                  \n",
       "4                                                  0                                  \n",
       "\n",
       "   Quelle est votre catégorie socio-professionnelle ?  Tranche d'âge  \\\n",
       "0                                                  1               5   \n",
       "1                                                  1               5   \n",
       "2                                                  0               3   \n",
       "3                                                  1               5   \n",
       "4                                                  0               3   \n",
       "\n",
       "   Êtes-vous abonné à notre newsletter ?  Chocolat  Gateau Basque  Code postal  \n",
       "0                                      0         0              1            0  \n",
       "1                                      0         0              0            1  \n",
       "2                                      0         0              1            0  \n",
       "3                                      0         0              0            0  \n",
       "4                                      0         0              0            1  "
      ]
     },
     "execution_count": 100,
     "metadata": {},
     "output_type": "execute_result"
    }
   ],
   "source": [
    "data_recoder.head()"
   ]
  },
  {
   "cell_type": "code",
   "execution_count": 103,
   "id": "5d0e8ce5",
   "metadata": {},
   "outputs": [],
   "source": [
    "y= data_recoder[\"A quelle fréquence venez-vous nous rendre visite ?\"]\n",
    "X= data_recoder.drop([\"A quelle fréquence venez-vous nous rendre visite ?\"],axis=1)"
   ]
  },
  {
   "cell_type": "code",
   "execution_count": 105,
   "id": "335e68fe",
   "metadata": {},
   "outputs": [],
   "source": [
    "modele=tree.DecisionTreeClassifier()\n",
    "modele=modele.fit(X,y)"
   ]
  },
  {
   "cell_type": "code",
   "execution_count": 106,
   "id": "9747f165",
   "metadata": {},
   "outputs": [],
   "source": [
    "y_pred=modele.predict(X)"
   ]
  },
  {
   "cell_type": "code",
   "execution_count": null,
   "id": "8a0a90bd",
   "metadata": {},
   "outputs": [],
   "source": []
  },
  {
   "cell_type": "code",
   "execution_count": 110,
   "id": "9f0b667e",
   "metadata": {},
   "outputs": [
    {
     "data": {
      "text/plain": [
       "array([[711, 113],\n",
       "       [154, 213]], dtype=int64)"
      ]
     },
     "execution_count": 110,
     "metadata": {},
     "output_type": "execute_result"
    }
   ],
   "source": [
    "confusion_matrix(y,y_pred)"
   ]
  },
  {
   "cell_type": "code",
   "execution_count": 123,
   "id": "a80a5b72",
   "metadata": {},
   "outputs": [
    {
     "data": {
      "text/plain": [
       "array([[0.82196532, 0.34662577],\n",
       "       [0.17803468, 0.65337423]])"
      ]
     },
     "execution_count": 123,
     "metadata": {},
     "output_type": "execute_result"
    }
   ],
   "source": [
    "cm=confusion_matrix(y,y_pred,normalize='pred')\n",
    "cm"
   ]
  },
  {
   "cell_type": "code",
   "execution_count": 126,
   "id": "488ff595",
   "metadata": {},
   "outputs": [],
   "source": [
    "cm_df = pd.DataFrame(cm,index=[\"client non fidèle\",\"client fidèle\"],columns=[\"client non fidèle\",\"client fidèle\"])"
   ]
  },
  {
   "cell_type": "code",
   "execution_count": 127,
   "id": "d5c974c2",
   "metadata": {},
   "outputs": [
    {
     "data": {
      "text/plain": [
       "Text(0.5, 1.0, 'Confusion matrix')"
      ]
     },
     "execution_count": 127,
     "metadata": {},
     "output_type": "execute_result"
    },
    {
     "data": {
      "image/png": "[encoded data removed]",
      "text/plain": [
       "<Figure size 700x700 with 2 Axes>"
      ]
     },
     "metadata": {},
     "output_type": "display_data"
    }
   ],
   "source": [
    "plt.figure(figsize=(7,7))\n",
    "sns.heatmap(cm_df,annot=True)\n",
    "plt.title(\"Confusion matrix\")"
   ]
  },
  {
   "cell_type": "code",
   "execution_count": 122,
   "id": "4da4611e",
   "metadata": {},
   "outputs": [
    {
     "data": {
      "image/png": "[encoded data removed]",
      "text/plain": [
       "<Figure size 640x480 with 1 Axes>"
      ]
     },
     "metadata": {},
     "output_type": "display_data"
    }
   ],
   "source": [
    "tree.plot_tree(modele);\n",
    "# cest pas si mal maintenant peut etre essayer d'ameliorer le modele => cherche optimisation arbre de décision sur gogole"
   ]
  },
  {
   "cell_type": "code",
   "execution_count": null,
   "id": "3a5bcf0e",
   "metadata": {},
   "outputs": [],
   "source": []
  }
 ],
 "metadata": {
  "kernelspec": {
   "display_name": "Python 3",
   "language": "python",
   "name": "python3"
  },
  "language_info": {
   "codemirror_mode": {
    "name": "ipython",
    "version": 3
   },
   "file_extension": ".py",
   "mimetype": "text/x-python",
   "name": "python",
   "nbconvert_exporter": "python",
   "pygments_lexer": "ipython3",
   "version": "3.8.12"
  },
  "vscode": {
   "interpreter": {
    "hash": "5283e9d560049f007e44e8880e9053d1b975639cc7fdc028a3537e51bc0080af"
   }
  }
 },
 "nbformat": 4,
 "nbformat_minor": 5
}
