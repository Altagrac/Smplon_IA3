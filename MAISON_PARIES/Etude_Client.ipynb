{
 "cells": [
  {
   "attachments": {},
   "cell_type": "markdown",
   "id": "b083a8ae",
   "metadata": {},
   "source": [
    "## Imports des packages "
   ]
  },
  {
   "cell_type": "code",
   "execution_count": 1,
   "id": "d4d1b353-7d1b-43dc-8948-18dbeccc31e1",
   "metadata": {},
   "outputs": [],
   "source": [
    "import pandas as pd\n",
    "import seaborn as sns \n",
    "import matplotlib.pyplot as plt\n",
    "import numpy as np\n",
    "from pandas_ods_reader import read_ods\n",
    "from sklearn import tree\n",
    "from sklearn.metrics import confusion_matrix\n",
    "from sklearn.model_selection import cross_validate, cross_val_score, train_test_split"
   ]
  },
  {
   "attachments": {},
   "cell_type": "markdown",
   "id": "4901bdf2",
   "metadata": {},
   "source": [
    "## Lecture des données "
   ]
  },
  {
   "cell_type": "code",
   "execution_count": 2,
   "id": "35ef277f-bf07-4785-ad83-1c629abe5496",
   "metadata": {},
   "outputs": [],
   "source": [
    "path = \"data2.ods\"\n",
    "data = read_ods(path)"
   ]
  },
  {
   "cell_type": "markdown",
   "id": "c4a8d4de",
   "metadata": {},
   "source": [
    "# Excel brut sans nettoyage des données"
   ]
  },
  {
   "cell_type": "code",
   "execution_count": 1,
   "id": "0c90198f",
   "metadata": {},
   "outputs": [
    {
     "ename": "NameError",
     "evalue": "name 'data' is not defined",
     "output_type": "error",
     "traceback": [
      "\u001b[0;31m---------------------------------------------------------------------------\u001b[0m",
      "\u001b[0;31mNameError\u001b[0m                                 Traceback (most recent call last)",
      "\u001b[0;32m/tmp/ipykernel_2203/1970397379.py\u001b[0m in \u001b[0;36m<module>\u001b[0;34m\u001b[0m\n\u001b[0;32m----> 1\u001b[0;31m \u001b[0mdata\u001b[0m\u001b[0;34m.\u001b[0m\u001b[0mhead\u001b[0m\u001b[0;34m(\u001b[0m\u001b[0;36m5\u001b[0m\u001b[0;34m)\u001b[0m\u001b[0;34m\u001b[0m\u001b[0;34m\u001b[0m\u001b[0m\n\u001b[0m",
      "\u001b[0;31mNameError\u001b[0m: name 'data' is not defined"
     ]
    }
   ],
   "source": [
    "data.head(5)"
   ]
  },
  {
   "cell_type": "markdown",
   "id": "a70b555a",
   "metadata": {},
   "source": [
    "# Toutes les questions du questionnaire"
   ]
  },
  {
   "cell_type": "code",
   "execution_count": 4,
   "id": "393a8d3a-826e-4299-b17e-2f5926d289c1",
   "metadata": {},
   "outputs": [
    {
     "data": {
      "text/plain": [
       "Horodateur                                                                                                     1191\n",
       "unnamed.1                                                                                                      1191\n",
       "unnamed.2                                                                                                      1191\n",
       "Boutique                                                                                                       1191\n",
       "code postal                                                                                                    1191\n",
       "Depuis combien de temps êtes vous un client de la Maison Pariès ?                                              1191\n",
       "A quelle fréquence venez-vous nous rendre visite ?                                                             1191\n",
       "Comment nous avez-vous connus ?                                                                                1191\n",
       "En 2 mots, comment définiriez-vous la Maison ?                                                                 1191\n",
       "A quelle(s) occasion(s) effectuez-vous des achats chez nous                                                    1191\n",
       "Quel est le produit que vous préférez ?                                                                        1035\n",
       "Quel est le dernier produit de la gamme Pariès que vous connaissez ?                                            979\n",
       "8. Quels sont les produits de nos gammes que vous achetez chez d’autres artisans ?                             1001\n",
       "Pourquoi ?                                                                                                      605\n",
       "Où achetez-vous nos produits ?                                                                                 1023\n",
       "Avez-vous déjà eu l’occasion de commander nos produits sur notre site en ligne ?                               1191\n",
       "Si vous n'êtes pas de la région, aimeriez-vous pouvoir trouver nos produits à proximité de votre domicile ?     263\n",
       "Pourquoi ?.1                                                                                                    257\n",
       "Que devons-nous faire pour progresser ?                                                                        1006\n",
       "14. Dans les grandes évolutions de la consommation, quelles sont les 3 qui vous tiennent le plus à cœur ?      1176\n",
       "Sexe                                                                                                           1191\n",
       "Quelle est votre catégorie socio-professionnelle ?                                                             1191\n",
       "Tranche d'âge                                                                                                  1191\n",
       "de combien de personnes se compose votre foyer ?                                                               1187\n",
       "S'il y a des enfants dans votre foyer, quel âge ont-ils ?                                                       461\n",
       "Êtes-vous abonné à notre newsletter ?                                                                          1191\n",
       "Si non, confiez-moi votre adresse mail pour recevoir notre actualité (moins de 10 mails par an)                 146\n",
       "dtype: int64"
      ]
     },
     "execution_count": 4,
     "metadata": {},
     "output_type": "execute_result"
    }
   ],
   "source": [
    "data.count()"
   ]
  },
  {
   "cell_type": "markdown",
   "id": "efa60afb-273e-4cd4-a000-9af80ebc8d75",
   "metadata": {},
   "source": [
    "# Pourcentage des tranches d'âges"
   ]
  },
  {
   "cell_type": "code",
   "execution_count": 5,
   "id": "fe61b9e4-54ac-4868-a939-3bbfba117c04",
   "metadata": {},
   "outputs": [
    {
     "name": "stdout",
     "output_type": "stream",
     "text": [
      "Pourcentage 65 ans et + : 24.01343408900084\n",
      "Pourcentage 50/64 ans : 28.631402183039462\n",
      "Pourcentage 35/49 ans : 25.356842989084804\n",
      "Pourcentage 25/34 ans : 13.266162888329136\n",
      "Pourcentage 18/24 ans : 6.9689336691855575\n",
      "Pourcentage 15/17 ans : 1.7632241813602016\n"
     ]
    }
   ],
   "source": [
    "print(\"Pourcentage 65 ans et + :\",(data[\"Tranche d'âge\"].value_counts()[2] / data[\"Tranche d'âge\"].count()) * 100)\n",
    "print(\"Pourcentage 50/64 ans :\",(data[\"Tranche d'âge\"].value_counts()[0] / data[\"Tranche d'âge\"].count()) * 100)\n",
    "print(\"Pourcentage 35/49 ans :\",(data[\"Tranche d'âge\"].value_counts()[1] / data[\"Tranche d'âge\"].count()) * 100)\n",
    "print(\"Pourcentage 25/34 ans :\",(data[\"Tranche d'âge\"].value_counts()[3] / data[\"Tranche d'âge\"].count()) * 100)\n",
    "print(\"Pourcentage 18/24 ans :\",(data[\"Tranche d'âge\"].value_counts()[4] / data[\"Tranche d'âge\"].count()) * 100)\n",
    "print(\"Pourcentage 15/17 ans :\",(data[\"Tranche d'âge\"].value_counts()[5] / data[\"Tranche d'âge\"].count()) * 100)"
   ]
  },
  {
   "cell_type": "markdown",
   "id": "4fb1734d-5e96-4a27-81b9-8de662811c2c",
   "metadata": {},
   "source": [
    "# On selectionne les colonnes qui nous intéresse pour travailler"
   ]
  },
  {
   "cell_type": "code",
   "execution_count": 6,
   "id": "bf306857",
   "metadata": {},
   "outputs": [],
   "source": [
    "data_nettoyer=data[[\"Boutique\",\"code postal\",\"Depuis combien de temps êtes vous un client de la Maison Pariès ?\",\"A quelle fréquence venez-vous nous rendre visite ?\",\"Comment nous avez-vous connus ?\",\"Quel est le produit que vous préférez ?\",\"Avez-vous déjà eu l’occasion de commander nos produits sur notre site en ligne ?\",\"Si vous n'êtes pas de la région, aimeriez-vous pouvoir trouver nos produits à proximité de votre domicile ?\",\"Que devons-nous faire pour progresser ?\",\"Sexe\",\"Quelle est votre catégorie socio-professionnelle ?\",\"Tranche d'âge\",\"de combien de personnes se compose votre foyer ?\",\"Êtes-vous abonné à notre newsletter ?\"]]"
   ]
  },
  {
   "cell_type": "code",
   "execution_count": 50,
   "id": "6f70216f-59c7-4e7e-9d7d-841494837156",
   "metadata": {},
   "outputs": [
    {
     "data": {
      "text/html": [
       "<div>\n",
       "<style scoped>\n",
       "    .dataframe tbody tr th:only-of-type {\n",
       "        vertical-align: middle;\n",
       "    }\n",
       "\n",
       "    .dataframe tbody tr th {\n",
       "        vertical-align: top;\n",
       "    }\n",
       "\n",
       "    .dataframe thead th {\n",
       "        text-align: right;\n",
       "    }\n",
       "</style>\n",
       "<table border=\"1\" class=\"dataframe\">\n",
       "  <thead>\n",
       "    <tr style=\"text-align: right;\">\n",
       "      <th></th>\n",
       "      <th>Boutique</th>\n",
       "      <th>code postal</th>\n",
       "      <th>Depuis combien de temps êtes vous un client de la Maison Pariès ?</th>\n",
       "      <th>A quelle fréquence venez-vous nous rendre visite ?</th>\n",
       "      <th>Comment nous avez-vous connus ?</th>\n",
       "      <th>Quel est le produit que vous préférez ?</th>\n",
       "      <th>Avez-vous déjà eu l’occasion de commander nos produits sur notre site en ligne ?</th>\n",
       "      <th>Si vous n'êtes pas de la région, aimeriez-vous pouvoir trouver nos produits à proximité de votre domicile ?</th>\n",
       "      <th>Que devons-nous faire pour progresser ?</th>\n",
       "      <th>Sexe</th>\n",
       "      <th>Quelle est votre catégorie socio-professionnelle ?</th>\n",
       "      <th>Tranche d'âge</th>\n",
       "      <th>de combien de personnes se compose votre foyer ?</th>\n",
       "      <th>Êtes-vous abonné à notre newsletter ?</th>\n",
       "      <th>Gateau Basque</th>\n",
       "      <th>Code postal</th>\n",
       "      <th>Chocolat</th>\n",
       "    </tr>\n",
       "  </thead>\n",
       "  <tbody>\n",
       "    <tr>\n",
       "      <th>0</th>\n",
       "      <td>St Jean</td>\n",
       "      <td>31410.0</td>\n",
       "      <td>2</td>\n",
       "      <td>0</td>\n",
       "      <td>1</td>\n",
       "      <td>Gateau basque</td>\n",
       "      <td>0</td>\n",
       "      <td>0.0</td>\n",
       "      <td>Je ne sais pas</td>\n",
       "      <td>1</td>\n",
       "      <td>1</td>\n",
       "      <td>5</td>\n",
       "      <td>2.0</td>\n",
       "      <td>0</td>\n",
       "      <td>1</td>\n",
       "      <td>0</td>\n",
       "      <td>0</td>\n",
       "    </tr>\n",
       "    <tr>\n",
       "      <th>1</th>\n",
       "      <td>St Jean</td>\n",
       "      <td>64500.0</td>\n",
       "      <td>3</td>\n",
       "      <td>0</td>\n",
       "      <td>1</td>\n",
       "      <td>Pâtisseries</td>\n",
       "      <td>0</td>\n",
       "      <td>1.0</td>\n",
       "      <td>Je ne sais pas</td>\n",
       "      <td>1</td>\n",
       "      <td>1</td>\n",
       "      <td>5</td>\n",
       "      <td>2.0</td>\n",
       "      <td>0</td>\n",
       "      <td>0</td>\n",
       "      <td>1</td>\n",
       "      <td>0</td>\n",
       "    </tr>\n",
       "    <tr>\n",
       "      <th>2</th>\n",
       "      <td>St Jean</td>\n",
       "      <td>62400.0</td>\n",
       "      <td>2</td>\n",
       "      <td>1</td>\n",
       "      <td>0</td>\n",
       "      <td>Gateau basque chocolat</td>\n",
       "      <td>0</td>\n",
       "      <td>1.0</td>\n",
       "      <td>Gateau basque plus épais</td>\n",
       "      <td>1</td>\n",
       "      <td>0</td>\n",
       "      <td>3</td>\n",
       "      <td>2.0</td>\n",
       "      <td>0</td>\n",
       "      <td>1</td>\n",
       "      <td>0</td>\n",
       "      <td>0</td>\n",
       "    </tr>\n",
       "    <tr>\n",
       "      <th>3</th>\n",
       "      <td>St Jean</td>\n",
       "      <td>33820.0</td>\n",
       "      <td>2</td>\n",
       "      <td>0</td>\n",
       "      <td>0</td>\n",
       "      <td>Viennoiseries Royal Amande</td>\n",
       "      <td>0</td>\n",
       "      <td>2.0</td>\n",
       "      <td>Gateau basque plus épais</td>\n",
       "      <td>0</td>\n",
       "      <td>1</td>\n",
       "      <td>5</td>\n",
       "      <td>2.0</td>\n",
       "      <td>0</td>\n",
       "      <td>0</td>\n",
       "      <td>0</td>\n",
       "      <td>0</td>\n",
       "    </tr>\n",
       "    <tr>\n",
       "      <th>4</th>\n",
       "      <td>St Jean</td>\n",
       "      <td>64210.0</td>\n",
       "      <td>2</td>\n",
       "      <td>0</td>\n",
       "      <td>0</td>\n",
       "      <td>Mouchous amande</td>\n",
       "      <td>0</td>\n",
       "      <td>1.0</td>\n",
       "      <td>Baisser les prix; Diversifier les parfums de g...</td>\n",
       "      <td>1</td>\n",
       "      <td>0</td>\n",
       "      <td>3</td>\n",
       "      <td>2.0</td>\n",
       "      <td>0</td>\n",
       "      <td>0</td>\n",
       "      <td>1</td>\n",
       "      <td>0</td>\n",
       "    </tr>\n",
       "  </tbody>\n",
       "</table>\n",
       "</div>"
      ],
      "text/plain": [
       "  Boutique code postal  \\\n",
       "0  St Jean     31410.0   \n",
       "1  St Jean     64500.0   \n",
       "2  St Jean     62400.0   \n",
       "3  St Jean     33820.0   \n",
       "4  St Jean     64210.0   \n",
       "\n",
       "   Depuis combien de temps êtes vous un client de la Maison Pariès ?  \\\n",
       "0                                                  2                   \n",
       "1                                                  3                   \n",
       "2                                                  2                   \n",
       "3                                                  2                   \n",
       "4                                                  2                   \n",
       "\n",
       "   A quelle fréquence venez-vous nous rendre visite ?  \\\n",
       "0                                                  0    \n",
       "1                                                  0    \n",
       "2                                                  1    \n",
       "3                                                  0    \n",
       "4                                                  0    \n",
       "\n",
       "   Comment nous avez-vous connus ? Quel est le produit que vous préférez ?  \\\n",
       "0                                1                           Gateau basque   \n",
       "1                                1                             Pâtisseries   \n",
       "2                                0                  Gateau basque chocolat   \n",
       "3                                0              Viennoiseries Royal Amande   \n",
       "4                                0                         Mouchous amande   \n",
       "\n",
       "   Avez-vous déjà eu l’occasion de commander nos produits sur notre site en ligne ?  \\\n",
       "0                                                  0                                  \n",
       "1                                                  0                                  \n",
       "2                                                  0                                  \n",
       "3                                                  0                                  \n",
       "4                                                  0                                  \n",
       "\n",
       "   Si vous n'êtes pas de la région, aimeriez-vous pouvoir trouver nos produits à proximité de votre domicile ?  \\\n",
       "0                                                0.0                                                             \n",
       "1                                                1.0                                                             \n",
       "2                                                1.0                                                             \n",
       "3                                                2.0                                                             \n",
       "4                                                1.0                                                             \n",
       "\n",
       "             Que devons-nous faire pour progresser ?  Sexe  \\\n",
       "0                                     Je ne sais pas     1   \n",
       "1                                     Je ne sais pas     1   \n",
       "2                           Gateau basque plus épais     1   \n",
       "3                           Gateau basque plus épais     0   \n",
       "4  Baisser les prix; Diversifier les parfums de g...     1   \n",
       "\n",
       "   Quelle est votre catégorie socio-professionnelle ?  Tranche d'âge  \\\n",
       "0                                                  1               5   \n",
       "1                                                  1               5   \n",
       "2                                                  0               3   \n",
       "3                                                  1               5   \n",
       "4                                                  0               3   \n",
       "\n",
       "   de combien de personnes se compose votre foyer ?  \\\n",
       "0                                               2.0   \n",
       "1                                               2.0   \n",
       "2                                               2.0   \n",
       "3                                               2.0   \n",
       "4                                               2.0   \n",
       "\n",
       "   Êtes-vous abonné à notre newsletter ?  Gateau Basque  Code postal  Chocolat  \n",
       "0                                      0              1            0         0  \n",
       "1                                      0              0            1         0  \n",
       "2                                      0              1            0         0  \n",
       "3                                      0              0            0         0  \n",
       "4                                      0              0            1         0  "
      ]
     },
     "execution_count": 50,
     "metadata": {},
     "output_type": "execute_result"
    }
   ],
   "source": [
    "data_nettoyer.head()"
   ]
  },
  {
   "cell_type": "markdown",
   "id": "4866e18e",
   "metadata": {},
   "source": [
    "# Nettoyage des données "
   ]
  },
  {
   "cell_type": "code",
   "execution_count": 11,
   "id": "d0439ab4",
   "metadata": {},
   "outputs": [],
   "source": [
    "dict = {\"Oui\" : 1, \"Non\" : 0}\n",
    "data_nettoyer=data_nettoyer.replace({\"Êtes-vous abonné à notre newsletter ?\": dict})\n",
    "# 1 = Abonné au Newsletter\n",
    "# 0 = Pas abonné au Newsletter"
   ]
  },
  {
   "cell_type": "code",
   "execution_count": 12,
   "id": "feed0fc9",
   "metadata": {},
   "outputs": [],
   "source": [
    "dict = {\"Depuis quelques années\" : 2, \"Depuis toujours\" : 3, \"Depuis moins d'un an\": 1, \"C’est une de mes premières visites\" : 0}\n",
    "data_nettoyer=data_nettoyer.replace({\"Depuis combien de temps êtes vous un client de la Maison Pariès ?\": dict})\n",
    "# 0 = C’est une de mes premières visites\n",
    "# 1 = Depuis moins d'un an\n",
    "# 2 = Depuis quelques années\n",
    "# 3 = Depuis toujours"
   ]
  },
  {
   "cell_type": "code",
   "execution_count": 13,
   "id": "cd5cf718",
   "metadata": {},
   "outputs": [],
   "source": [
    "dict = {\"visite exceptionnelle\" : 0, \"visite mensuelle\" : 1 , \"C'est la première fois !\": 0, \"visite hebdomadaire\" : 1, \"Tous les 15 jours\" : 1, \"3 fois par semaine\" : 1 , \"Tous les jours\" : 1 , \"visite exceptionnelle; Surtout en été\" : 0,\"Surtout en été\" : 0 ,\"Surtout l'été; Noël\" : 0 ,\"Surtout l’été\" : 0 ,\"Tous les 2 jours\" : 1 ,\"visite exceptionnelle, Surtout en été\" : 0}\n",
    "data_nettoyer=data_nettoyer.replace({\"A quelle fréquence venez-vous nous rendre visite ?\": dict})\n",
    "# 1 = Client fidèle (Au moins une fois par mois)\n",
    "# 0 = Client pas fidèle"
   ]
  },
  {
   "cell_type": "code",
   "execution_count": 14,
   "id": "f6b70a77",
   "metadata": {},
   "outputs": [],
   "source": [
    "dict = {\"65 et +\" : 5, \"25/34\" : 3 , \"50/64\": 5, \"18/24\" : 1, \"35/49\" : 4, \"15/17\" : 0}\n",
    "data_nettoyer=data_nettoyer.replace({\"Tranche d'âge\": dict})\n",
    "# 0 = 15/17\n",
    "# 1 = 18/24\n",
    "# 2 = 25/34\n",
    "# 3 = 35/49\n",
    "# 4 = 50/64\n",
    "# 5 = 65 et +"
   ]
  },
  {
   "cell_type": "code",
   "execution_count": 15,
   "id": "0b88f838",
   "metadata": {},
   "outputs": [],
   "source": [
    "dict = {\"oui\" : 1, \"Non\" : 0}\n",
    "data_nettoyer=data_nettoyer.replace({\"Avez-vous déjà eu l’occasion de commander nos produits sur notre site en ligne ?\": dict})\n",
    "# 1 = Déjà commandé en ligne\n",
    "# 0 = Jamais commandé en ligne"
   ]
  },
  {
   "cell_type": "code",
   "execution_count": 16,
   "id": "7e63e018",
   "metadata": {},
   "outputs": [],
   "source": [
    "dict = {\"Femme\" : 1, \"Homme\" : 0}\n",
    "data_nettoyer=data_nettoyer.replace({\"Sexe\": dict})\n",
    "# 1 = Femme\n",
    "# 0 = Homme"
   ]
  },
  {
   "cell_type": "code",
   "execution_count": 17,
   "id": "ddd1f2d7",
   "metadata": {},
   "outputs": [],
   "source": [
    "dict = {'Retraité' : 1, 'Employé' : 0,'Cadre et profession intellectuelle supérieure' : 0,'Profession libérale' : 0, 'Etudiant' : 0, 'Sans profession' : 0,\"Artisan, commerçant, chef d'entreprise\" : 0, 'Ouvrier': 0,'Profession intermédiaire':0, 'Agriculteur exploitant':0}\n",
    "data_nettoyer=data_nettoyer.replace({\"Quelle est votre catégorie socio-professionnelle ?\": dict})\n",
    "# 1 = Retraité\n",
    "# 0 = Non retraité (Employé quelconque)"
   ]
  },
  {
   "cell_type": "code",
   "execution_count": 20,
   "id": "d1c36e2d",
   "metadata": {},
   "outputs": [],
   "source": [
    "dict = {'bouche à oreille':1, 'avec vos parents, votre famille':1,'par hasard en passant devant':0,'par hasard en passant devant; bouche à oreille':0,'bouche à oreille; avec vos parents, votre famille':1, 'Cadeau':0,'Location de vacances':0,'par hasard en passant devant;  bouche à oreille':0,'par hasard en passant devant; avec vos parents, votre famille':0,'par hasard en passant devant; bouche à oreille; avec vos parents, votre famille':0,'par hasard en passant devant; via les réseaux':0, 'via les réseaux':0,'sur un guide':0, 'chez un restaurateur, un café, un revendeur':1,'bouche à oreille; sur un guide':1, 'Publicité':0, 'Travail':1,'Séminaire':1, 'par hasard en passant devant; Sur un salon':0,'sur un guide; via les réseaux':0, 'Carte Synergie':0,'Journal anglais':0, 'Bridge':0, 'En goutant':0,'bouche à oreille; En goutant':1, 'bouche à oreille; Cadeau':1,'Reportage télévisé':0, 'Publicité via les poches':1,'avec vos parents, votre famille; via les réseaux':1,'par hasard en passant devant, BD':0,'par hasard en passant devant, bouche à oreille':0,'par hasard en passant devant, Publicité via les poches':0,'bouche à oreille, En goutant':1, 'Cadeau; En goutant':1,'avec vos parents, votre famille, En goutant':1,'avec vos parents, votre famille; En goutant':1}\n",
    "data_nettoyer=data_nettoyer.replace({\"Comment nous avez-vous connus ?\": dict})\n",
    "# 1 = Famille / Bouche à oreille\n",
    "# 0 = Hasard"
   ]
  },
  {
   "cell_type": "code",
   "execution_count": 18,
   "id": "5625ee9d",
   "metadata": {},
   "outputs": [],
   "source": [
    "dict = {'Non' : 0, 'oui' : 2}\n",
    "data_nettoyer=data_nettoyer.replace({\"Si vous n'êtes pas de la région, aimeriez-vous pouvoir trouver nos produits à proximité de votre domicile ?\": dict})\n",
    "# 2 = Ils veulent une boutique à proximité\n",
    "# 0 = Ils ne veulent pas de boutique à proximité\n",
    "# 1 = Locaux"
   ]
  },
  {
   "cell_type": "code",
   "execution_count": 19,
   "id": "dc801453",
   "metadata": {},
   "outputs": [],
   "source": [
    "data_nettoyer[\"Si vous n'êtes pas de la région, aimeriez-vous pouvoir trouver nos produits à proximité de votre domicile ?\"]=data_nettoyer[\"Si vous n'êtes pas de la région, aimeriez-vous pouvoir trouver nos produits à proximité de votre domicile ?\"].replace(np.nan, 1)"
   ]
  },
  {
   "cell_type": "code",
   "execution_count": 54,
   "id": "ad0e221c",
   "metadata": {},
   "outputs": [],
   "source": [
    "data_nettoyer['Chocolat'] =(data_nettoyer['Quel est le produit que vous préférez ?'].str.find('Chocolat')>=0).astype(int)\n",
    "# 0 = Pas chocolat\n",
    "# 1 = Chocolat"
   ]
  },
  {
   "cell_type": "code",
   "execution_count": 52,
   "id": "9d73ee04",
   "metadata": {},
   "outputs": [],
   "source": [
    "data_nettoyer['Gateau Basque'] =(data_nettoyer['Quel est le produit que vous préférez ?'].str.find('Gateau basque')>=0).astype(int)\n",
    "# 0 = Pas gateau basque\n",
    "# 1 = gateau basque"
   ]
  },
  {
   "cell_type": "code",
   "execution_count": 53,
   "id": "a2404fe3",
   "metadata": {},
   "outputs": [],
   "source": [
    "data_nettoyer['Code postal'] =(data_nettoyer['code postal'].astype(str).str.find('64',0,2)==0).astype(int)\n",
    "# 0 = Autre département\n",
    "# 1 = Locaux"
   ]
  },
  {
   "cell_type": "code",
   "execution_count": 51,
   "id": "9e980e08",
   "metadata": {},
   "outputs": [
    {
     "data": {
      "text/plain": [
       "array([ 2.,  4.,  3.,  1.,  5.,  6.,  8., nan,  7., 12.])"
      ]
     },
     "execution_count": 51,
     "metadata": {},
     "output_type": "execute_result"
    }
   ],
   "source": [
    "data_nettoyer[\"de combien de personnes se compose votre foyer ?\"].unique()"
   ]
  },
  {
   "attachments": {},
   "cell_type": "markdown",
   "id": "d1b42544",
   "metadata": {},
   "source": [
    "## Nouveau jeux de données néttoyé"
   ]
  },
  {
   "cell_type": "code",
   "execution_count": 55,
   "id": "8bccc471",
   "metadata": {},
   "outputs": [
    {
     "data": {
      "text/html": [
       "<div>\n",
       "<style scoped>\n",
       "    .dataframe tbody tr th:only-of-type {\n",
       "        vertical-align: middle;\n",
       "    }\n",
       "\n",
       "    .dataframe tbody tr th {\n",
       "        vertical-align: top;\n",
       "    }\n",
       "\n",
       "    .dataframe thead th {\n",
       "        text-align: right;\n",
       "    }\n",
       "</style>\n",
       "<table border=\"1\" class=\"dataframe\">\n",
       "  <thead>\n",
       "    <tr style=\"text-align: right;\">\n",
       "      <th></th>\n",
       "      <th>Boutique</th>\n",
       "      <th>code postal</th>\n",
       "      <th>Depuis combien de temps êtes vous un client de la Maison Pariès ?</th>\n",
       "      <th>A quelle fréquence venez-vous nous rendre visite ?</th>\n",
       "      <th>Comment nous avez-vous connus ?</th>\n",
       "      <th>Quel est le produit que vous préférez ?</th>\n",
       "      <th>Avez-vous déjà eu l’occasion de commander nos produits sur notre site en ligne ?</th>\n",
       "      <th>Si vous n'êtes pas de la région, aimeriez-vous pouvoir trouver nos produits à proximité de votre domicile ?</th>\n",
       "      <th>Que devons-nous faire pour progresser ?</th>\n",
       "      <th>Sexe</th>\n",
       "      <th>Quelle est votre catégorie socio-professionnelle ?</th>\n",
       "      <th>Tranche d'âge</th>\n",
       "      <th>de combien de personnes se compose votre foyer ?</th>\n",
       "      <th>Êtes-vous abonné à notre newsletter ?</th>\n",
       "      <th>Gateau Basque</th>\n",
       "      <th>Code postal</th>\n",
       "      <th>Chocolat</th>\n",
       "    </tr>\n",
       "  </thead>\n",
       "  <tbody>\n",
       "    <tr>\n",
       "      <th>0</th>\n",
       "      <td>St Jean</td>\n",
       "      <td>31410.0</td>\n",
       "      <td>2</td>\n",
       "      <td>0</td>\n",
       "      <td>1</td>\n",
       "      <td>Gateau basque</td>\n",
       "      <td>0</td>\n",
       "      <td>0.0</td>\n",
       "      <td>Je ne sais pas</td>\n",
       "      <td>1</td>\n",
       "      <td>1</td>\n",
       "      <td>5</td>\n",
       "      <td>2.0</td>\n",
       "      <td>0</td>\n",
       "      <td>1</td>\n",
       "      <td>0</td>\n",
       "      <td>0</td>\n",
       "    </tr>\n",
       "    <tr>\n",
       "      <th>1</th>\n",
       "      <td>St Jean</td>\n",
       "      <td>64500.0</td>\n",
       "      <td>3</td>\n",
       "      <td>0</td>\n",
       "      <td>1</td>\n",
       "      <td>Pâtisseries</td>\n",
       "      <td>0</td>\n",
       "      <td>1.0</td>\n",
       "      <td>Je ne sais pas</td>\n",
       "      <td>1</td>\n",
       "      <td>1</td>\n",
       "      <td>5</td>\n",
       "      <td>2.0</td>\n",
       "      <td>0</td>\n",
       "      <td>0</td>\n",
       "      <td>1</td>\n",
       "      <td>0</td>\n",
       "    </tr>\n",
       "    <tr>\n",
       "      <th>2</th>\n",
       "      <td>St Jean</td>\n",
       "      <td>62400.0</td>\n",
       "      <td>2</td>\n",
       "      <td>1</td>\n",
       "      <td>0</td>\n",
       "      <td>Gateau basque chocolat</td>\n",
       "      <td>0</td>\n",
       "      <td>1.0</td>\n",
       "      <td>Gateau basque plus épais</td>\n",
       "      <td>1</td>\n",
       "      <td>0</td>\n",
       "      <td>3</td>\n",
       "      <td>2.0</td>\n",
       "      <td>0</td>\n",
       "      <td>1</td>\n",
       "      <td>0</td>\n",
       "      <td>0</td>\n",
       "    </tr>\n",
       "    <tr>\n",
       "      <th>3</th>\n",
       "      <td>St Jean</td>\n",
       "      <td>33820.0</td>\n",
       "      <td>2</td>\n",
       "      <td>0</td>\n",
       "      <td>0</td>\n",
       "      <td>Viennoiseries Royal Amande</td>\n",
       "      <td>0</td>\n",
       "      <td>2.0</td>\n",
       "      <td>Gateau basque plus épais</td>\n",
       "      <td>0</td>\n",
       "      <td>1</td>\n",
       "      <td>5</td>\n",
       "      <td>2.0</td>\n",
       "      <td>0</td>\n",
       "      <td>0</td>\n",
       "      <td>0</td>\n",
       "      <td>0</td>\n",
       "    </tr>\n",
       "    <tr>\n",
       "      <th>4</th>\n",
       "      <td>St Jean</td>\n",
       "      <td>64210.0</td>\n",
       "      <td>2</td>\n",
       "      <td>0</td>\n",
       "      <td>0</td>\n",
       "      <td>Mouchous amande</td>\n",
       "      <td>0</td>\n",
       "      <td>1.0</td>\n",
       "      <td>Baisser les prix; Diversifier les parfums de g...</td>\n",
       "      <td>1</td>\n",
       "      <td>0</td>\n",
       "      <td>3</td>\n",
       "      <td>2.0</td>\n",
       "      <td>0</td>\n",
       "      <td>0</td>\n",
       "      <td>1</td>\n",
       "      <td>0</td>\n",
       "    </tr>\n",
       "  </tbody>\n",
       "</table>\n",
       "</div>"
      ],
      "text/plain": [
       "  Boutique code postal  \\\n",
       "0  St Jean     31410.0   \n",
       "1  St Jean     64500.0   \n",
       "2  St Jean     62400.0   \n",
       "3  St Jean     33820.0   \n",
       "4  St Jean     64210.0   \n",
       "\n",
       "   Depuis combien de temps êtes vous un client de la Maison Pariès ?  \\\n",
       "0                                                  2                   \n",
       "1                                                  3                   \n",
       "2                                                  2                   \n",
       "3                                                  2                   \n",
       "4                                                  2                   \n",
       "\n",
       "   A quelle fréquence venez-vous nous rendre visite ?  \\\n",
       "0                                                  0    \n",
       "1                                                  0    \n",
       "2                                                  1    \n",
       "3                                                  0    \n",
       "4                                                  0    \n",
       "\n",
       "   Comment nous avez-vous connus ? Quel est le produit que vous préférez ?  \\\n",
       "0                                1                           Gateau basque   \n",
       "1                                1                             Pâtisseries   \n",
       "2                                0                  Gateau basque chocolat   \n",
       "3                                0              Viennoiseries Royal Amande   \n",
       "4                                0                         Mouchous amande   \n",
       "\n",
       "   Avez-vous déjà eu l’occasion de commander nos produits sur notre site en ligne ?  \\\n",
       "0                                                  0                                  \n",
       "1                                                  0                                  \n",
       "2                                                  0                                  \n",
       "3                                                  0                                  \n",
       "4                                                  0                                  \n",
       "\n",
       "   Si vous n'êtes pas de la région, aimeriez-vous pouvoir trouver nos produits à proximité de votre domicile ?  \\\n",
       "0                                                0.0                                                             \n",
       "1                                                1.0                                                             \n",
       "2                                                1.0                                                             \n",
       "3                                                2.0                                                             \n",
       "4                                                1.0                                                             \n",
       "\n",
       "             Que devons-nous faire pour progresser ?  Sexe  \\\n",
       "0                                     Je ne sais pas     1   \n",
       "1                                     Je ne sais pas     1   \n",
       "2                           Gateau basque plus épais     1   \n",
       "3                           Gateau basque plus épais     0   \n",
       "4  Baisser les prix; Diversifier les parfums de g...     1   \n",
       "\n",
       "   Quelle est votre catégorie socio-professionnelle ?  Tranche d'âge  \\\n",
       "0                                                  1               5   \n",
       "1                                                  1               5   \n",
       "2                                                  0               3   \n",
       "3                                                  1               5   \n",
       "4                                                  0               3   \n",
       "\n",
       "   de combien de personnes se compose votre foyer ?  \\\n",
       "0                                               2.0   \n",
       "1                                               2.0   \n",
       "2                                               2.0   \n",
       "3                                               2.0   \n",
       "4                                               2.0   \n",
       "\n",
       "   Êtes-vous abonné à notre newsletter ?  Gateau Basque  Code postal  Chocolat  \n",
       "0                                      0              1            0         0  \n",
       "1                                      0              0            1         0  \n",
       "2                                      0              1            0         0  \n",
       "3                                      0              0            0         0  \n",
       "4                                      0              0            1         0  "
      ]
     },
     "execution_count": 55,
     "metadata": {},
     "output_type": "execute_result"
    }
   ],
   "source": [
    "data_nettoyer.head()"
   ]
  },
  {
   "cell_type": "markdown",
   "id": "1f4765f6",
   "metadata": {},
   "source": [
    "# Fidélité du client en fonction de la fréquence "
   ]
  },
  {
   "cell_type": "markdown",
   "id": "ddb606f2",
   "metadata": {},
   "source": [
    "# Matrice de confusion (Générale)"
   ]
  },
  {
   "cell_type": "code",
   "execution_count": 23,
   "id": "57566761",
   "metadata": {},
   "outputs": [],
   "source": [
    "data_recoder=data_nettoyer[['Depuis combien de temps êtes vous un client de la Maison Pariès ?','A quelle fréquence venez-vous nous rendre visite ?','Avez-vous déjà eu l’occasion de commander nos produits sur notre site en ligne ?',\"Si vous n'êtes pas de la région, aimeriez-vous pouvoir trouver nos produits à proximité de votre domicile ?\",\"Quelle est votre catégorie socio-professionnelle ?\",\"Tranche d'âge\",\"Êtes-vous abonné à notre newsletter ?\",\"Chocolat\",\"Gateau Basque\",\"Code postal\",\"Comment nous avez-vous connus ?\"]]"
   ]
  },
  {
   "cell_type": "code",
   "execution_count": 24,
   "id": "33898db1",
   "metadata": {},
   "outputs": [
    {
     "data": {
      "text/html": [
       "<div>\n",
       "<style scoped>\n",
       "    .dataframe tbody tr th:only-of-type {\n",
       "        vertical-align: middle;\n",
       "    }\n",
       "\n",
       "    .dataframe tbody tr th {\n",
       "        vertical-align: top;\n",
       "    }\n",
       "\n",
       "    .dataframe thead th {\n",
       "        text-align: right;\n",
       "    }\n",
       "</style>\n",
       "<table border=\"1\" class=\"dataframe\">\n",
       "  <thead>\n",
       "    <tr style=\"text-align: right;\">\n",
       "      <th></th>\n",
       "      <th>Depuis combien de temps êtes vous un client de la Maison Pariès ?</th>\n",
       "      <th>A quelle fréquence venez-vous nous rendre visite ?</th>\n",
       "      <th>Avez-vous déjà eu l’occasion de commander nos produits sur notre site en ligne ?</th>\n",
       "      <th>Si vous n'êtes pas de la région, aimeriez-vous pouvoir trouver nos produits à proximité de votre domicile ?</th>\n",
       "      <th>Quelle est votre catégorie socio-professionnelle ?</th>\n",
       "      <th>Tranche d'âge</th>\n",
       "      <th>Êtes-vous abonné à notre newsletter ?</th>\n",
       "      <th>Chocolat</th>\n",
       "      <th>Gateau Basque</th>\n",
       "      <th>Code postal</th>\n",
       "      <th>Comment nous avez-vous connus ?</th>\n",
       "    </tr>\n",
       "  </thead>\n",
       "  <tbody>\n",
       "    <tr>\n",
       "      <th>0</th>\n",
       "      <td>2</td>\n",
       "      <td>0</td>\n",
       "      <td>0</td>\n",
       "      <td>0.0</td>\n",
       "      <td>1</td>\n",
       "      <td>5</td>\n",
       "      <td>0</td>\n",
       "      <td>0</td>\n",
       "      <td>1</td>\n",
       "      <td>0</td>\n",
       "      <td>1</td>\n",
       "    </tr>\n",
       "    <tr>\n",
       "      <th>1</th>\n",
       "      <td>3</td>\n",
       "      <td>0</td>\n",
       "      <td>0</td>\n",
       "      <td>1.0</td>\n",
       "      <td>1</td>\n",
       "      <td>5</td>\n",
       "      <td>0</td>\n",
       "      <td>0</td>\n",
       "      <td>0</td>\n",
       "      <td>1</td>\n",
       "      <td>1</td>\n",
       "    </tr>\n",
       "    <tr>\n",
       "      <th>2</th>\n",
       "      <td>2</td>\n",
       "      <td>1</td>\n",
       "      <td>0</td>\n",
       "      <td>1.0</td>\n",
       "      <td>0</td>\n",
       "      <td>3</td>\n",
       "      <td>0</td>\n",
       "      <td>0</td>\n",
       "      <td>1</td>\n",
       "      <td>0</td>\n",
       "      <td>0</td>\n",
       "    </tr>\n",
       "    <tr>\n",
       "      <th>3</th>\n",
       "      <td>2</td>\n",
       "      <td>0</td>\n",
       "      <td>0</td>\n",
       "      <td>2.0</td>\n",
       "      <td>1</td>\n",
       "      <td>5</td>\n",
       "      <td>0</td>\n",
       "      <td>0</td>\n",
       "      <td>0</td>\n",
       "      <td>0</td>\n",
       "      <td>0</td>\n",
       "    </tr>\n",
       "    <tr>\n",
       "      <th>4</th>\n",
       "      <td>2</td>\n",
       "      <td>0</td>\n",
       "      <td>0</td>\n",
       "      <td>1.0</td>\n",
       "      <td>0</td>\n",
       "      <td>3</td>\n",
       "      <td>0</td>\n",
       "      <td>0</td>\n",
       "      <td>0</td>\n",
       "      <td>1</td>\n",
       "      <td>0</td>\n",
       "    </tr>\n",
       "  </tbody>\n",
       "</table>\n",
       "</div>"
      ],
      "text/plain": [
       "   Depuis combien de temps êtes vous un client de la Maison Pariès ?  \\\n",
       "0                                                  2                   \n",
       "1                                                  3                   \n",
       "2                                                  2                   \n",
       "3                                                  2                   \n",
       "4                                                  2                   \n",
       "\n",
       "   A quelle fréquence venez-vous nous rendre visite ?  \\\n",
       "0                                                  0    \n",
       "1                                                  0    \n",
       "2                                                  1    \n",
       "3                                                  0    \n",
       "4                                                  0    \n",
       "\n",
       "   Avez-vous déjà eu l’occasion de commander nos produits sur notre site en ligne ?  \\\n",
       "0                                                  0                                  \n",
       "1                                                  0                                  \n",
       "2                                                  0                                  \n",
       "3                                                  0                                  \n",
       "4                                                  0                                  \n",
       "\n",
       "   Si vous n'êtes pas de la région, aimeriez-vous pouvoir trouver nos produits à proximité de votre domicile ?  \\\n",
       "0                                                0.0                                                             \n",
       "1                                                1.0                                                             \n",
       "2                                                1.0                                                             \n",
       "3                                                2.0                                                             \n",
       "4                                                1.0                                                             \n",
       "\n",
       "   Quelle est votre catégorie socio-professionnelle ?  Tranche d'âge  \\\n",
       "0                                                  1               5   \n",
       "1                                                  1               5   \n",
       "2                                                  0               3   \n",
       "3                                                  1               5   \n",
       "4                                                  0               3   \n",
       "\n",
       "   Êtes-vous abonné à notre newsletter ?  Chocolat  Gateau Basque  \\\n",
       "0                                      0         0              1   \n",
       "1                                      0         0              0   \n",
       "2                                      0         0              1   \n",
       "3                                      0         0              0   \n",
       "4                                      0         0              0   \n",
       "\n",
       "   Code postal  Comment nous avez-vous connus ?  \n",
       "0            0                                1  \n",
       "1            1                                1  \n",
       "2            0                                0  \n",
       "3            0                                0  \n",
       "4            1                                0  "
      ]
     },
     "execution_count": 24,
     "metadata": {},
     "output_type": "execute_result"
    }
   ],
   "source": [
    "data_recoder.head()"
   ]
  },
  {
   "cell_type": "code",
   "execution_count": 25,
   "id": "44131d96",
   "metadata": {},
   "outputs": [],
   "source": [
    "y= data_recoder[\"A quelle fréquence venez-vous nous rendre visite ?\"]\n",
    "X= data_recoder.drop([\"A quelle fréquence venez-vous nous rendre visite ?\"],axis=1)"
   ]
  },
  {
   "cell_type": "code",
   "execution_count": 26,
   "id": "10dd64e7",
   "metadata": {},
   "outputs": [],
   "source": [
    "modele=tree.DecisionTreeClassifier(max_depth = 3)\n",
    "modele=modele.fit(X,y)"
   ]
  },
  {
   "cell_type": "code",
   "execution_count": 27,
   "id": "0fe458a6",
   "metadata": {},
   "outputs": [],
   "source": [
    "y_pred=modele.predict(X)"
   ]
  },
  {
   "cell_type": "code",
   "execution_count": 28,
   "id": "58b12d44",
   "metadata": {},
   "outputs": [
    {
     "data": {
      "text/plain": [
       "0.7380352644836272"
      ]
     },
     "execution_count": 28,
     "metadata": {},
     "output_type": "execute_result"
    }
   ],
   "source": [
    "modele.score(X,y)"
   ]
  },
  {
   "cell_type": "code",
   "execution_count": 29,
   "id": "15f38da2",
   "metadata": {},
   "outputs": [
    {
     "data": {
      "text/plain": [
       "array([[610, 214],\n",
       "       [ 98, 269]], dtype=int64)"
      ]
     },
     "execution_count": 29,
     "metadata": {},
     "output_type": "execute_result"
    }
   ],
   "source": [
    "confusion_matrix(y,y_pred)"
   ]
  },
  {
   "cell_type": "code",
   "execution_count": 30,
   "id": "09788892",
   "metadata": {},
   "outputs": [
    {
     "data": {
      "text/plain": [
       "array([[0.86158192, 0.44306418],\n",
       "       [0.13841808, 0.55693582]])"
      ]
     },
     "execution_count": 30,
     "metadata": {},
     "output_type": "execute_result"
    }
   ],
   "source": [
    "cm=confusion_matrix(y,y_pred,normalize='pred')\n",
    "cm"
   ]
  },
  {
   "cell_type": "code",
   "execution_count": 31,
   "id": "83c36104",
   "metadata": {},
   "outputs": [],
   "source": [
    "cm_df = pd.DataFrame(cm,index=[\"client non fidèle\",\"client fidèle\"],columns=[\"client non fidèle\",\"client fidèle\"])"
   ]
  },
  {
   "cell_type": "code",
   "execution_count": 32,
   "id": "8f1c8d8c",
   "metadata": {},
   "outputs": [
    {
     "data": {
      "image/png": "[encoded data removed]",
      "text/plain": [
       "<Figure size 700x700 with 2 Axes>"
      ]
     },
     "metadata": {},
     "output_type": "display_data"
    }
   ],
   "source": [
    "plt.figure(figsize=(7,7))\n",
    "sns.heatmap(cm_df,annot=True)\n",
    "plt.title(\"Matrice de Confusion\");"
   ]
  },
  {
   "cell_type": "markdown",
   "id": "b09a89c3",
   "metadata": {},
   "source": [
    "# Arbre de décision (Générale)"
   ]
  },
  {
   "cell_type": "code",
   "execution_count": 33,
   "id": "e678b8b0",
   "metadata": {},
   "outputs": [
    {
     "data": {
      "image/png": "[encoded data removed]",
      "text/plain": [
       "<Figure size 640x480 with 1 Axes>"
      ]
     },
     "metadata": {},
     "output_type": "display_data"
    }
   ],
   "source": [
    "tree.plot_tree(modele);\n",
    "# cest pas si mal maintenant peut etre essayer d'ameliorer le modele => cherche optimisation arbre de décision sur gogole"
   ]
  },
  {
   "cell_type": "markdown",
   "id": "13939767",
   "metadata": {},
   "source": [
    "# Matrice de confusion (Test)"
   ]
  },
  {
   "cell_type": "code",
   "execution_count": 34,
   "id": "3c373af2",
   "metadata": {},
   "outputs": [],
   "source": [
    "X_train, X_test, y_train, y_test = train_test_split(X, y, test_size=0.3, random_state=42)"
   ]
  },
  {
   "cell_type": "code",
   "execution_count": 35,
   "id": "3986f0ae",
   "metadata": {},
   "outputs": [],
   "source": [
    "modele2=tree.DecisionTreeClassifier(max_depth = 3)\n",
    "modele2=modele2.fit(X_train,y_train)"
   ]
  },
  {
   "cell_type": "code",
   "execution_count": 36,
   "id": "510d3365",
   "metadata": {},
   "outputs": [],
   "source": [
    "y_pred2=modele2.predict(X_test)"
   ]
  },
  {
   "cell_type": "code",
   "execution_count": 37,
   "id": "2792885d",
   "metadata": {},
   "outputs": [
    {
     "data": {
      "text/plain": [
       "0.6871508379888268"
      ]
     },
     "execution_count": 37,
     "metadata": {},
     "output_type": "execute_result"
    }
   ],
   "source": [
    "modele2.score(X_test,y_test)"
   ]
  },
  {
   "cell_type": "code",
   "execution_count": 38,
   "id": "e64fd8dc",
   "metadata": {},
   "outputs": [
    {
     "data": {
      "text/plain": [
       "array([[0.71812081, 0.46666667],\n",
       "       [0.28187919, 0.53333333]])"
      ]
     },
     "execution_count": 38,
     "metadata": {},
     "output_type": "execute_result"
    }
   ],
   "source": [
    "cm2=confusion_matrix(y_test,y_pred2,normalize='pred')\n",
    "cm2"
   ]
  },
  {
   "cell_type": "code",
   "execution_count": 39,
   "id": "d9407499",
   "metadata": {},
   "outputs": [],
   "source": [
    "cm2_df = pd.DataFrame(cm2,index=[\"client non fidèle\",\"client fidèle\"],columns=[\"client non fidèle\",\"client fidèle\"])"
   ]
  },
  {
   "cell_type": "code",
   "execution_count": 40,
   "id": "6e5bbbe6",
   "metadata": {},
   "outputs": [
    {
     "data": {
      "image/png": "[encoded data removed]",
      "text/plain": [
       "<Figure size 700x700 with 2 Axes>"
      ]
     },
     "metadata": {},
     "output_type": "display_data"
    }
   ],
   "source": [
    "plt.figure(figsize=(7,7))\n",
    "sns.heatmap(cm2_df,annot=True)\n",
    "plt.title(\"Confusion matrix\");"
   ]
  },
  {
   "cell_type": "markdown",
   "id": "cee6b63a",
   "metadata": {},
   "source": [
    "# Arbre de décision (Test)"
   ]
  },
  {
   "cell_type": "code",
   "execution_count": 41,
   "id": "e9118067",
   "metadata": {},
   "outputs": [
    {
     "data": {
      "image/png": "[encoded data removed]",
      "text/plain": [
       "<Figure size 640x480 with 1 Axes>"
      ]
     },
     "metadata": {},
     "output_type": "display_data"
    }
   ],
   "source": [
    "tree.plot_tree(modele2);\n",
    "# cest pas si mal maintenant peut etre essayer d'ameliorer le modele => cherche optimisation arbre de décision sur gogole"
   ]
  },
  {
   "cell_type": "markdown",
   "id": "c8bb5c15",
   "metadata": {},
   "source": [
    "# Matrice de Confusion (Optimisation du modèle)"
   ]
  },
  {
   "cell_type": "code",
   "execution_count": 42,
   "id": "208b5feb",
   "metadata": {},
   "outputs": [],
   "source": [
    "data_recoder2=data_nettoyer[['Depuis combien de temps êtes vous un client de la Maison Pariès ?','A quelle fréquence venez-vous nous rendre visite ?',\"Tranche d'âge\",\"Chocolat\",\"Gateau Basque\",\"Code postal\",\"Comment nous avez-vous connus ?\",\"Sexe\"]]"
   ]
  },
  {
   "cell_type": "code",
   "execution_count": 43,
   "id": "1be0b4a5",
   "metadata": {},
   "outputs": [
    {
     "data": {
      "text/html": [
       "<div>\n",
       "<style scoped>\n",
       "    .dataframe tbody tr th:only-of-type {\n",
       "        vertical-align: middle;\n",
       "    }\n",
       "\n",
       "    .dataframe tbody tr th {\n",
       "        vertical-align: top;\n",
       "    }\n",
       "\n",
       "    .dataframe thead th {\n",
       "        text-align: right;\n",
       "    }\n",
       "</style>\n",
       "<table border=\"1\" class=\"dataframe\">\n",
       "  <thead>\n",
       "    <tr style=\"text-align: right;\">\n",
       "      <th></th>\n",
       "      <th>Depuis combien de temps êtes vous un client de la Maison Pariès ?</th>\n",
       "      <th>A quelle fréquence venez-vous nous rendre visite ?</th>\n",
       "      <th>Tranche d'âge</th>\n",
       "      <th>Chocolat</th>\n",
       "      <th>Gateau Basque</th>\n",
       "      <th>Code postal</th>\n",
       "      <th>Comment nous avez-vous connus ?</th>\n",
       "      <th>Sexe</th>\n",
       "    </tr>\n",
       "  </thead>\n",
       "  <tbody>\n",
       "    <tr>\n",
       "      <th>0</th>\n",
       "      <td>2</td>\n",
       "      <td>0</td>\n",
       "      <td>5</td>\n",
       "      <td>0</td>\n",
       "      <td>1</td>\n",
       "      <td>0</td>\n",
       "      <td>1</td>\n",
       "      <td>1</td>\n",
       "    </tr>\n",
       "    <tr>\n",
       "      <th>1</th>\n",
       "      <td>3</td>\n",
       "      <td>0</td>\n",
       "      <td>5</td>\n",
       "      <td>0</td>\n",
       "      <td>0</td>\n",
       "      <td>1</td>\n",
       "      <td>1</td>\n",
       "      <td>1</td>\n",
       "    </tr>\n",
       "    <tr>\n",
       "      <th>2</th>\n",
       "      <td>2</td>\n",
       "      <td>1</td>\n",
       "      <td>3</td>\n",
       "      <td>0</td>\n",
       "      <td>1</td>\n",
       "      <td>0</td>\n",
       "      <td>0</td>\n",
       "      <td>1</td>\n",
       "    </tr>\n",
       "    <tr>\n",
       "      <th>3</th>\n",
       "      <td>2</td>\n",
       "      <td>0</td>\n",
       "      <td>5</td>\n",
       "      <td>0</td>\n",
       "      <td>0</td>\n",
       "      <td>0</td>\n",
       "      <td>0</td>\n",
       "      <td>0</td>\n",
       "    </tr>\n",
       "    <tr>\n",
       "      <th>4</th>\n",
       "      <td>2</td>\n",
       "      <td>0</td>\n",
       "      <td>3</td>\n",
       "      <td>0</td>\n",
       "      <td>0</td>\n",
       "      <td>1</td>\n",
       "      <td>0</td>\n",
       "      <td>1</td>\n",
       "    </tr>\n",
       "  </tbody>\n",
       "</table>\n",
       "</div>"
      ],
      "text/plain": [
       "   Depuis combien de temps êtes vous un client de la Maison Pariès ?  \\\n",
       "0                                                  2                   \n",
       "1                                                  3                   \n",
       "2                                                  2                   \n",
       "3                                                  2                   \n",
       "4                                                  2                   \n",
       "\n",
       "   A quelle fréquence venez-vous nous rendre visite ?  Tranche d'âge  \\\n",
       "0                                                  0               5   \n",
       "1                                                  0               5   \n",
       "2                                                  1               3   \n",
       "3                                                  0               5   \n",
       "4                                                  0               3   \n",
       "\n",
       "   Chocolat  Gateau Basque  Code postal  Comment nous avez-vous connus ?  Sexe  \n",
       "0         0              1            0                                1     1  \n",
       "1         0              0            1                                1     1  \n",
       "2         0              1            0                                0     1  \n",
       "3         0              0            0                                0     0  \n",
       "4         0              0            1                                0     1  "
      ]
     },
     "execution_count": 43,
     "metadata": {},
     "output_type": "execute_result"
    }
   ],
   "source": [
    "data_recoder2.head()"
   ]
  },
  {
   "cell_type": "code",
   "execution_count": 44,
   "id": "ee110624",
   "metadata": {},
   "outputs": [],
   "source": [
    "y= data_recoder[\"A quelle fréquence venez-vous nous rendre visite ?\"]\n",
    "X2= data_recoder2.drop([\"A quelle fréquence venez-vous nous rendre visite ?\"],axis=1)"
   ]
  },
  {
   "cell_type": "code",
   "execution_count": 45,
   "id": "6ab056c8",
   "metadata": {},
   "outputs": [],
   "source": [
    "X2_train, X2_test, y2_train, y2_test = train_test_split(X2, y, test_size=0.3, random_state=42)"
   ]
  },
  {
   "cell_type": "code",
   "execution_count": 46,
   "id": "18d3c36e",
   "metadata": {},
   "outputs": [
    {
     "data": {
      "text/plain": [
       "0.6871508379888268"
      ]
     },
     "execution_count": 46,
     "metadata": {},
     "output_type": "execute_result"
    }
   ],
   "source": [
    "modele_op=tree.DecisionTreeClassifier(max_depth = 3)\n",
    "modele_op=modele_op.fit(X2_train,y2_train)\n",
    "y2_pred=modele_op.predict(X2_test)\n",
    "modele_op.score(X2_test,y2_test)"
   ]
  },
  {
   "cell_type": "code",
   "execution_count": 47,
   "id": "88f0fcff",
   "metadata": {},
   "outputs": [
    {
     "data": {
      "text/plain": [
       "array([[0.71812081, 0.46666667],\n",
       "       [0.28187919, 0.53333333]])"
      ]
     },
     "execution_count": 47,
     "metadata": {},
     "output_type": "execute_result"
    }
   ],
   "source": [
    "cm2_op=confusion_matrix(y2_test,y2_pred,normalize='pred')\n",
    "cm2_op_df = pd.DataFrame(cm2_op,index=[\"client non fidèle\",\"client fidèle\"],columns=[\"client non fidèle\",\"client fidèle\"])\n",
    "cm2_op"
   ]
  },
  {
   "cell_type": "code",
   "execution_count": 48,
   "id": "263d3278",
   "metadata": {},
   "outputs": [
    {
     "data": {
      "image/png": "[encoded data removed]",
      "text/plain": [
       "<Figure size 700x700 with 2 Axes>"
      ]
     },
     "metadata": {},
     "output_type": "display_data"
    }
   ],
   "source": [
    "plt.figure(figsize=(7,7))\n",
    "sns.heatmap(cm2_op_df,annot=True)\n",
    "plt.title(\"Confusion matrix\");"
   ]
  },
  {
   "cell_type": "markdown",
   "id": "b704b59f",
   "metadata": {},
   "source": [
    "# Arbre de décision (Optimisation du modèle)"
   ]
  },
  {
   "cell_type": "code",
   "execution_count": 49,
   "id": "678b9e22",
   "metadata": {},
   "outputs": [
    {
     "data": {
      "image/png": "[encoded data removed]",
      "text/plain": [
       "<Figure size 640x480 with 1 Axes>"
      ]
     },
     "metadata": {},
     "output_type": "display_data"
    }
   ],
   "source": [
    "tree.plot_tree(modele_op);\n",
    "# cest pas si mal maintenant peut etre essayer d'ameliorer le modele => cherche optimisation arbre de décision sur gogole"
   ]
  },
  {
   "cell_type": "code",
   "execution_count": null,
   "id": "32e43823",
   "metadata": {},
   "outputs": [],
   "source": []
  }
 ],
 "metadata": {
  "kernelspec": {
   "display_name": "Python 3",
   "language": "python",
   "name": "python3"
  },
  "language_info": {
   "codemirror_mode": {
    "name": "ipython",
    "version": 3
   },
   "file_extension": ".py",
   "mimetype": "text/x-python",
   "name": "python",
   "nbconvert_exporter": "python",
   "pygments_lexer": "ipython3",
   "version": "3.8.12"
  },
  "vscode": {
   "interpreter": {
    "hash": "5283e9d560049f007e44e8880e9053d1b975639cc7fdc028a3537e51bc0080af"
   }
  }
 },
 "nbformat": 4,
 "nbformat_minor": 5
}
