{
 "cells": [
  {
   "attachments": {},
   "cell_type": "markdown",
   "metadata": {},
   "source": [
    "## ARBRE DE DECISION :\n",
    "\n",
    "X = fonction,code postale, boutique \n",
    "\n",
    "y= fréquence de visite "
   ]
  },
  {
   "cell_type": "code",
   "execution_count": 2,
   "metadata": {},
   "outputs": [],
   "source": [
    "import numpy as np\n",
    "import pandas as pd\n",
    "import seaborn as sns\n",
    "import warnings\n",
    "import matplotlib.pyplot as plt\n",
    "from sklearn import tree\n",
    "from matplotlib.ticker import PercentFormatter\n",
    "from pandas_ods_reader import read_ods\n",
    "warnings.filterwarnings('ignore')"
   ]
  },
  {
   "attachments": {},
   "cell_type": "markdown",
   "metadata": {},
   "source": [
    "#### **Recuperation des dataset**"
   ]
  },
  {
   "cell_type": "code",
   "execution_count": 3,
   "metadata": {},
   "outputs": [],
   "source": [
    "#Data session d'hiver: \n",
    "df_s1= pd.read_excel(\"etudfinal1.xlsx\")\n",
    "path = \"./etudfinal.ods\"\n",
    "df_s2 = read_ods(path)"
   ]
  },
  {
   "cell_type": "code",
   "execution_count": 4,
   "metadata": {},
   "outputs": [
    {
     "data": {
      "text/plain": [
       "(245, 26)"
      ]
     },
     "metadata": {},
     "output_type": "display_data"
    },
    {
     "data": {
      "text/plain": [
       "(1191, 27)"
      ]
     },
     "metadata": {},
     "output_type": "display_data"
    }
   ],
   "source": [
    "display(df_s1.shape)\n",
    "display(df_s2.shape)"
   ]
  },
  {
   "cell_type": "code",
   "execution_count": 5,
   "metadata": {},
   "outputs": [],
   "source": [
    "#Dropper toutes les colones non necessaire \n",
    "df_s2 = df_s2.drop([\"de combien de personnes se compose votre foyer ?\",\"14. Dans les grandes évolutions de la consommation, quelles sont les 3 qui vous tiennent le plus à cœur ?\",\"Quel est le dernier produit de la gamme Pariès que vous connaissez ?\",'Horodateur', 'unnamed.1','unnamed.2',\"S'il y a des enfants dans votre foyer, quel âge ont-ils ?\",\"Si non, confiez-moi votre adresse mail pour recevoir notre actualité (moins de 10 mails par an)\"], axis=1)"
   ]
  },
  {
   "cell_type": "code",
   "execution_count": 6,
   "metadata": {},
   "outputs": [
    {
     "data": {
      "text/plain": [
       "(1191, 19)"
      ]
     },
     "metadata": {},
     "output_type": "display_data"
    }
   ],
   "source": [
    "#Verifier les nouvelles dimensions\n",
    "display(df_s2.shape)"
   ]
  },
  {
   "cell_type": "code",
   "execution_count": 7,
   "metadata": {},
   "outputs": [
    {
     "data": {
      "text/plain": [
       "Boutique                                                                                                       1191\n",
       "code postal                                                                                                    1191\n",
       "Depuis combien de temps êtes vous un client de la Maison Pariès ?                                              1191\n",
       "A quelle fréquence venez-vous nous rendre visite ?                                                             1191\n",
       "Comment nous avez-vous connus ?                                                                                1191\n",
       "En 2 mots, comment définiriez-vous la Maison ?                                                                 1191\n",
       "A quelle(s) occasion(s) effectuez-vous des achats chez nous                                                    1191\n",
       "Quel est le produit que vous préférez ?                                                                        1035\n",
       "8. Quels sont les produits de nos gammes que vous achetez chez d’autres artisans ?                             1001\n",
       "Pourquoi ?                                                                                                      605\n",
       "Où achetez-vous nos produits ?                                                                                 1023\n",
       "Avez-vous déjà eu l’occasion de commander nos produits sur notre site en ligne ?                               1191\n",
       "Si vous n'êtes pas de la région, aimeriez-vous pouvoir trouver nos produits à proximité de votre domicile ?     263\n",
       "Pourquoi ?.1                                                                                                    257\n",
       "Que devons-nous faire pour progresser ?                                                                        1006\n",
       "Sexe                                                                                                           1191\n",
       "Quelle est votre catégorie socio-professionnelle ?                                                             1191\n",
       "Tranche d'âge                                                                                                  1191\n",
       "Êtes-vous abonné à notre newsletter ?                                                                          1191\n",
       "dtype: int64"
      ]
     },
     "execution_count": 7,
     "metadata": {},
     "output_type": "execute_result"
    }
   ],
   "source": [
    "#compter les valeurs uniques par colone \n",
    "df_s2.count()"
   ]
  },
  {
   "attachments": {},
   "cell_type": "markdown",
   "metadata": {},
   "source": [
    "#### **Traitement des variables**\n",
    "\n",
    "**1. changer les valeurs intervalles d'age en catégorielle:**\n",
    "  - 65/+  : 5\n",
    "  - 50/64 : 4\n",
    "  - 35/49 : 3\n",
    "  - 25/34 : 2\n",
    "  - 18/24 : 1\n",
    "  - 15 ans & 17 ans  : 0\n",
    "\n",
    " "
   ]
  },
  {
   "cell_type": "code",
   "execution_count": 8,
   "metadata": {},
   "outputs": [],
   "source": [
    "#Renomer le nom de la colone\n",
    "df_s2.rename(columns={\"Tranche d\\'âge\":\"Tranche_age\"},inplace=True)\n",
    "#Rajouter la nouvelle colone Age qui sera modifiée\n",
    "df_s2[\"Age\"]=df_s2[\"Tranche_age\"]"
   ]
  },
  {
   "cell_type": "code",
   "execution_count": 9,
   "metadata": {},
   "outputs": [],
   "source": [
    "#Remplacement par la methode assign()\n",
    "dct_age= {\"15/17\":0, \"18/24\":1,\"25/34\":2,\"35/49\":3,\"50/64\":4,\"65 et +\":5}  \n",
    "df_s2=df_s2.assign(Age=df_s2.Age.map(dct_age))\n"
   ]
  },
  {
   "attachments": {},
   "cell_type": "markdown",
   "metadata": {},
   "source": [
    "**2. Remplacer toutes les occurences de gateau basque & chocolat par des values categorielles = \"0\" & \"1\"**"
   ]
  },
  {
   "cell_type": "code",
   "execution_count": 11,
   "metadata": {},
   "outputs": [],
   "source": [
    "#Trouve toutes les occurences et remplace par True ou false\n",
    "df_s2[\"Gateau_basque\"]= (df_s2[\"8. Quels sont les produits de nos gammes que vous achetez chez d’autres artisans ?\"].str.find(\"Gateau basque\")>=0).astype(int)\n",
    "df_s2[\"Chocolat\"]=(df_s2[\"8. Quels sont les produits de nos gammes que vous achetez chez d’autres artisans ?\"].str.find(\"Chocolat\")>=0).astype(int)"
   ]
  },
  {
   "cell_type": "code",
   "execution_count": 12,
   "metadata": {},
   "outputs": [],
   "source": [
    "#Remplace True par (1) & False par (0)\n",
    "#df_s2[\"Gateau_basque\"] = np.where(df_s2[\"Gateau_basque\"] == \"True\", 0, 1)\n",
    "#df_s2[\"Chocolat\"] = np.where(df_s2[\"Chocolat\"] == \"True\", 0, 1)"
   ]
  },
  {
   "attachments": {},
   "cell_type": "markdown",
   "metadata": {},
   "source": [
    "**3) Transformer les features & target voulues**\n",
    "  - fonction : trois catégories (Fonction =1 ou pas de fonction = 0)\n",
    "  - code \n",
    "  - boutique : A(St_jean), B(Bayone), C(Biarritz), D(Socoa), E(Espelette), Bordeaux(F)"
   ]
  },
  {
   "cell_type": "code",
   "execution_count": null,
   "metadata": {},
   "outputs": [],
   "source": [
    "#code postale : 0 = toutes les autres departements & 1 = departement 64\n",
    "df_s2[\"code_post\"]= (df_s2[\"code postal\"].astype(str).str.find('64',0,2)==0).astype(int)"
   ]
  },
  {
   "cell_type": "code",
   "execution_count": 17,
   "metadata": {},
   "outputs": [],
   "source": [
    "#Remplacement des noms par des categories \n",
    "dct_btik= {\"St Jean\":\"A\", \"Bayone\":\"B\",\"Biarritz\":\"C\",\"Socoa\":\"D\",\"Espelette\":\"E\",\"Bordeaux\":\"F\"}  \n",
    "df_s2=df_s2.assign(Boutique=df_s2.Boutique.map(dct_btik))"
   ]
  },
  {
   "cell_type": "code",
   "execution_count": 28,
   "metadata": {},
   "outputs": [],
   "source": [
    "df_s2[\"fonction\"]= df_s2[[\"Quelle est votre catégorie socio-professionnelle ?\"]]\n",
    "#Remplacement des noms par des categories \n",
    "dct_fction={\"Retraité\":0, \"Cadre et profession intellectuelle supérieure\":1,\"Employé\":1,\n",
    "             \"Profession libérale \":1,\"Etudiant \":0,\"Artisan, commerçant, chef d'entreprise\":1,\n",
    "             \"Profession intermédiaire\":1,\"Sans profession\":0,\"Ouvrier\":1,\"Agriculteur exploitant\":1}  \n",
    "df_s2=df_s2.assign(fonction=df_s2.fonction.map(dct_fction))"
   ]
  },
  {
   "cell_type": "code",
   "execution_count": 29,
   "metadata": {},
   "outputs": [
    {
     "data": {
      "text/plain": [
       "1.0    657\n",
       "0.0    341\n",
       "Name: fonction, dtype: int64"
      ]
     },
     "execution_count": 29,
     "metadata": {},
     "output_type": "execute_result"
    }
   ],
   "source": [
    "df_s2[\"fonction\"].value_counts()"
   ]
  },
  {
   "cell_type": "code",
   "execution_count": 31,
   "metadata": {},
   "outputs": [
    {
     "data": {
      "text/plain": [
       "visite exceptionnelle                    642\n",
       "visite mensuelle                         268\n",
       "C'est la première fois !                 177\n",
       "visite hebdomadaire                       81\n",
       "Tous les 15 jours                         14\n",
       "3 fois par semaine                         2\n",
       "visite exceptionnelle; Surtout en été      1\n",
       "Tous les jours                             1\n",
       "Surtout en été                             1\n",
       "Surtout l'été; Noël                        1\n",
       "Surtout l’été                              1\n",
       "Tous les 2 jours                           1\n",
       "visite exceptionnelle, Surtout en été      1\n",
       "Name: A quelle fréquence venez-vous nous rendre visite ?, dtype: int64"
      ]
     },
     "execution_count": 31,
     "metadata": {},
     "output_type": "execute_result"
    }
   ],
   "source": [
    "df_s2[\"A quelle fréquence venez-vous nous rendre visite ?\"].value_counts()"
   ]
  },
  {
   "cell_type": "code",
   "execution_count": null,
   "metadata": {},
   "outputs": [],
   "source": [
    "#Remplacement des noms par des categories \n",
    "dct_fonction= {\"St Jean\":\"A\", \"Bayone\":\"B\",\"Biarritz\":\"C\",\"Socoa\":\"D\",\"Espelette\":\"E\",\"Bordeaux\":\"F\"}  \n",
    "df_s2=df_s2.assign(Boutique=df_s2.Boutique.map(dct_btik))"
   ]
  },
  {
   "cell_type": "code",
   "execution_count": null,
   "metadata": {},
   "outputs": [],
   "source": [
    "#df_s2['new_col'] = df_s2['code postal'].astype(str).str[0:2]"
   ]
  },
  {
   "cell_type": "code",
   "execution_count": null,
   "metadata": {},
   "outputs": [],
   "source": []
  },
  {
   "cell_type": "markdown",
   "metadata": {},
   "source": []
  },
  {
   "attachments": {},
   "cell_type": "markdown",
   "metadata": {},
   "source": [
    "#### **Decision Trees model**\n",
    "  - features (X) : Age, code postale, \n",
    "  - Target (y): Fidele(1) ou non Fidele(0) "
   ]
  },
  {
   "cell_type": "code",
   "execution_count": null,
   "metadata": {},
   "outputs": [],
   "source": [
    "y= np.repeat([0,1],len(df_s2.index)/2)\n",
    "#a = np.array([1,1])\n",
    "y = np.append(y,1)\n",
    "y_fturs =pd.DataFrame(y)\n",
    "#df_s2[\"y\"]=y"
   ]
  },
  {
   "cell_type": "code",
   "execution_count": null,
   "metadata": {},
   "outputs": [],
   "source": [
    "X_fturs=df_s2[[\"Age\",\"Gateau_basque\",\"Chocolat\"]]"
   ]
  },
  {
   "cell_type": "code",
   "execution_count": null,
   "metadata": {},
   "outputs": [],
   "source": [
    "X, y = X_fturs, y_fturs\n",
    "clf = tree.DecisionTreeClassifier()\n",
    "clf = clf.fit(X, y)"
   ]
  },
  {
   "cell_type": "code",
   "execution_count": null,
   "metadata": {},
   "outputs": [
    {
     "data": {
      "text/plain": [
       "array([1])"
      ]
     },
     "execution_count": 24,
     "metadata": {},
     "output_type": "execute_result"
    }
   ],
   "source": [
    "clf.predict([[3,1,0]])"
   ]
  },
  {
   "cell_type": "code",
   "execution_count": null,
   "metadata": {},
   "outputs": [
    {
     "data": {
      "image/png": "[encoded data removed]",
      "text/plain": [
       "<Figure size 432x288 with 1 Axes>"
      ]
     },
     "metadata": {
      "needs_background": "light"
     },
     "output_type": "display_data"
    }
   ],
   "source": [
    "tree.plot_tree(clf);"
   ]
  },
  {
   "cell_type": "code",
   "execution_count": null,
   "metadata": {},
   "outputs": [],
   "source": []
  }
 ],
 "metadata": {
  "kernelspec": {
   "display_name": "simplon",
   "language": "python",
   "name": "python3"
  },
  "language_info": {
   "codemirror_mode": {
    "name": "ipython",
    "version": 3
   },
   "file_extension": ".py",
   "mimetype": "text/x-python",
   "name": "python",
   "nbconvert_exporter": "python",
   "pygments_lexer": "ipython3",
   "version": "3.8.12"
  },
  "orig_nbformat": 4,
  "vscode": {
   "interpreter": {
    "hash": "3f60fb8f4f2143c90727abd9ceba479862570e4059d0b95f97a6718e5487b7aa"
   }
  }
 },
 "nbformat": 4,
 "nbformat_minor": 2
}
